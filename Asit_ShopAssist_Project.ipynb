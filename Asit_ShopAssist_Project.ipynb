{
  "nbformat": 4,
  "nbformat_minor": 0,
  "metadata": {
    "colab": {
      "provenance": []
    },
    "kernelspec": {
      "name": "python3",
      "display_name": "Python 3"
    },
    "language_info": {
      "name": "python"
    }
  },
  "cells": [
    {
      "cell_type": "code",
      "execution_count": 1,
      "metadata": {
        "colab": {
          "base_uri": "https://localhost:8080/"
        },
        "id": "G8wDBhXiU5ji",
        "outputId": "9968560a-41ac-4303-e19c-e8ac7e0ec6bb"
      },
      "outputs": [
        {
          "output_type": "stream",
          "name": "stdout",
          "text": [
            "\u001b[2K     \u001b[90m━━━━━━━━━━━━━━━━━━━━━━━━━━━━━━━━━━━━━━━━\u001b[0m \u001b[32m328.5/328.5 kB\u001b[0m \u001b[31m3.2 MB/s\u001b[0m eta \u001b[36m0:00:00\u001b[0m\n",
            "\u001b[2K     \u001b[90m━━━━━━━━━━━━━━━━━━━━━━━━━━━━━━━━━━━━━━━━\u001b[0m \u001b[32m75.6/75.6 kB\u001b[0m \u001b[31m4.1 MB/s\u001b[0m eta \u001b[36m0:00:00\u001b[0m\n",
            "\u001b[2K     \u001b[90m━━━━━━━━━━━━━━━━━━━━━━━━━━━━━━━━━━━━━━━━\u001b[0m \u001b[32m77.9/77.9 kB\u001b[0m \u001b[31m3.9 MB/s\u001b[0m eta \u001b[36m0:00:00\u001b[0m\n",
            "\u001b[2K     \u001b[90m━━━━━━━━━━━━━━━━━━━━━━━━━━━━━━━━━━━━━━━━\u001b[0m \u001b[32m58.3/58.3 kB\u001b[0m \u001b[31m1.9 MB/s\u001b[0m eta \u001b[36m0:00:00\u001b[0m\n",
            "\u001b[?25h"
          ]
        }
      ],
      "source": [
        "# Install OpenAI library\n",
        "!pip install -U -q openai tenacity"
      ]
    },
    {
      "cell_type": "code",
      "source": [
        "from google.colab import drive\n",
        "drive.mount('/content/drive')"
      ],
      "metadata": {
        "colab": {
          "base_uri": "https://localhost:8080/"
        },
        "id": "yzhndScfbUMj",
        "outputId": "887a264e-49f6-49ad-ecd5-70dea0d24a56"
      },
      "execution_count": 2,
      "outputs": [
        {
          "output_type": "stream",
          "name": "stdout",
          "text": [
            "Mounted at /content/drive\n"
          ]
        }
      ]
    },
    {
      "cell_type": "code",
      "source": [
        "filepath = '/content/drive/MyDrive/ACP-Gen-AI-C9/ACPGENAI/3Module/3aModule/ShopAssist_Data+Demo/'"
      ],
      "metadata": {
        "id": "ulCrB5webdNX"
      },
      "execution_count": 3,
      "outputs": []
    },
    {
      "cell_type": "code",
      "source": [
        "# linux command to print all files in a directory\n",
        "!ls \"/content/drive/MyDrive/ACP-Gen-AI-C9/ACPGENAI/3Module/3aModule/ShopAssist_Data+Demo/\""
      ],
      "metadata": {
        "colab": {
          "base_uri": "https://localhost:8080/"
        },
        "id": "_IRc5BdDboUH",
        "outputId": "d36be8c6-a75d-4adc-b5ca-b260ebe56a51"
      },
      "execution_count": 4,
      "outputs": [
        {
          "output_type": "stream",
          "name": "stdout",
          "text": [
            " Asit-ShopAssist-Project.ipynb   ShopAssistAI_Demonstration_Complete_v2.ipynb\n",
            " laptop_data.csv\t\t    ShopAssistAI_Demonstration_v2_Stage1.ipynb\n",
            "'Live Session - Starter Notebook'  'ShopAssist Reading Material.pdf'\n",
            " OpenAI_API_Key.txt\t\t    system_design.png\n"
          ]
        }
      ]
    },
    {
      "cell_type": "code",
      "source": [
        "import os\n",
        "os.chdir('/content/drive/MyDrive/ACP-Gen-AI-C9/ACPGENAI/3Module/3aModule/ShopAssist_Data+Demo/')\n",
        "!ls"
      ],
      "metadata": {
        "colab": {
          "base_uri": "https://localhost:8080/"
        },
        "id": "dP7V3wa0bsKg",
        "outputId": "0cdce943-b8b5-4d6c-b1f8-93b32f087edf"
      },
      "execution_count": 5,
      "outputs": [
        {
          "output_type": "stream",
          "name": "stdout",
          "text": [
            " Asit-ShopAssist-Project.ipynb   ShopAssistAI_Demonstration_Complete_v2.ipynb\n",
            " laptop_data.csv\t\t    ShopAssistAI_Demonstration_v2_Stage1.ipynb\n",
            "'Live Session - Starter Notebook'  'ShopAssist Reading Material.pdf'\n",
            " OpenAI_API_Key.txt\t\t    system_design.png\n"
          ]
        }
      ]
    },
    {
      "cell_type": "code",
      "source": [
        "# Import the libraries\n",
        "import pandas as pd\n",
        "from IPython.display import display, HTML\n",
        "# Set the display width to control the output width\n",
        "pd.set_option('display.width', 100)\n",
        "# Read the dataset and read the Laptop Dataset\n",
        "df = pd.read_csv('laptop_data.csv')\n",
        "df"
      ],
      "metadata": {
        "colab": {
          "base_uri": "https://localhost:8080/",
          "height": 1000
        },
        "id": "mQIkj8A3b07K",
        "outputId": "7f33351d-f726-49bd-a25c-6d0351a6e9be"
      },
      "execution_count": 6,
      "outputs": [
        {
          "output_type": "execute_result",
          "data": {
            "text/plain": [
              "        Brand          Model Name     Core CPU Manufacturer Clock Speed RAM Size Storage Type  \\\n",
              "0        Dell            Inspiron       i5            Intel     2.4 GHz      8GB          SSD   \n",
              "1         MSI                GL65       i7            Intel     2.6 GHz     16GB      HDD+SSD   \n",
              "2          HP           EliteBook       i7            Intel     2.8 GHz     16GB          SSD   \n",
              "3      Lenovo             IdeaPad       i3            Intel     2.1 GHz      8GB          HDD   \n",
              "4        ASUS         ZenBook Pro       i9            Intel     3.1 GHz     64GB          SSD   \n",
              "5        Acer            Predator       i7            Intel     2.8 GHz     16GB          SSD   \n",
              "6   Microsoft      Surface Laptop       i5            Intel     1.6 GHz      8GB          SSD   \n",
              "7      Lenovo            ThinkPad  Ryzen 7              AMD     3.0 GHz     16GB          SSD   \n",
              "8          HP            Pavilion       i5            Intel     2.3 GHz     12GB          HDD   \n",
              "9        ASUS         ROG Strix G       i7            Intel     2.9 GHz     16GB          SSD   \n",
              "10       Dell              XPS 15       i9            Intel     2.8 GHz     32GB          SSD   \n",
              "11     Lenovo  ThinkPad X1 Carbon       i7            Intel     2.6 GHz     16GB          SSD   \n",
              "12       Acer             Swift 3  Ryzen 5              AMD     2.3 GHz      8GB          SSD   \n",
              "13      Apple         MacBook Air       M1            Apple     3.2 GHz     16GB          SSD   \n",
              "14        MSI         Prestige 14       i5            Intel     2.4 GHz     16GB          SSD   \n",
              "15       ASUS          ZenBook 13       i7            Intel     2.8 GHz     16GB          SSD   \n",
              "16       Dell      Precision 5550     Xeon            Intel     2.6 GHz     32GB          SSD   \n",
              "17         HP           ENVY x360       i7            Intel     2.8 GHz     16GB          SSD   \n",
              "18      Razer            Blade 15       i7            Intel     2.6 GHz     16GB          SSD   \n",
              "19      Apple         MacBook Pro       i9            Intel     2.9 GHz     32GB          SSD   \n",
              "\n",
              "   Display Type Display Size Graphics Processor Screen Resolution          OS Laptop Weight  \\\n",
              "0           LCD        15.6\"          Intel UHD         1920x1080  Windows 10        2.5 kg   \n",
              "1           IPS        15.6\"         NVIDIA GTX         1920x1080  Windows 10        2.3 kg   \n",
              "2           LED          14\"          Intel UHD         1920x1080  Windows 11        1.5 kg   \n",
              "3            TN        15.6\"          Intel UHD          1366x768  Windows 10        2.2 kg   \n",
              "4          OLED        15.6\"         NVIDIA RTX         3840x2160  Windows 10        1.8 kg   \n",
              "5           IPS        17.3\"         NVIDIA GTX         1920x1080  Windows 10        3.2 kg   \n",
              "6    PixelSense        13.5\"    Intel Iris Plus         2256x1504  Windows 11        1.3 kg   \n",
              "7           IPS          14\"         NVIDIA GTX         2560x1440       Linux        1.6 kg   \n",
              "8           LCD        15.6\"          Intel UHD          1366x768  Windows 10        2.1 kg   \n",
              "9           IPS        17.3\"         NVIDIA RTX         1920x1080  Windows 10        2.9 kg   \n",
              "10         OLED        15.6\"         NVIDIA GTX         3840x2160  Windows 11        1.8 kg   \n",
              "11          IPS          14\"          Intel UHD         2560x1440  Windows 10       1.13 kg   \n",
              "12          IPS          14\"         AMD Radeon         1920x1080  Windows 11        1.2 kg   \n",
              "13       Retina        13.3\"           Apple M1         2560x1600       macOS       1.29 kg   \n",
              "14          IPS          14\"         NVIDIA GTX         1920x1080  Windows 10       1.29 kg   \n",
              "15     NanoEdge        13.3\"      Intel Iris Xe         1920x1080  Windows 11       1.11 kg   \n",
              "16         OLED        15.6\"      NVIDIA Quadro         3840x2160      Ubuntu       1.83 kg   \n",
              "17          IPS        15.6\"      Intel Iris Xe         1920x1080  Windows 10       2.05 kg   \n",
              "18          IPS        15.6\"         NVIDIA RTX         1920x1080  Windows 11       2.09 kg   \n",
              "19       Retina          16\"         AMD Radeon         3072x1920       macOS       2.02 kg   \n",
              "\n",
              "              Special Features Warranty Average Battery Life    Price  \\\n",
              "0             Backlit Keyboard   1 year              6 hours   35,000   \n",
              "1                 RGB Keyboard  2 years              4 hours   55,000   \n",
              "2           Fingerprint Sensor  3 years              8 hours   90,000   \n",
              "3                  Dolby Audio   1 year              5 hours   25,000   \n",
              "4             NanoEdge Display  2 years              7 hours  200,000   \n",
              "5            Dual Cooling Fans   1 year              5 hours   80,000   \n",
              "6          Touchscreen Display   1 year             10 hours   90,000   \n",
              "7             Backlit Keyboard  3 years              6 hours   60,000   \n",
              "8                    B&O Audio   1 year              4 hours   30,000   \n",
              "9       Aura Sync RGB Keyboard  2 years              5 hours   85,000   \n",
              "10       Adobe RGB color gamut  3 years              8 hours  180,000   \n",
              "11   IR Camera for Face Unlock  3 years             12 hours  130,000   \n",
              "12          Fingerprint Reader   1 year              9 hours   50,000   \n",
              "13                    Touch ID  3 years             14 hours  100,000   \n",
              "14       True Color Technology  2 years              8 hours   70,000   \n",
              "15   Military-Grade Durability  2 years             11 hours   95,000   \n",
              "16  Thunderbolt 3 Connectivity  3 years              6 hours  250,000   \n",
              "17   2-in-1 Convertible Design   1 year              7 hours   80,000   \n",
              "18         Chroma RGB Keyboard   1 year              6 hours  150,000   \n",
              "19           True Tone Display  3 years             10 hours  280,000   \n",
              "\n",
              "                                          Description  \n",
              "0   The Dell Inspiron is a versatile laptop that c...  \n",
              "1   The MSI GL65 is a high-performance laptop desi...  \n",
              "2   The HP EliteBook is a premium laptop designed ...  \n",
              "3   The Lenovo IdeaPad is a versatile laptop that ...  \n",
              "4   The ASUS ZenBook Pro is a high-end laptop that...  \n",
              "5   The Acer Predator is a powerhouse laptop desig...  \n",
              "6   The Microsoft Surface Laptop is a premium devi...  \n",
              "7   The Lenovo ThinkPad is a powerful laptop desig...  \n",
              "8   The HP Pavilion is a budget-friendly laptop th...  \n",
              "9   The ASUS ROG Strix G is a high-performance gam...  \n",
              "10  The Dell XPS 15 is a premium laptop that combi...  \n",
              "11  The Lenovo ThinkPad X1 Carbon is a sleek and l...  \n",
              "12  The Acer Swift 3 is a lightweight and affordab...  \n",
              "13  The Apple MacBook Air is a sleek and lightweig...  \n",
              "14  The MSI Prestige 14 is a compact and stylish l...  \n",
              "15  The ASUS ZenBook 13 is a lightweight and power...  \n",
              "16  The Dell Precision 5550 is a high-performance ...  \n",
              "17  The HP ENVY x360 is a versatile 2-in-1 convert...  \n",
              "18  The Razer Blade 15 is a high-performance gamin...  \n",
              "19  The Apple MacBook Pro is a high-end laptop tha...  "
            ],
            "text/html": [
              "\n",
              "  <div id=\"df-add03169-2162-45e6-b3a0-2f944ae09d0d\" class=\"colab-df-container\">\n",
              "    <div>\n",
              "<style scoped>\n",
              "    .dataframe tbody tr th:only-of-type {\n",
              "        vertical-align: middle;\n",
              "    }\n",
              "\n",
              "    .dataframe tbody tr th {\n",
              "        vertical-align: top;\n",
              "    }\n",
              "\n",
              "    .dataframe thead th {\n",
              "        text-align: right;\n",
              "    }\n",
              "</style>\n",
              "<table border=\"1\" class=\"dataframe\">\n",
              "  <thead>\n",
              "    <tr style=\"text-align: right;\">\n",
              "      <th></th>\n",
              "      <th>Brand</th>\n",
              "      <th>Model Name</th>\n",
              "      <th>Core</th>\n",
              "      <th>CPU Manufacturer</th>\n",
              "      <th>Clock Speed</th>\n",
              "      <th>RAM Size</th>\n",
              "      <th>Storage Type</th>\n",
              "      <th>Display Type</th>\n",
              "      <th>Display Size</th>\n",
              "      <th>Graphics Processor</th>\n",
              "      <th>Screen Resolution</th>\n",
              "      <th>OS</th>\n",
              "      <th>Laptop Weight</th>\n",
              "      <th>Special Features</th>\n",
              "      <th>Warranty</th>\n",
              "      <th>Average Battery Life</th>\n",
              "      <th>Price</th>\n",
              "      <th>Description</th>\n",
              "    </tr>\n",
              "  </thead>\n",
              "  <tbody>\n",
              "    <tr>\n",
              "      <th>0</th>\n",
              "      <td>Dell</td>\n",
              "      <td>Inspiron</td>\n",
              "      <td>i5</td>\n",
              "      <td>Intel</td>\n",
              "      <td>2.4 GHz</td>\n",
              "      <td>8GB</td>\n",
              "      <td>SSD</td>\n",
              "      <td>LCD</td>\n",
              "      <td>15.6\"</td>\n",
              "      <td>Intel UHD</td>\n",
              "      <td>1920x1080</td>\n",
              "      <td>Windows 10</td>\n",
              "      <td>2.5 kg</td>\n",
              "      <td>Backlit Keyboard</td>\n",
              "      <td>1 year</td>\n",
              "      <td>6 hours</td>\n",
              "      <td>35,000</td>\n",
              "      <td>The Dell Inspiron is a versatile laptop that c...</td>\n",
              "    </tr>\n",
              "    <tr>\n",
              "      <th>1</th>\n",
              "      <td>MSI</td>\n",
              "      <td>GL65</td>\n",
              "      <td>i7</td>\n",
              "      <td>Intel</td>\n",
              "      <td>2.6 GHz</td>\n",
              "      <td>16GB</td>\n",
              "      <td>HDD+SSD</td>\n",
              "      <td>IPS</td>\n",
              "      <td>15.6\"</td>\n",
              "      <td>NVIDIA GTX</td>\n",
              "      <td>1920x1080</td>\n",
              "      <td>Windows 10</td>\n",
              "      <td>2.3 kg</td>\n",
              "      <td>RGB Keyboard</td>\n",
              "      <td>2 years</td>\n",
              "      <td>4 hours</td>\n",
              "      <td>55,000</td>\n",
              "      <td>The MSI GL65 is a high-performance laptop desi...</td>\n",
              "    </tr>\n",
              "    <tr>\n",
              "      <th>2</th>\n",
              "      <td>HP</td>\n",
              "      <td>EliteBook</td>\n",
              "      <td>i7</td>\n",
              "      <td>Intel</td>\n",
              "      <td>2.8 GHz</td>\n",
              "      <td>16GB</td>\n",
              "      <td>SSD</td>\n",
              "      <td>LED</td>\n",
              "      <td>14\"</td>\n",
              "      <td>Intel UHD</td>\n",
              "      <td>1920x1080</td>\n",
              "      <td>Windows 11</td>\n",
              "      <td>1.5 kg</td>\n",
              "      <td>Fingerprint Sensor</td>\n",
              "      <td>3 years</td>\n",
              "      <td>8 hours</td>\n",
              "      <td>90,000</td>\n",
              "      <td>The HP EliteBook is a premium laptop designed ...</td>\n",
              "    </tr>\n",
              "    <tr>\n",
              "      <th>3</th>\n",
              "      <td>Lenovo</td>\n",
              "      <td>IdeaPad</td>\n",
              "      <td>i3</td>\n",
              "      <td>Intel</td>\n",
              "      <td>2.1 GHz</td>\n",
              "      <td>8GB</td>\n",
              "      <td>HDD</td>\n",
              "      <td>TN</td>\n",
              "      <td>15.6\"</td>\n",
              "      <td>Intel UHD</td>\n",
              "      <td>1366x768</td>\n",
              "      <td>Windows 10</td>\n",
              "      <td>2.2 kg</td>\n",
              "      <td>Dolby Audio</td>\n",
              "      <td>1 year</td>\n",
              "      <td>5 hours</td>\n",
              "      <td>25,000</td>\n",
              "      <td>The Lenovo IdeaPad is a versatile laptop that ...</td>\n",
              "    </tr>\n",
              "    <tr>\n",
              "      <th>4</th>\n",
              "      <td>ASUS</td>\n",
              "      <td>ZenBook Pro</td>\n",
              "      <td>i9</td>\n",
              "      <td>Intel</td>\n",
              "      <td>3.1 GHz</td>\n",
              "      <td>64GB</td>\n",
              "      <td>SSD</td>\n",
              "      <td>OLED</td>\n",
              "      <td>15.6\"</td>\n",
              "      <td>NVIDIA RTX</td>\n",
              "      <td>3840x2160</td>\n",
              "      <td>Windows 10</td>\n",
              "      <td>1.8 kg</td>\n",
              "      <td>NanoEdge Display</td>\n",
              "      <td>2 years</td>\n",
              "      <td>7 hours</td>\n",
              "      <td>200,000</td>\n",
              "      <td>The ASUS ZenBook Pro is a high-end laptop that...</td>\n",
              "    </tr>\n",
              "    <tr>\n",
              "      <th>5</th>\n",
              "      <td>Acer</td>\n",
              "      <td>Predator</td>\n",
              "      <td>i7</td>\n",
              "      <td>Intel</td>\n",
              "      <td>2.8 GHz</td>\n",
              "      <td>16GB</td>\n",
              "      <td>SSD</td>\n",
              "      <td>IPS</td>\n",
              "      <td>17.3\"</td>\n",
              "      <td>NVIDIA GTX</td>\n",
              "      <td>1920x1080</td>\n",
              "      <td>Windows 10</td>\n",
              "      <td>3.2 kg</td>\n",
              "      <td>Dual Cooling Fans</td>\n",
              "      <td>1 year</td>\n",
              "      <td>5 hours</td>\n",
              "      <td>80,000</td>\n",
              "      <td>The Acer Predator is a powerhouse laptop desig...</td>\n",
              "    </tr>\n",
              "    <tr>\n",
              "      <th>6</th>\n",
              "      <td>Microsoft</td>\n",
              "      <td>Surface Laptop</td>\n",
              "      <td>i5</td>\n",
              "      <td>Intel</td>\n",
              "      <td>1.6 GHz</td>\n",
              "      <td>8GB</td>\n",
              "      <td>SSD</td>\n",
              "      <td>PixelSense</td>\n",
              "      <td>13.5\"</td>\n",
              "      <td>Intel Iris Plus</td>\n",
              "      <td>2256x1504</td>\n",
              "      <td>Windows 11</td>\n",
              "      <td>1.3 kg</td>\n",
              "      <td>Touchscreen Display</td>\n",
              "      <td>1 year</td>\n",
              "      <td>10 hours</td>\n",
              "      <td>90,000</td>\n",
              "      <td>The Microsoft Surface Laptop is a premium devi...</td>\n",
              "    </tr>\n",
              "    <tr>\n",
              "      <th>7</th>\n",
              "      <td>Lenovo</td>\n",
              "      <td>ThinkPad</td>\n",
              "      <td>Ryzen 7</td>\n",
              "      <td>AMD</td>\n",
              "      <td>3.0 GHz</td>\n",
              "      <td>16GB</td>\n",
              "      <td>SSD</td>\n",
              "      <td>IPS</td>\n",
              "      <td>14\"</td>\n",
              "      <td>NVIDIA GTX</td>\n",
              "      <td>2560x1440</td>\n",
              "      <td>Linux</td>\n",
              "      <td>1.6 kg</td>\n",
              "      <td>Backlit Keyboard</td>\n",
              "      <td>3 years</td>\n",
              "      <td>6 hours</td>\n",
              "      <td>60,000</td>\n",
              "      <td>The Lenovo ThinkPad is a powerful laptop desig...</td>\n",
              "    </tr>\n",
              "    <tr>\n",
              "      <th>8</th>\n",
              "      <td>HP</td>\n",
              "      <td>Pavilion</td>\n",
              "      <td>i5</td>\n",
              "      <td>Intel</td>\n",
              "      <td>2.3 GHz</td>\n",
              "      <td>12GB</td>\n",
              "      <td>HDD</td>\n",
              "      <td>LCD</td>\n",
              "      <td>15.6\"</td>\n",
              "      <td>Intel UHD</td>\n",
              "      <td>1366x768</td>\n",
              "      <td>Windows 10</td>\n",
              "      <td>2.1 kg</td>\n",
              "      <td>B&amp;O Audio</td>\n",
              "      <td>1 year</td>\n",
              "      <td>4 hours</td>\n",
              "      <td>30,000</td>\n",
              "      <td>The HP Pavilion is a budget-friendly laptop th...</td>\n",
              "    </tr>\n",
              "    <tr>\n",
              "      <th>9</th>\n",
              "      <td>ASUS</td>\n",
              "      <td>ROG Strix G</td>\n",
              "      <td>i7</td>\n",
              "      <td>Intel</td>\n",
              "      <td>2.9 GHz</td>\n",
              "      <td>16GB</td>\n",
              "      <td>SSD</td>\n",
              "      <td>IPS</td>\n",
              "      <td>17.3\"</td>\n",
              "      <td>NVIDIA RTX</td>\n",
              "      <td>1920x1080</td>\n",
              "      <td>Windows 10</td>\n",
              "      <td>2.9 kg</td>\n",
              "      <td>Aura Sync RGB Keyboard</td>\n",
              "      <td>2 years</td>\n",
              "      <td>5 hours</td>\n",
              "      <td>85,000</td>\n",
              "      <td>The ASUS ROG Strix G is a high-performance gam...</td>\n",
              "    </tr>\n",
              "    <tr>\n",
              "      <th>10</th>\n",
              "      <td>Dell</td>\n",
              "      <td>XPS 15</td>\n",
              "      <td>i9</td>\n",
              "      <td>Intel</td>\n",
              "      <td>2.8 GHz</td>\n",
              "      <td>32GB</td>\n",
              "      <td>SSD</td>\n",
              "      <td>OLED</td>\n",
              "      <td>15.6\"</td>\n",
              "      <td>NVIDIA GTX</td>\n",
              "      <td>3840x2160</td>\n",
              "      <td>Windows 11</td>\n",
              "      <td>1.8 kg</td>\n",
              "      <td>Adobe RGB color gamut</td>\n",
              "      <td>3 years</td>\n",
              "      <td>8 hours</td>\n",
              "      <td>180,000</td>\n",
              "      <td>The Dell XPS 15 is a premium laptop that combi...</td>\n",
              "    </tr>\n",
              "    <tr>\n",
              "      <th>11</th>\n",
              "      <td>Lenovo</td>\n",
              "      <td>ThinkPad X1 Carbon</td>\n",
              "      <td>i7</td>\n",
              "      <td>Intel</td>\n",
              "      <td>2.6 GHz</td>\n",
              "      <td>16GB</td>\n",
              "      <td>SSD</td>\n",
              "      <td>IPS</td>\n",
              "      <td>14\"</td>\n",
              "      <td>Intel UHD</td>\n",
              "      <td>2560x1440</td>\n",
              "      <td>Windows 10</td>\n",
              "      <td>1.13 kg</td>\n",
              "      <td>IR Camera for Face Unlock</td>\n",
              "      <td>3 years</td>\n",
              "      <td>12 hours</td>\n",
              "      <td>130,000</td>\n",
              "      <td>The Lenovo ThinkPad X1 Carbon is a sleek and l...</td>\n",
              "    </tr>\n",
              "    <tr>\n",
              "      <th>12</th>\n",
              "      <td>Acer</td>\n",
              "      <td>Swift 3</td>\n",
              "      <td>Ryzen 5</td>\n",
              "      <td>AMD</td>\n",
              "      <td>2.3 GHz</td>\n",
              "      <td>8GB</td>\n",
              "      <td>SSD</td>\n",
              "      <td>IPS</td>\n",
              "      <td>14\"</td>\n",
              "      <td>AMD Radeon</td>\n",
              "      <td>1920x1080</td>\n",
              "      <td>Windows 11</td>\n",
              "      <td>1.2 kg</td>\n",
              "      <td>Fingerprint Reader</td>\n",
              "      <td>1 year</td>\n",
              "      <td>9 hours</td>\n",
              "      <td>50,000</td>\n",
              "      <td>The Acer Swift 3 is a lightweight and affordab...</td>\n",
              "    </tr>\n",
              "    <tr>\n",
              "      <th>13</th>\n",
              "      <td>Apple</td>\n",
              "      <td>MacBook Air</td>\n",
              "      <td>M1</td>\n",
              "      <td>Apple</td>\n",
              "      <td>3.2 GHz</td>\n",
              "      <td>16GB</td>\n",
              "      <td>SSD</td>\n",
              "      <td>Retina</td>\n",
              "      <td>13.3\"</td>\n",
              "      <td>Apple M1</td>\n",
              "      <td>2560x1600</td>\n",
              "      <td>macOS</td>\n",
              "      <td>1.29 kg</td>\n",
              "      <td>Touch ID</td>\n",
              "      <td>3 years</td>\n",
              "      <td>14 hours</td>\n",
              "      <td>100,000</td>\n",
              "      <td>The Apple MacBook Air is a sleek and lightweig...</td>\n",
              "    </tr>\n",
              "    <tr>\n",
              "      <th>14</th>\n",
              "      <td>MSI</td>\n",
              "      <td>Prestige 14</td>\n",
              "      <td>i5</td>\n",
              "      <td>Intel</td>\n",
              "      <td>2.4 GHz</td>\n",
              "      <td>16GB</td>\n",
              "      <td>SSD</td>\n",
              "      <td>IPS</td>\n",
              "      <td>14\"</td>\n",
              "      <td>NVIDIA GTX</td>\n",
              "      <td>1920x1080</td>\n",
              "      <td>Windows 10</td>\n",
              "      <td>1.29 kg</td>\n",
              "      <td>True Color Technology</td>\n",
              "      <td>2 years</td>\n",
              "      <td>8 hours</td>\n",
              "      <td>70,000</td>\n",
              "      <td>The MSI Prestige 14 is a compact and stylish l...</td>\n",
              "    </tr>\n",
              "    <tr>\n",
              "      <th>15</th>\n",
              "      <td>ASUS</td>\n",
              "      <td>ZenBook 13</td>\n",
              "      <td>i7</td>\n",
              "      <td>Intel</td>\n",
              "      <td>2.8 GHz</td>\n",
              "      <td>16GB</td>\n",
              "      <td>SSD</td>\n",
              "      <td>NanoEdge</td>\n",
              "      <td>13.3\"</td>\n",
              "      <td>Intel Iris Xe</td>\n",
              "      <td>1920x1080</td>\n",
              "      <td>Windows 11</td>\n",
              "      <td>1.11 kg</td>\n",
              "      <td>Military-Grade Durability</td>\n",
              "      <td>2 years</td>\n",
              "      <td>11 hours</td>\n",
              "      <td>95,000</td>\n",
              "      <td>The ASUS ZenBook 13 is a lightweight and power...</td>\n",
              "    </tr>\n",
              "    <tr>\n",
              "      <th>16</th>\n",
              "      <td>Dell</td>\n",
              "      <td>Precision 5550</td>\n",
              "      <td>Xeon</td>\n",
              "      <td>Intel</td>\n",
              "      <td>2.6 GHz</td>\n",
              "      <td>32GB</td>\n",
              "      <td>SSD</td>\n",
              "      <td>OLED</td>\n",
              "      <td>15.6\"</td>\n",
              "      <td>NVIDIA Quadro</td>\n",
              "      <td>3840x2160</td>\n",
              "      <td>Ubuntu</td>\n",
              "      <td>1.83 kg</td>\n",
              "      <td>Thunderbolt 3 Connectivity</td>\n",
              "      <td>3 years</td>\n",
              "      <td>6 hours</td>\n",
              "      <td>250,000</td>\n",
              "      <td>The Dell Precision 5550 is a high-performance ...</td>\n",
              "    </tr>\n",
              "    <tr>\n",
              "      <th>17</th>\n",
              "      <td>HP</td>\n",
              "      <td>ENVY x360</td>\n",
              "      <td>i7</td>\n",
              "      <td>Intel</td>\n",
              "      <td>2.8 GHz</td>\n",
              "      <td>16GB</td>\n",
              "      <td>SSD</td>\n",
              "      <td>IPS</td>\n",
              "      <td>15.6\"</td>\n",
              "      <td>Intel Iris Xe</td>\n",
              "      <td>1920x1080</td>\n",
              "      <td>Windows 10</td>\n",
              "      <td>2.05 kg</td>\n",
              "      <td>2-in-1 Convertible Design</td>\n",
              "      <td>1 year</td>\n",
              "      <td>7 hours</td>\n",
              "      <td>80,000</td>\n",
              "      <td>The HP ENVY x360 is a versatile 2-in-1 convert...</td>\n",
              "    </tr>\n",
              "    <tr>\n",
              "      <th>18</th>\n",
              "      <td>Razer</td>\n",
              "      <td>Blade 15</td>\n",
              "      <td>i7</td>\n",
              "      <td>Intel</td>\n",
              "      <td>2.6 GHz</td>\n",
              "      <td>16GB</td>\n",
              "      <td>SSD</td>\n",
              "      <td>IPS</td>\n",
              "      <td>15.6\"</td>\n",
              "      <td>NVIDIA RTX</td>\n",
              "      <td>1920x1080</td>\n",
              "      <td>Windows 11</td>\n",
              "      <td>2.09 kg</td>\n",
              "      <td>Chroma RGB Keyboard</td>\n",
              "      <td>1 year</td>\n",
              "      <td>6 hours</td>\n",
              "      <td>150,000</td>\n",
              "      <td>The Razer Blade 15 is a high-performance gamin...</td>\n",
              "    </tr>\n",
              "    <tr>\n",
              "      <th>19</th>\n",
              "      <td>Apple</td>\n",
              "      <td>MacBook Pro</td>\n",
              "      <td>i9</td>\n",
              "      <td>Intel</td>\n",
              "      <td>2.9 GHz</td>\n",
              "      <td>32GB</td>\n",
              "      <td>SSD</td>\n",
              "      <td>Retina</td>\n",
              "      <td>16\"</td>\n",
              "      <td>AMD Radeon</td>\n",
              "      <td>3072x1920</td>\n",
              "      <td>macOS</td>\n",
              "      <td>2.02 kg</td>\n",
              "      <td>True Tone Display</td>\n",
              "      <td>3 years</td>\n",
              "      <td>10 hours</td>\n",
              "      <td>280,000</td>\n",
              "      <td>The Apple MacBook Pro is a high-end laptop tha...</td>\n",
              "    </tr>\n",
              "  </tbody>\n",
              "</table>\n",
              "</div>\n",
              "    <div class=\"colab-df-buttons\">\n",
              "\n",
              "  <div class=\"colab-df-container\">\n",
              "    <button class=\"colab-df-convert\" onclick=\"convertToInteractive('df-add03169-2162-45e6-b3a0-2f944ae09d0d')\"\n",
              "            title=\"Convert this dataframe to an interactive table.\"\n",
              "            style=\"display:none;\">\n",
              "\n",
              "  <svg xmlns=\"http://www.w3.org/2000/svg\" height=\"24px\" viewBox=\"0 -960 960 960\">\n",
              "    <path d=\"M120-120v-720h720v720H120Zm60-500h600v-160H180v160Zm220 220h160v-160H400v160Zm0 220h160v-160H400v160ZM180-400h160v-160H180v160Zm440 0h160v-160H620v160ZM180-180h160v-160H180v160Zm440 0h160v-160H620v160Z\"/>\n",
              "  </svg>\n",
              "    </button>\n",
              "\n",
              "  <style>\n",
              "    .colab-df-container {\n",
              "      display:flex;\n",
              "      gap: 12px;\n",
              "    }\n",
              "\n",
              "    .colab-df-convert {\n",
              "      background-color: #E8F0FE;\n",
              "      border: none;\n",
              "      border-radius: 50%;\n",
              "      cursor: pointer;\n",
              "      display: none;\n",
              "      fill: #1967D2;\n",
              "      height: 32px;\n",
              "      padding: 0 0 0 0;\n",
              "      width: 32px;\n",
              "    }\n",
              "\n",
              "    .colab-df-convert:hover {\n",
              "      background-color: #E2EBFA;\n",
              "      box-shadow: 0px 1px 2px rgba(60, 64, 67, 0.3), 0px 1px 3px 1px rgba(60, 64, 67, 0.15);\n",
              "      fill: #174EA6;\n",
              "    }\n",
              "\n",
              "    .colab-df-buttons div {\n",
              "      margin-bottom: 4px;\n",
              "    }\n",
              "\n",
              "    [theme=dark] .colab-df-convert {\n",
              "      background-color: #3B4455;\n",
              "      fill: #D2E3FC;\n",
              "    }\n",
              "\n",
              "    [theme=dark] .colab-df-convert:hover {\n",
              "      background-color: #434B5C;\n",
              "      box-shadow: 0px 1px 3px 1px rgba(0, 0, 0, 0.15);\n",
              "      filter: drop-shadow(0px 1px 2px rgba(0, 0, 0, 0.3));\n",
              "      fill: #FFFFFF;\n",
              "    }\n",
              "  </style>\n",
              "\n",
              "    <script>\n",
              "      const buttonEl =\n",
              "        document.querySelector('#df-add03169-2162-45e6-b3a0-2f944ae09d0d button.colab-df-convert');\n",
              "      buttonEl.style.display =\n",
              "        google.colab.kernel.accessAllowed ? 'block' : 'none';\n",
              "\n",
              "      async function convertToInteractive(key) {\n",
              "        const element = document.querySelector('#df-add03169-2162-45e6-b3a0-2f944ae09d0d');\n",
              "        const dataTable =\n",
              "          await google.colab.kernel.invokeFunction('convertToInteractive',\n",
              "                                                    [key], {});\n",
              "        if (!dataTable) return;\n",
              "\n",
              "        const docLinkHtml = 'Like what you see? Visit the ' +\n",
              "          '<a target=\"_blank\" href=https://colab.research.google.com/notebooks/data_table.ipynb>data table notebook</a>'\n",
              "          + ' to learn more about interactive tables.';\n",
              "        element.innerHTML = '';\n",
              "        dataTable['output_type'] = 'display_data';\n",
              "        await google.colab.output.renderOutput(dataTable, element);\n",
              "        const docLink = document.createElement('div');\n",
              "        docLink.innerHTML = docLinkHtml;\n",
              "        element.appendChild(docLink);\n",
              "      }\n",
              "    </script>\n",
              "  </div>\n",
              "\n",
              "\n",
              "<div id=\"df-50ce6391-d96e-4474-b1d6-74df36d71bad\">\n",
              "  <button class=\"colab-df-quickchart\" onclick=\"quickchart('df-50ce6391-d96e-4474-b1d6-74df36d71bad')\"\n",
              "            title=\"Suggest charts\"\n",
              "            style=\"display:none;\">\n",
              "\n",
              "<svg xmlns=\"http://www.w3.org/2000/svg\" height=\"24px\"viewBox=\"0 0 24 24\"\n",
              "     width=\"24px\">\n",
              "    <g>\n",
              "        <path d=\"M19 3H5c-1.1 0-2 .9-2 2v14c0 1.1.9 2 2 2h14c1.1 0 2-.9 2-2V5c0-1.1-.9-2-2-2zM9 17H7v-7h2v7zm4 0h-2V7h2v10zm4 0h-2v-4h2v4z\"/>\n",
              "    </g>\n",
              "</svg>\n",
              "  </button>\n",
              "\n",
              "<style>\n",
              "  .colab-df-quickchart {\n",
              "      --bg-color: #E8F0FE;\n",
              "      --fill-color: #1967D2;\n",
              "      --hover-bg-color: #E2EBFA;\n",
              "      --hover-fill-color: #174EA6;\n",
              "      --disabled-fill-color: #AAA;\n",
              "      --disabled-bg-color: #DDD;\n",
              "  }\n",
              "\n",
              "  [theme=dark] .colab-df-quickchart {\n",
              "      --bg-color: #3B4455;\n",
              "      --fill-color: #D2E3FC;\n",
              "      --hover-bg-color: #434B5C;\n",
              "      --hover-fill-color: #FFFFFF;\n",
              "      --disabled-bg-color: #3B4455;\n",
              "      --disabled-fill-color: #666;\n",
              "  }\n",
              "\n",
              "  .colab-df-quickchart {\n",
              "    background-color: var(--bg-color);\n",
              "    border: none;\n",
              "    border-radius: 50%;\n",
              "    cursor: pointer;\n",
              "    display: none;\n",
              "    fill: var(--fill-color);\n",
              "    height: 32px;\n",
              "    padding: 0;\n",
              "    width: 32px;\n",
              "  }\n",
              "\n",
              "  .colab-df-quickchart:hover {\n",
              "    background-color: var(--hover-bg-color);\n",
              "    box-shadow: 0 1px 2px rgba(60, 64, 67, 0.3), 0 1px 3px 1px rgba(60, 64, 67, 0.15);\n",
              "    fill: var(--button-hover-fill-color);\n",
              "  }\n",
              "\n",
              "  .colab-df-quickchart-complete:disabled,\n",
              "  .colab-df-quickchart-complete:disabled:hover {\n",
              "    background-color: var(--disabled-bg-color);\n",
              "    fill: var(--disabled-fill-color);\n",
              "    box-shadow: none;\n",
              "  }\n",
              "\n",
              "  .colab-df-spinner {\n",
              "    border: 2px solid var(--fill-color);\n",
              "    border-color: transparent;\n",
              "    border-bottom-color: var(--fill-color);\n",
              "    animation:\n",
              "      spin 1s steps(1) infinite;\n",
              "  }\n",
              "\n",
              "  @keyframes spin {\n",
              "    0% {\n",
              "      border-color: transparent;\n",
              "      border-bottom-color: var(--fill-color);\n",
              "      border-left-color: var(--fill-color);\n",
              "    }\n",
              "    20% {\n",
              "      border-color: transparent;\n",
              "      border-left-color: var(--fill-color);\n",
              "      border-top-color: var(--fill-color);\n",
              "    }\n",
              "    30% {\n",
              "      border-color: transparent;\n",
              "      border-left-color: var(--fill-color);\n",
              "      border-top-color: var(--fill-color);\n",
              "      border-right-color: var(--fill-color);\n",
              "    }\n",
              "    40% {\n",
              "      border-color: transparent;\n",
              "      border-right-color: var(--fill-color);\n",
              "      border-top-color: var(--fill-color);\n",
              "    }\n",
              "    60% {\n",
              "      border-color: transparent;\n",
              "      border-right-color: var(--fill-color);\n",
              "    }\n",
              "    80% {\n",
              "      border-color: transparent;\n",
              "      border-right-color: var(--fill-color);\n",
              "      border-bottom-color: var(--fill-color);\n",
              "    }\n",
              "    90% {\n",
              "      border-color: transparent;\n",
              "      border-bottom-color: var(--fill-color);\n",
              "    }\n",
              "  }\n",
              "</style>\n",
              "\n",
              "  <script>\n",
              "    async function quickchart(key) {\n",
              "      const quickchartButtonEl =\n",
              "        document.querySelector('#' + key + ' button');\n",
              "      quickchartButtonEl.disabled = true;  // To prevent multiple clicks.\n",
              "      quickchartButtonEl.classList.add('colab-df-spinner');\n",
              "      try {\n",
              "        const charts = await google.colab.kernel.invokeFunction(\n",
              "            'suggestCharts', [key], {});\n",
              "      } catch (error) {\n",
              "        console.error('Error during call to suggestCharts:', error);\n",
              "      }\n",
              "      quickchartButtonEl.classList.remove('colab-df-spinner');\n",
              "      quickchartButtonEl.classList.add('colab-df-quickchart-complete');\n",
              "    }\n",
              "    (() => {\n",
              "      let quickchartButtonEl =\n",
              "        document.querySelector('#df-50ce6391-d96e-4474-b1d6-74df36d71bad button');\n",
              "      quickchartButtonEl.style.display =\n",
              "        google.colab.kernel.accessAllowed ? 'block' : 'none';\n",
              "    })();\n",
              "  </script>\n",
              "</div>\n",
              "\n",
              "  <div id=\"id_dea8cb29-1303-4f9f-9f14-3f143a70055c\">\n",
              "    <style>\n",
              "      .colab-df-generate {\n",
              "        background-color: #E8F0FE;\n",
              "        border: none;\n",
              "        border-radius: 50%;\n",
              "        cursor: pointer;\n",
              "        display: none;\n",
              "        fill: #1967D2;\n",
              "        height: 32px;\n",
              "        padding: 0 0 0 0;\n",
              "        width: 32px;\n",
              "      }\n",
              "\n",
              "      .colab-df-generate:hover {\n",
              "        background-color: #E2EBFA;\n",
              "        box-shadow: 0px 1px 2px rgba(60, 64, 67, 0.3), 0px 1px 3px 1px rgba(60, 64, 67, 0.15);\n",
              "        fill: #174EA6;\n",
              "      }\n",
              "\n",
              "      [theme=dark] .colab-df-generate {\n",
              "        background-color: #3B4455;\n",
              "        fill: #D2E3FC;\n",
              "      }\n",
              "\n",
              "      [theme=dark] .colab-df-generate:hover {\n",
              "        background-color: #434B5C;\n",
              "        box-shadow: 0px 1px 3px 1px rgba(0, 0, 0, 0.15);\n",
              "        filter: drop-shadow(0px 1px 2px rgba(0, 0, 0, 0.3));\n",
              "        fill: #FFFFFF;\n",
              "      }\n",
              "    </style>\n",
              "    <button class=\"colab-df-generate\" onclick=\"generateWithVariable('df')\"\n",
              "            title=\"Generate code using this dataframe.\"\n",
              "            style=\"display:none;\">\n",
              "\n",
              "  <svg xmlns=\"http://www.w3.org/2000/svg\" height=\"24px\"viewBox=\"0 0 24 24\"\n",
              "       width=\"24px\">\n",
              "    <path d=\"M7,19H8.4L18.45,9,17,7.55,7,17.6ZM5,21V16.75L18.45,3.32a2,2,0,0,1,2.83,0l1.4,1.43a1.91,1.91,0,0,1,.58,1.4,1.91,1.91,0,0,1-.58,1.4L9.25,21ZM18.45,9,17,7.55Zm-12,3A5.31,5.31,0,0,0,4.9,8.1,5.31,5.31,0,0,0,1,6.5,5.31,5.31,0,0,0,4.9,4.9,5.31,5.31,0,0,0,6.5,1,5.31,5.31,0,0,0,8.1,4.9,5.31,5.31,0,0,0,12,6.5,5.46,5.46,0,0,0,6.5,12Z\"/>\n",
              "  </svg>\n",
              "    </button>\n",
              "    <script>\n",
              "      (() => {\n",
              "      const buttonEl =\n",
              "        document.querySelector('#id_dea8cb29-1303-4f9f-9f14-3f143a70055c button.colab-df-generate');\n",
              "      buttonEl.style.display =\n",
              "        google.colab.kernel.accessAllowed ? 'block' : 'none';\n",
              "\n",
              "      buttonEl.onclick = () => {\n",
              "        google.colab.notebook.generateWithVariable('df');\n",
              "      }\n",
              "      })();\n",
              "    </script>\n",
              "  </div>\n",
              "\n",
              "    </div>\n",
              "  </div>\n"
            ],
            "application/vnd.google.colaboratory.intrinsic+json": {
              "type": "dataframe",
              "variable_name": "df",
              "summary": "{\n  \"name\": \"df\",\n  \"rows\": 20,\n  \"fields\": [\n    {\n      \"column\": \"Brand\",\n      \"properties\": {\n        \"dtype\": \"category\",\n        \"num_unique_values\": 9,\n        \"samples\": [\n          \"Apple\",\n          \"MSI\",\n          \"Acer\"\n        ],\n        \"semantic_type\": \"\",\n        \"description\": \"\"\n      }\n    },\n    {\n      \"column\": \"Model Name\",\n      \"properties\": {\n        \"dtype\": \"string\",\n        \"num_unique_values\": 20,\n        \"samples\": [\n          \"Inspiron\",\n          \"ENVY x360\",\n          \"ZenBook 13\"\n        ],\n        \"semantic_type\": \"\",\n        \"description\": \"\"\n      }\n    },\n    {\n      \"column\": \"Core\",\n      \"properties\": {\n        \"dtype\": \"category\",\n        \"num_unique_values\": 8,\n        \"samples\": [\n          \"i7\",\n          \"Ryzen 5\",\n          \"i5\"\n        ],\n        \"semantic_type\": \"\",\n        \"description\": \"\"\n      }\n    },\n    {\n      \"column\": \"CPU Manufacturer\",\n      \"properties\": {\n        \"dtype\": \"category\",\n        \"num_unique_values\": 3,\n        \"samples\": [\n          \"Intel\",\n          \"AMD\",\n          \"Apple\"\n        ],\n        \"semantic_type\": \"\",\n        \"description\": \"\"\n      }\n    },\n    {\n      \"column\": \"Clock Speed\",\n      \"properties\": {\n        \"dtype\": \"string\",\n        \"num_unique_values\": 10,\n        \"samples\": [\n          \"2.9 GHz\",\n          \"2.6 GHz\",\n          \"1.6 GHz\"\n        ],\n        \"semantic_type\": \"\",\n        \"description\": \"\"\n      }\n    },\n    {\n      \"column\": \"RAM Size\",\n      \"properties\": {\n        \"dtype\": \"category\",\n        \"num_unique_values\": 5,\n        \"samples\": [\n          \"16GB\",\n          \"32GB\",\n          \"64GB\"\n        ],\n        \"semantic_type\": \"\",\n        \"description\": \"\"\n      }\n    },\n    {\n      \"column\": \"Storage Type\",\n      \"properties\": {\n        \"dtype\": \"category\",\n        \"num_unique_values\": 3,\n        \"samples\": [\n          \"SSD\",\n          \"HDD+SSD\",\n          \"HDD\"\n        ],\n        \"semantic_type\": \"\",\n        \"description\": \"\"\n      }\n    },\n    {\n      \"column\": \"Display Type\",\n      \"properties\": {\n        \"dtype\": \"category\",\n        \"num_unique_values\": 8,\n        \"samples\": [\n          \"IPS\",\n          \"PixelSense\",\n          \"LCD\"\n        ],\n        \"semantic_type\": \"\",\n        \"description\": \"\"\n      }\n    },\n    {\n      \"column\": \"Display Size\",\n      \"properties\": {\n        \"dtype\": \"category\",\n        \"num_unique_values\": 6,\n        \"samples\": [\n          \"15.6\\\"\",\n          \"14\\\"\",\n          \"16\\\"\"\n        ],\n        \"semantic_type\": \"\",\n        \"description\": \"\"\n      }\n    },\n    {\n      \"column\": \"Graphics Processor\",\n      \"properties\": {\n        \"dtype\": \"category\",\n        \"num_unique_values\": 8,\n        \"samples\": [\n          \"NVIDIA GTX\",\n          \"Apple M1\",\n          \"Intel UHD\"\n        ],\n        \"semantic_type\": \"\",\n        \"description\": \"\"\n      }\n    },\n    {\n      \"column\": \"Screen Resolution\",\n      \"properties\": {\n        \"dtype\": \"category\",\n        \"num_unique_values\": 7,\n        \"samples\": [\n          \"1920x1080\",\n          \"1366x768\",\n          \"2560x1600\"\n        ],\n        \"semantic_type\": \"\",\n        \"description\": \"\"\n      }\n    },\n    {\n      \"column\": \"OS\",\n      \"properties\": {\n        \"dtype\": \"category\",\n        \"num_unique_values\": 5,\n        \"samples\": [\n          \"Windows 11\",\n          \"Ubuntu\",\n          \"Linux\"\n        ],\n        \"semantic_type\": \"\",\n        \"description\": \"\"\n      }\n    },\n    {\n      \"column\": \"Laptop Weight\",\n      \"properties\": {\n        \"dtype\": \"string\",\n        \"num_unique_values\": 18,\n        \"samples\": [\n          \"2.5 kg\",\n          \"2.3 kg\",\n          \"2.1 kg\"\n        ],\n        \"semantic_type\": \"\",\n        \"description\": \"\"\n      }\n    },\n    {\n      \"column\": \"Special Features\",\n      \"properties\": {\n        \"dtype\": \"string\",\n        \"num_unique_values\": 19,\n        \"samples\": [\n          \"Backlit Keyboard\",\n          \"Dual Cooling Fans\",\n          \"Fingerprint Reader\"\n        ],\n        \"semantic_type\": \"\",\n        \"description\": \"\"\n      }\n    },\n    {\n      \"column\": \"Warranty\",\n      \"properties\": {\n        \"dtype\": \"category\",\n        \"num_unique_values\": 3,\n        \"samples\": [\n          \"1 year\",\n          \"2 years\",\n          \"3 years\"\n        ],\n        \"semantic_type\": \"\",\n        \"description\": \"\"\n      }\n    },\n    {\n      \"column\": \"Average Battery Life\",\n      \"properties\": {\n        \"dtype\": \"string\",\n        \"num_unique_values\": 10,\n        \"samples\": [\n          \"14 hours\",\n          \"4 hours\",\n          \"10 hours\"\n        ],\n        \"semantic_type\": \"\",\n        \"description\": \"\"\n      }\n    },\n    {\n      \"column\": \"Price\",\n      \"properties\": {\n        \"dtype\": \"string\",\n        \"num_unique_values\": 18,\n        \"samples\": [\n          \"35,000\",\n          \"55,000\",\n          \"85,000\"\n        ],\n        \"semantic_type\": \"\",\n        \"description\": \"\"\n      }\n    },\n    {\n      \"column\": \"Description\",\n      \"properties\": {\n        \"dtype\": \"string\",\n        \"num_unique_values\": 20,\n        \"samples\": [\n          \"The Dell Inspiron is a versatile laptop that combines powerful performance and affordability. It features an Intel Core i5 processor clocked at 2.4 GHz, ensuring smooth multitasking and efficient computing. With 8GB of RAM and an SSD, it offers quick data access and ample storage capacity. The laptop sports a vibrant 15.6\\\" LCD display with a resolution of 1920x1080, delivering crisp visuals and immersive viewing experience. Weighing just 2.5 kg, it is highly portable, making it ideal for on-the-go usage. Additionally, it boasts an Intel UHD GPU for decent graphical performance and a backlit keyboard for enhanced typing convenience. With a one-year warranty and a battery life of up to 6 hours, the Dell Inspiron is a reliable companion for work or entertainment. All these features are packed at an affordable price of 35,000, making it an excellent choice for budget-conscious users.\",\n          \"The HP ENVY x360 is a versatile 2-in-1 convertible laptop that combines performance and flexibility. It features an Intel Core i7 processor running at 2.8 GHz, providing powerful processing capabilities for multitasking and productivity. With 16GB of RAM and an SSD, it offers fast and efficient performance along with ample storage space. The laptop features a 15.6\\\" IPS display with a resolution of 1920x1080, delivering vibrant visuals and wide viewing angles. It comes with Intel Iris Xe integrated graphics for smooth graphics performance. Weighing 2.05 kg, it offers a good balance between portability and functionality. The laptop features a convertible design, allowing you to switch between laptop and tablet modes for enhanced versatility. With a one-year warranty and a battery life of up to 7 hours, the HP ENVY x360 offers reliability and endurance for everyday use. Priced at 80,000, it provides a versatile computing experience at an affordable price point.\",\n          \"The ASUS ZenBook 13 is a lightweight and powerful laptop that offers a premium computing experience. It is equipped with an Intel Core i7 processor running at 2.8 GHz, providing strong processing power for multitasking and productivity. With 16GB of RAM and an SSD, it offers fast and responsive performance along with ample storage capacity. The laptop features a 13.3\\\" NanoEdge display with a resolution of 1920x1080, delivering crisp visuals and immersive viewing. It comes with Intel Iris Xe integrated graphics for smooth graphics performance. Weighing just 1.11 kg, it is incredibly lightweight and highly portable. The laptop features military-grade durability, ensuring durability and reliability. With a two-year warranty and an impressive battery life of up to 11 hours, the ASUS ZenBook 13 offers long-lasting performance and endurance. Priced at 95,000, it provides a premium experience for users seeking a powerful and lightweight laptop.\"\n        ],\n        \"semantic_type\": \"\",\n        \"description\": \"\"\n      }\n    }\n  ]\n}"
            }
          },
          "metadata": {},
          "execution_count": 6
        }
      ]
    },
    {
      "cell_type": "code",
      "source": [
        "# Display the first few rows of the dataset\n",
        "display(df.head())"
      ],
      "metadata": {
        "colab": {
          "base_uri": "https://localhost:8080/",
          "height": 310
        },
        "id": "DqssvZ0rcIwX",
        "outputId": "9a108949-3c89-45d4-bd78-8f1dc5c18d5d"
      },
      "execution_count": 7,
      "outputs": [
        {
          "output_type": "display_data",
          "data": {
            "text/plain": [
              "    Brand   Model Name Core CPU Manufacturer Clock Speed RAM Size Storage Type Display Type  \\\n",
              "0    Dell     Inspiron   i5            Intel     2.4 GHz      8GB          SSD          LCD   \n",
              "1     MSI         GL65   i7            Intel     2.6 GHz     16GB      HDD+SSD          IPS   \n",
              "2      HP    EliteBook   i7            Intel     2.8 GHz     16GB          SSD          LED   \n",
              "3  Lenovo      IdeaPad   i3            Intel     2.1 GHz      8GB          HDD           TN   \n",
              "4    ASUS  ZenBook Pro   i9            Intel     3.1 GHz     64GB          SSD         OLED   \n",
              "\n",
              "  Display Size Graphics Processor Screen Resolution          OS Laptop Weight    Special Features  \\\n",
              "0        15.6\"          Intel UHD         1920x1080  Windows 10        2.5 kg    Backlit Keyboard   \n",
              "1        15.6\"         NVIDIA GTX         1920x1080  Windows 10        2.3 kg        RGB Keyboard   \n",
              "2          14\"          Intel UHD         1920x1080  Windows 11        1.5 kg  Fingerprint Sensor   \n",
              "3        15.6\"          Intel UHD          1366x768  Windows 10        2.2 kg         Dolby Audio   \n",
              "4        15.6\"         NVIDIA RTX         3840x2160  Windows 10        1.8 kg    NanoEdge Display   \n",
              "\n",
              "  Warranty Average Battery Life    Price                                        Description  \n",
              "0   1 year              6 hours   35,000  The Dell Inspiron is a versatile laptop that c...  \n",
              "1  2 years              4 hours   55,000  The MSI GL65 is a high-performance laptop desi...  \n",
              "2  3 years              8 hours   90,000  The HP EliteBook is a premium laptop designed ...  \n",
              "3   1 year              5 hours   25,000  The Lenovo IdeaPad is a versatile laptop that ...  \n",
              "4  2 years              7 hours  200,000  The ASUS ZenBook Pro is a high-end laptop that...  "
            ],
            "text/html": [
              "\n",
              "  <div id=\"df-6b71f653-a3fa-4ee2-b4b7-f674d211f80d\" class=\"colab-df-container\">\n",
              "    <div>\n",
              "<style scoped>\n",
              "    .dataframe tbody tr th:only-of-type {\n",
              "        vertical-align: middle;\n",
              "    }\n",
              "\n",
              "    .dataframe tbody tr th {\n",
              "        vertical-align: top;\n",
              "    }\n",
              "\n",
              "    .dataframe thead th {\n",
              "        text-align: right;\n",
              "    }\n",
              "</style>\n",
              "<table border=\"1\" class=\"dataframe\">\n",
              "  <thead>\n",
              "    <tr style=\"text-align: right;\">\n",
              "      <th></th>\n",
              "      <th>Brand</th>\n",
              "      <th>Model Name</th>\n",
              "      <th>Core</th>\n",
              "      <th>CPU Manufacturer</th>\n",
              "      <th>Clock Speed</th>\n",
              "      <th>RAM Size</th>\n",
              "      <th>Storage Type</th>\n",
              "      <th>Display Type</th>\n",
              "      <th>Display Size</th>\n",
              "      <th>Graphics Processor</th>\n",
              "      <th>Screen Resolution</th>\n",
              "      <th>OS</th>\n",
              "      <th>Laptop Weight</th>\n",
              "      <th>Special Features</th>\n",
              "      <th>Warranty</th>\n",
              "      <th>Average Battery Life</th>\n",
              "      <th>Price</th>\n",
              "      <th>Description</th>\n",
              "    </tr>\n",
              "  </thead>\n",
              "  <tbody>\n",
              "    <tr>\n",
              "      <th>0</th>\n",
              "      <td>Dell</td>\n",
              "      <td>Inspiron</td>\n",
              "      <td>i5</td>\n",
              "      <td>Intel</td>\n",
              "      <td>2.4 GHz</td>\n",
              "      <td>8GB</td>\n",
              "      <td>SSD</td>\n",
              "      <td>LCD</td>\n",
              "      <td>15.6\"</td>\n",
              "      <td>Intel UHD</td>\n",
              "      <td>1920x1080</td>\n",
              "      <td>Windows 10</td>\n",
              "      <td>2.5 kg</td>\n",
              "      <td>Backlit Keyboard</td>\n",
              "      <td>1 year</td>\n",
              "      <td>6 hours</td>\n",
              "      <td>35,000</td>\n",
              "      <td>The Dell Inspiron is a versatile laptop that c...</td>\n",
              "    </tr>\n",
              "    <tr>\n",
              "      <th>1</th>\n",
              "      <td>MSI</td>\n",
              "      <td>GL65</td>\n",
              "      <td>i7</td>\n",
              "      <td>Intel</td>\n",
              "      <td>2.6 GHz</td>\n",
              "      <td>16GB</td>\n",
              "      <td>HDD+SSD</td>\n",
              "      <td>IPS</td>\n",
              "      <td>15.6\"</td>\n",
              "      <td>NVIDIA GTX</td>\n",
              "      <td>1920x1080</td>\n",
              "      <td>Windows 10</td>\n",
              "      <td>2.3 kg</td>\n",
              "      <td>RGB Keyboard</td>\n",
              "      <td>2 years</td>\n",
              "      <td>4 hours</td>\n",
              "      <td>55,000</td>\n",
              "      <td>The MSI GL65 is a high-performance laptop desi...</td>\n",
              "    </tr>\n",
              "    <tr>\n",
              "      <th>2</th>\n",
              "      <td>HP</td>\n",
              "      <td>EliteBook</td>\n",
              "      <td>i7</td>\n",
              "      <td>Intel</td>\n",
              "      <td>2.8 GHz</td>\n",
              "      <td>16GB</td>\n",
              "      <td>SSD</td>\n",
              "      <td>LED</td>\n",
              "      <td>14\"</td>\n",
              "      <td>Intel UHD</td>\n",
              "      <td>1920x1080</td>\n",
              "      <td>Windows 11</td>\n",
              "      <td>1.5 kg</td>\n",
              "      <td>Fingerprint Sensor</td>\n",
              "      <td>3 years</td>\n",
              "      <td>8 hours</td>\n",
              "      <td>90,000</td>\n",
              "      <td>The HP EliteBook is a premium laptop designed ...</td>\n",
              "    </tr>\n",
              "    <tr>\n",
              "      <th>3</th>\n",
              "      <td>Lenovo</td>\n",
              "      <td>IdeaPad</td>\n",
              "      <td>i3</td>\n",
              "      <td>Intel</td>\n",
              "      <td>2.1 GHz</td>\n",
              "      <td>8GB</td>\n",
              "      <td>HDD</td>\n",
              "      <td>TN</td>\n",
              "      <td>15.6\"</td>\n",
              "      <td>Intel UHD</td>\n",
              "      <td>1366x768</td>\n",
              "      <td>Windows 10</td>\n",
              "      <td>2.2 kg</td>\n",
              "      <td>Dolby Audio</td>\n",
              "      <td>1 year</td>\n",
              "      <td>5 hours</td>\n",
              "      <td>25,000</td>\n",
              "      <td>The Lenovo IdeaPad is a versatile laptop that ...</td>\n",
              "    </tr>\n",
              "    <tr>\n",
              "      <th>4</th>\n",
              "      <td>ASUS</td>\n",
              "      <td>ZenBook Pro</td>\n",
              "      <td>i9</td>\n",
              "      <td>Intel</td>\n",
              "      <td>3.1 GHz</td>\n",
              "      <td>64GB</td>\n",
              "      <td>SSD</td>\n",
              "      <td>OLED</td>\n",
              "      <td>15.6\"</td>\n",
              "      <td>NVIDIA RTX</td>\n",
              "      <td>3840x2160</td>\n",
              "      <td>Windows 10</td>\n",
              "      <td>1.8 kg</td>\n",
              "      <td>NanoEdge Display</td>\n",
              "      <td>2 years</td>\n",
              "      <td>7 hours</td>\n",
              "      <td>200,000</td>\n",
              "      <td>The ASUS ZenBook Pro is a high-end laptop that...</td>\n",
              "    </tr>\n",
              "  </tbody>\n",
              "</table>\n",
              "</div>\n",
              "    <div class=\"colab-df-buttons\">\n",
              "\n",
              "  <div class=\"colab-df-container\">\n",
              "    <button class=\"colab-df-convert\" onclick=\"convertToInteractive('df-6b71f653-a3fa-4ee2-b4b7-f674d211f80d')\"\n",
              "            title=\"Convert this dataframe to an interactive table.\"\n",
              "            style=\"display:none;\">\n",
              "\n",
              "  <svg xmlns=\"http://www.w3.org/2000/svg\" height=\"24px\" viewBox=\"0 -960 960 960\">\n",
              "    <path d=\"M120-120v-720h720v720H120Zm60-500h600v-160H180v160Zm220 220h160v-160H400v160Zm0 220h160v-160H400v160ZM180-400h160v-160H180v160Zm440 0h160v-160H620v160ZM180-180h160v-160H180v160Zm440 0h160v-160H620v160Z\"/>\n",
              "  </svg>\n",
              "    </button>\n",
              "\n",
              "  <style>\n",
              "    .colab-df-container {\n",
              "      display:flex;\n",
              "      gap: 12px;\n",
              "    }\n",
              "\n",
              "    .colab-df-convert {\n",
              "      background-color: #E8F0FE;\n",
              "      border: none;\n",
              "      border-radius: 50%;\n",
              "      cursor: pointer;\n",
              "      display: none;\n",
              "      fill: #1967D2;\n",
              "      height: 32px;\n",
              "      padding: 0 0 0 0;\n",
              "      width: 32px;\n",
              "    }\n",
              "\n",
              "    .colab-df-convert:hover {\n",
              "      background-color: #E2EBFA;\n",
              "      box-shadow: 0px 1px 2px rgba(60, 64, 67, 0.3), 0px 1px 3px 1px rgba(60, 64, 67, 0.15);\n",
              "      fill: #174EA6;\n",
              "    }\n",
              "\n",
              "    .colab-df-buttons div {\n",
              "      margin-bottom: 4px;\n",
              "    }\n",
              "\n",
              "    [theme=dark] .colab-df-convert {\n",
              "      background-color: #3B4455;\n",
              "      fill: #D2E3FC;\n",
              "    }\n",
              "\n",
              "    [theme=dark] .colab-df-convert:hover {\n",
              "      background-color: #434B5C;\n",
              "      box-shadow: 0px 1px 3px 1px rgba(0, 0, 0, 0.15);\n",
              "      filter: drop-shadow(0px 1px 2px rgba(0, 0, 0, 0.3));\n",
              "      fill: #FFFFFF;\n",
              "    }\n",
              "  </style>\n",
              "\n",
              "    <script>\n",
              "      const buttonEl =\n",
              "        document.querySelector('#df-6b71f653-a3fa-4ee2-b4b7-f674d211f80d button.colab-df-convert');\n",
              "      buttonEl.style.display =\n",
              "        google.colab.kernel.accessAllowed ? 'block' : 'none';\n",
              "\n",
              "      async function convertToInteractive(key) {\n",
              "        const element = document.querySelector('#df-6b71f653-a3fa-4ee2-b4b7-f674d211f80d');\n",
              "        const dataTable =\n",
              "          await google.colab.kernel.invokeFunction('convertToInteractive',\n",
              "                                                    [key], {});\n",
              "        if (!dataTable) return;\n",
              "\n",
              "        const docLinkHtml = 'Like what you see? Visit the ' +\n",
              "          '<a target=\"_blank\" href=https://colab.research.google.com/notebooks/data_table.ipynb>data table notebook</a>'\n",
              "          + ' to learn more about interactive tables.';\n",
              "        element.innerHTML = '';\n",
              "        dataTable['output_type'] = 'display_data';\n",
              "        await google.colab.output.renderOutput(dataTable, element);\n",
              "        const docLink = document.createElement('div');\n",
              "        docLink.innerHTML = docLinkHtml;\n",
              "        element.appendChild(docLink);\n",
              "      }\n",
              "    </script>\n",
              "  </div>\n",
              "\n",
              "\n",
              "<div id=\"df-3ef93932-1bf8-4fe7-a09a-553ce5cf076e\">\n",
              "  <button class=\"colab-df-quickchart\" onclick=\"quickchart('df-3ef93932-1bf8-4fe7-a09a-553ce5cf076e')\"\n",
              "            title=\"Suggest charts\"\n",
              "            style=\"display:none;\">\n",
              "\n",
              "<svg xmlns=\"http://www.w3.org/2000/svg\" height=\"24px\"viewBox=\"0 0 24 24\"\n",
              "     width=\"24px\">\n",
              "    <g>\n",
              "        <path d=\"M19 3H5c-1.1 0-2 .9-2 2v14c0 1.1.9 2 2 2h14c1.1 0 2-.9 2-2V5c0-1.1-.9-2-2-2zM9 17H7v-7h2v7zm4 0h-2V7h2v10zm4 0h-2v-4h2v4z\"/>\n",
              "    </g>\n",
              "</svg>\n",
              "  </button>\n",
              "\n",
              "<style>\n",
              "  .colab-df-quickchart {\n",
              "      --bg-color: #E8F0FE;\n",
              "      --fill-color: #1967D2;\n",
              "      --hover-bg-color: #E2EBFA;\n",
              "      --hover-fill-color: #174EA6;\n",
              "      --disabled-fill-color: #AAA;\n",
              "      --disabled-bg-color: #DDD;\n",
              "  }\n",
              "\n",
              "  [theme=dark] .colab-df-quickchart {\n",
              "      --bg-color: #3B4455;\n",
              "      --fill-color: #D2E3FC;\n",
              "      --hover-bg-color: #434B5C;\n",
              "      --hover-fill-color: #FFFFFF;\n",
              "      --disabled-bg-color: #3B4455;\n",
              "      --disabled-fill-color: #666;\n",
              "  }\n",
              "\n",
              "  .colab-df-quickchart {\n",
              "    background-color: var(--bg-color);\n",
              "    border: none;\n",
              "    border-radius: 50%;\n",
              "    cursor: pointer;\n",
              "    display: none;\n",
              "    fill: var(--fill-color);\n",
              "    height: 32px;\n",
              "    padding: 0;\n",
              "    width: 32px;\n",
              "  }\n",
              "\n",
              "  .colab-df-quickchart:hover {\n",
              "    background-color: var(--hover-bg-color);\n",
              "    box-shadow: 0 1px 2px rgba(60, 64, 67, 0.3), 0 1px 3px 1px rgba(60, 64, 67, 0.15);\n",
              "    fill: var(--button-hover-fill-color);\n",
              "  }\n",
              "\n",
              "  .colab-df-quickchart-complete:disabled,\n",
              "  .colab-df-quickchart-complete:disabled:hover {\n",
              "    background-color: var(--disabled-bg-color);\n",
              "    fill: var(--disabled-fill-color);\n",
              "    box-shadow: none;\n",
              "  }\n",
              "\n",
              "  .colab-df-spinner {\n",
              "    border: 2px solid var(--fill-color);\n",
              "    border-color: transparent;\n",
              "    border-bottom-color: var(--fill-color);\n",
              "    animation:\n",
              "      spin 1s steps(1) infinite;\n",
              "  }\n",
              "\n",
              "  @keyframes spin {\n",
              "    0% {\n",
              "      border-color: transparent;\n",
              "      border-bottom-color: var(--fill-color);\n",
              "      border-left-color: var(--fill-color);\n",
              "    }\n",
              "    20% {\n",
              "      border-color: transparent;\n",
              "      border-left-color: var(--fill-color);\n",
              "      border-top-color: var(--fill-color);\n",
              "    }\n",
              "    30% {\n",
              "      border-color: transparent;\n",
              "      border-left-color: var(--fill-color);\n",
              "      border-top-color: var(--fill-color);\n",
              "      border-right-color: var(--fill-color);\n",
              "    }\n",
              "    40% {\n",
              "      border-color: transparent;\n",
              "      border-right-color: var(--fill-color);\n",
              "      border-top-color: var(--fill-color);\n",
              "    }\n",
              "    60% {\n",
              "      border-color: transparent;\n",
              "      border-right-color: var(--fill-color);\n",
              "    }\n",
              "    80% {\n",
              "      border-color: transparent;\n",
              "      border-right-color: var(--fill-color);\n",
              "      border-bottom-color: var(--fill-color);\n",
              "    }\n",
              "    90% {\n",
              "      border-color: transparent;\n",
              "      border-bottom-color: var(--fill-color);\n",
              "    }\n",
              "  }\n",
              "</style>\n",
              "\n",
              "  <script>\n",
              "    async function quickchart(key) {\n",
              "      const quickchartButtonEl =\n",
              "        document.querySelector('#' + key + ' button');\n",
              "      quickchartButtonEl.disabled = true;  // To prevent multiple clicks.\n",
              "      quickchartButtonEl.classList.add('colab-df-spinner');\n",
              "      try {\n",
              "        const charts = await google.colab.kernel.invokeFunction(\n",
              "            'suggestCharts', [key], {});\n",
              "      } catch (error) {\n",
              "        console.error('Error during call to suggestCharts:', error);\n",
              "      }\n",
              "      quickchartButtonEl.classList.remove('colab-df-spinner');\n",
              "      quickchartButtonEl.classList.add('colab-df-quickchart-complete');\n",
              "    }\n",
              "    (() => {\n",
              "      let quickchartButtonEl =\n",
              "        document.querySelector('#df-3ef93932-1bf8-4fe7-a09a-553ce5cf076e button');\n",
              "      quickchartButtonEl.style.display =\n",
              "        google.colab.kernel.accessAllowed ? 'block' : 'none';\n",
              "    })();\n",
              "  </script>\n",
              "</div>\n",
              "\n",
              "    </div>\n",
              "  </div>\n"
            ],
            "application/vnd.google.colaboratory.intrinsic+json": {
              "type": "dataframe",
              "summary": "{\n  \"name\": \"display(df\",\n  \"rows\": 5,\n  \"fields\": [\n    {\n      \"column\": \"Brand\",\n      \"properties\": {\n        \"dtype\": \"string\",\n        \"num_unique_values\": 5,\n        \"samples\": [\n          \"MSI\",\n          \"ASUS\",\n          \"HP\"\n        ],\n        \"semantic_type\": \"\",\n        \"description\": \"\"\n      }\n    },\n    {\n      \"column\": \"Model Name\",\n      \"properties\": {\n        \"dtype\": \"string\",\n        \"num_unique_values\": 5,\n        \"samples\": [\n          \"GL65\",\n          \"ZenBook Pro\",\n          \"EliteBook\"\n        ],\n        \"semantic_type\": \"\",\n        \"description\": \"\"\n      }\n    },\n    {\n      \"column\": \"Core\",\n      \"properties\": {\n        \"dtype\": \"string\",\n        \"num_unique_values\": 4,\n        \"samples\": [\n          \"i7\",\n          \"i9\",\n          \"i5\"\n        ],\n        \"semantic_type\": \"\",\n        \"description\": \"\"\n      }\n    },\n    {\n      \"column\": \"CPU Manufacturer\",\n      \"properties\": {\n        \"dtype\": \"category\",\n        \"num_unique_values\": 1,\n        \"samples\": [\n          \"Intel\"\n        ],\n        \"semantic_type\": \"\",\n        \"description\": \"\"\n      }\n    },\n    {\n      \"column\": \"Clock Speed\",\n      \"properties\": {\n        \"dtype\": \"string\",\n        \"num_unique_values\": 5,\n        \"samples\": [\n          \"2.6 GHz\"\n        ],\n        \"semantic_type\": \"\",\n        \"description\": \"\"\n      }\n    },\n    {\n      \"column\": \"RAM Size\",\n      \"properties\": {\n        \"dtype\": \"string\",\n        \"num_unique_values\": 3,\n        \"samples\": [\n          \"8GB\"\n        ],\n        \"semantic_type\": \"\",\n        \"description\": \"\"\n      }\n    },\n    {\n      \"column\": \"Storage Type\",\n      \"properties\": {\n        \"dtype\": \"string\",\n        \"num_unique_values\": 3,\n        \"samples\": [\n          \"SSD\"\n        ],\n        \"semantic_type\": \"\",\n        \"description\": \"\"\n      }\n    },\n    {\n      \"column\": \"Display Type\",\n      \"properties\": {\n        \"dtype\": \"string\",\n        \"num_unique_values\": 5,\n        \"samples\": [\n          \"IPS\"\n        ],\n        \"semantic_type\": \"\",\n        \"description\": \"\"\n      }\n    },\n    {\n      \"column\": \"Display Size\",\n      \"properties\": {\n        \"dtype\": \"category\",\n        \"num_unique_values\": 2,\n        \"samples\": [\n          \"14\\\"\"\n        ],\n        \"semantic_type\": \"\",\n        \"description\": \"\"\n      }\n    },\n    {\n      \"column\": \"Graphics Processor\",\n      \"properties\": {\n        \"dtype\": \"string\",\n        \"num_unique_values\": 3,\n        \"samples\": [\n          \"Intel UHD\"\n        ],\n        \"semantic_type\": \"\",\n        \"description\": \"\"\n      }\n    },\n    {\n      \"column\": \"Screen Resolution\",\n      \"properties\": {\n        \"dtype\": \"string\",\n        \"num_unique_values\": 3,\n        \"samples\": [\n          \"1920x1080\"\n        ],\n        \"semantic_type\": \"\",\n        \"description\": \"\"\n      }\n    },\n    {\n      \"column\": \"OS\",\n      \"properties\": {\n        \"dtype\": \"category\",\n        \"num_unique_values\": 2,\n        \"samples\": [\n          \"Windows 11\"\n        ],\n        \"semantic_type\": \"\",\n        \"description\": \"\"\n      }\n    },\n    {\n      \"column\": \"Laptop Weight\",\n      \"properties\": {\n        \"dtype\": \"string\",\n        \"num_unique_values\": 5,\n        \"samples\": [\n          \"2.3 kg\"\n        ],\n        \"semantic_type\": \"\",\n        \"description\": \"\"\n      }\n    },\n    {\n      \"column\": \"Special Features\",\n      \"properties\": {\n        \"dtype\": \"string\",\n        \"num_unique_values\": 5,\n        \"samples\": [\n          \"RGB Keyboard\"\n        ],\n        \"semantic_type\": \"\",\n        \"description\": \"\"\n      }\n    },\n    {\n      \"column\": \"Warranty\",\n      \"properties\": {\n        \"dtype\": \"string\",\n        \"num_unique_values\": 3,\n        \"samples\": [\n          \"1 year\"\n        ],\n        \"semantic_type\": \"\",\n        \"description\": \"\"\n      }\n    },\n    {\n      \"column\": \"Average Battery Life\",\n      \"properties\": {\n        \"dtype\": \"string\",\n        \"num_unique_values\": 5,\n        \"samples\": [\n          \"4 hours\"\n        ],\n        \"semantic_type\": \"\",\n        \"description\": \"\"\n      }\n    },\n    {\n      \"column\": \"Price\",\n      \"properties\": {\n        \"dtype\": \"string\",\n        \"num_unique_values\": 5,\n        \"samples\": [\n          \"55,000\"\n        ],\n        \"semantic_type\": \"\",\n        \"description\": \"\"\n      }\n    },\n    {\n      \"column\": \"Description\",\n      \"properties\": {\n        \"dtype\": \"string\",\n        \"num_unique_values\": 5,\n        \"samples\": [\n          \"The MSI GL65 is a high-performance laptop designed for gaming enthusiasts. Powered by an Intel Core i7 processor running at 2.6 GHz, it delivers exceptional processing power for smooth gaming and demanding tasks. With 16GB of RAM and a combination of HDD and SSD storage, it offers ample memory and fast data access. The laptop features a 15.6\\\" IPS display with a resolution of 1920x1080, ensuring vivid colors and wide viewing angles for an immersive gaming experience. Equipped with an NVIDIA GTX graphics card, it provides excellent visual performance and smooth gameplay. Weighing just 2.3 kg, it is a portable option for gamers on the move. The laptop also boasts an RGB keyboard, allowing customizable lighting effects for a personalized gaming setup. With a two-year warranty and a battery life of up to 4 hours, the MSI GL65 offers reliability and durability. Priced at 55,000, it offers excellent value for money for gamers seeking a powerful gaming laptop.\"\n        ],\n        \"semantic_type\": \"\",\n        \"description\": \"\"\n      }\n    }\n  ]\n}"
            }
          },
          "metadata": {}
        }
      ]
    },
    {
      "cell_type": "code",
      "source": [
        "# Display basic information about the dataset\n",
        "display(df.info())"
      ],
      "metadata": {
        "colab": {
          "base_uri": "https://localhost:8080/",
          "height": 468
        },
        "id": "YyP-_AJpk36_",
        "outputId": "7be95f2c-d1a8-4ef0-81d6-f12e99303440"
      },
      "execution_count": 8,
      "outputs": [
        {
          "output_type": "stream",
          "name": "stdout",
          "text": [
            "<class 'pandas.core.frame.DataFrame'>\n",
            "RangeIndex: 20 entries, 0 to 19\n",
            "Data columns (total 18 columns):\n",
            " #   Column                Non-Null Count  Dtype \n",
            "---  ------                --------------  ----- \n",
            " 0   Brand                 20 non-null     object\n",
            " 1   Model Name            20 non-null     object\n",
            " 2   Core                  20 non-null     object\n",
            " 3   CPU Manufacturer      20 non-null     object\n",
            " 4   Clock Speed           20 non-null     object\n",
            " 5   RAM Size              20 non-null     object\n",
            " 6   Storage Type          20 non-null     object\n",
            " 7   Display Type          20 non-null     object\n",
            " 8   Display Size          20 non-null     object\n",
            " 9   Graphics Processor    20 non-null     object\n",
            " 10  Screen Resolution     20 non-null     object\n",
            " 11  OS                    20 non-null     object\n",
            " 12  Laptop Weight         20 non-null     object\n",
            " 13  Special Features      20 non-null     object\n",
            " 14  Warranty              20 non-null     object\n",
            " 15  Average Battery Life  20 non-null     object\n",
            " 16  Price                 20 non-null     object\n",
            " 17  Description           20 non-null     object\n",
            "dtypes: object(18)\n",
            "memory usage: 2.9+ KB\n"
          ]
        },
        {
          "output_type": "display_data",
          "data": {
            "text/plain": [
              "None"
            ]
          },
          "metadata": {}
        }
      ]
    },
    {
      "cell_type": "code",
      "source": [
        "# Display summary statistics of the dataset\n",
        "display(df.describe(include='all'))"
      ],
      "metadata": {
        "colab": {
          "base_uri": "https://localhost:8080/",
          "height": 210
        },
        "id": "klbTfaZwk6c7",
        "outputId": "5a0e5799-9e65-4ecf-bb4a-116bc25b72ee"
      },
      "execution_count": 9,
      "outputs": [
        {
          "output_type": "display_data",
          "data": {
            "text/plain": [
              "       Brand Model Name Core CPU Manufacturer Clock Speed RAM Size Storage Type Display Type  \\\n",
              "count     20         20   20               20          20       20           20           20   \n",
              "unique     9         20    8                3          10        5            3            8   \n",
              "top     Dell   Inspiron   i7            Intel     2.8 GHz     16GB          SSD          IPS   \n",
              "freq       3          1    8               17           5       11           17            9   \n",
              "\n",
              "       Display Size Graphics Processor Screen Resolution          OS Laptop Weight  \\\n",
              "count            20                 20                20          20            20   \n",
              "unique            6                  8                 7           5            18   \n",
              "top           15.6\"          Intel UHD         1920x1080  Windows 10        1.8 kg   \n",
              "freq              9                  5                10          10             2   \n",
              "\n",
              "        Special Features Warranty Average Battery Life   Price  \\\n",
              "count                 20       20                   20      20   \n",
              "unique                19        3                   10      18   \n",
              "top     Backlit Keyboard   1 year              6 hours  90,000   \n",
              "freq                   2        8                    4       2   \n",
              "\n",
              "                                              Description  \n",
              "count                                                  20  \n",
              "unique                                                 20  \n",
              "top     The Dell Inspiron is a versatile laptop that c...  \n",
              "freq                                                    1  "
            ],
            "text/html": [
              "\n",
              "  <div id=\"df-c4a8dc9e-2e7c-4c93-8b1f-6b709a60b9ed\" class=\"colab-df-container\">\n",
              "    <div>\n",
              "<style scoped>\n",
              "    .dataframe tbody tr th:only-of-type {\n",
              "        vertical-align: middle;\n",
              "    }\n",
              "\n",
              "    .dataframe tbody tr th {\n",
              "        vertical-align: top;\n",
              "    }\n",
              "\n",
              "    .dataframe thead th {\n",
              "        text-align: right;\n",
              "    }\n",
              "</style>\n",
              "<table border=\"1\" class=\"dataframe\">\n",
              "  <thead>\n",
              "    <tr style=\"text-align: right;\">\n",
              "      <th></th>\n",
              "      <th>Brand</th>\n",
              "      <th>Model Name</th>\n",
              "      <th>Core</th>\n",
              "      <th>CPU Manufacturer</th>\n",
              "      <th>Clock Speed</th>\n",
              "      <th>RAM Size</th>\n",
              "      <th>Storage Type</th>\n",
              "      <th>Display Type</th>\n",
              "      <th>Display Size</th>\n",
              "      <th>Graphics Processor</th>\n",
              "      <th>Screen Resolution</th>\n",
              "      <th>OS</th>\n",
              "      <th>Laptop Weight</th>\n",
              "      <th>Special Features</th>\n",
              "      <th>Warranty</th>\n",
              "      <th>Average Battery Life</th>\n",
              "      <th>Price</th>\n",
              "      <th>Description</th>\n",
              "    </tr>\n",
              "  </thead>\n",
              "  <tbody>\n",
              "    <tr>\n",
              "      <th>count</th>\n",
              "      <td>20</td>\n",
              "      <td>20</td>\n",
              "      <td>20</td>\n",
              "      <td>20</td>\n",
              "      <td>20</td>\n",
              "      <td>20</td>\n",
              "      <td>20</td>\n",
              "      <td>20</td>\n",
              "      <td>20</td>\n",
              "      <td>20</td>\n",
              "      <td>20</td>\n",
              "      <td>20</td>\n",
              "      <td>20</td>\n",
              "      <td>20</td>\n",
              "      <td>20</td>\n",
              "      <td>20</td>\n",
              "      <td>20</td>\n",
              "      <td>20</td>\n",
              "    </tr>\n",
              "    <tr>\n",
              "      <th>unique</th>\n",
              "      <td>9</td>\n",
              "      <td>20</td>\n",
              "      <td>8</td>\n",
              "      <td>3</td>\n",
              "      <td>10</td>\n",
              "      <td>5</td>\n",
              "      <td>3</td>\n",
              "      <td>8</td>\n",
              "      <td>6</td>\n",
              "      <td>8</td>\n",
              "      <td>7</td>\n",
              "      <td>5</td>\n",
              "      <td>18</td>\n",
              "      <td>19</td>\n",
              "      <td>3</td>\n",
              "      <td>10</td>\n",
              "      <td>18</td>\n",
              "      <td>20</td>\n",
              "    </tr>\n",
              "    <tr>\n",
              "      <th>top</th>\n",
              "      <td>Dell</td>\n",
              "      <td>Inspiron</td>\n",
              "      <td>i7</td>\n",
              "      <td>Intel</td>\n",
              "      <td>2.8 GHz</td>\n",
              "      <td>16GB</td>\n",
              "      <td>SSD</td>\n",
              "      <td>IPS</td>\n",
              "      <td>15.6\"</td>\n",
              "      <td>Intel UHD</td>\n",
              "      <td>1920x1080</td>\n",
              "      <td>Windows 10</td>\n",
              "      <td>1.8 kg</td>\n",
              "      <td>Backlit Keyboard</td>\n",
              "      <td>1 year</td>\n",
              "      <td>6 hours</td>\n",
              "      <td>90,000</td>\n",
              "      <td>The Dell Inspiron is a versatile laptop that c...</td>\n",
              "    </tr>\n",
              "    <tr>\n",
              "      <th>freq</th>\n",
              "      <td>3</td>\n",
              "      <td>1</td>\n",
              "      <td>8</td>\n",
              "      <td>17</td>\n",
              "      <td>5</td>\n",
              "      <td>11</td>\n",
              "      <td>17</td>\n",
              "      <td>9</td>\n",
              "      <td>9</td>\n",
              "      <td>5</td>\n",
              "      <td>10</td>\n",
              "      <td>10</td>\n",
              "      <td>2</td>\n",
              "      <td>2</td>\n",
              "      <td>8</td>\n",
              "      <td>4</td>\n",
              "      <td>2</td>\n",
              "      <td>1</td>\n",
              "    </tr>\n",
              "  </tbody>\n",
              "</table>\n",
              "</div>\n",
              "    <div class=\"colab-df-buttons\">\n",
              "\n",
              "  <div class=\"colab-df-container\">\n",
              "    <button class=\"colab-df-convert\" onclick=\"convertToInteractive('df-c4a8dc9e-2e7c-4c93-8b1f-6b709a60b9ed')\"\n",
              "            title=\"Convert this dataframe to an interactive table.\"\n",
              "            style=\"display:none;\">\n",
              "\n",
              "  <svg xmlns=\"http://www.w3.org/2000/svg\" height=\"24px\" viewBox=\"0 -960 960 960\">\n",
              "    <path d=\"M120-120v-720h720v720H120Zm60-500h600v-160H180v160Zm220 220h160v-160H400v160Zm0 220h160v-160H400v160ZM180-400h160v-160H180v160Zm440 0h160v-160H620v160ZM180-180h160v-160H180v160Zm440 0h160v-160H620v160Z\"/>\n",
              "  </svg>\n",
              "    </button>\n",
              "\n",
              "  <style>\n",
              "    .colab-df-container {\n",
              "      display:flex;\n",
              "      gap: 12px;\n",
              "    }\n",
              "\n",
              "    .colab-df-convert {\n",
              "      background-color: #E8F0FE;\n",
              "      border: none;\n",
              "      border-radius: 50%;\n",
              "      cursor: pointer;\n",
              "      display: none;\n",
              "      fill: #1967D2;\n",
              "      height: 32px;\n",
              "      padding: 0 0 0 0;\n",
              "      width: 32px;\n",
              "    }\n",
              "\n",
              "    .colab-df-convert:hover {\n",
              "      background-color: #E2EBFA;\n",
              "      box-shadow: 0px 1px 2px rgba(60, 64, 67, 0.3), 0px 1px 3px 1px rgba(60, 64, 67, 0.15);\n",
              "      fill: #174EA6;\n",
              "    }\n",
              "\n",
              "    .colab-df-buttons div {\n",
              "      margin-bottom: 4px;\n",
              "    }\n",
              "\n",
              "    [theme=dark] .colab-df-convert {\n",
              "      background-color: #3B4455;\n",
              "      fill: #D2E3FC;\n",
              "    }\n",
              "\n",
              "    [theme=dark] .colab-df-convert:hover {\n",
              "      background-color: #434B5C;\n",
              "      box-shadow: 0px 1px 3px 1px rgba(0, 0, 0, 0.15);\n",
              "      filter: drop-shadow(0px 1px 2px rgba(0, 0, 0, 0.3));\n",
              "      fill: #FFFFFF;\n",
              "    }\n",
              "  </style>\n",
              "\n",
              "    <script>\n",
              "      const buttonEl =\n",
              "        document.querySelector('#df-c4a8dc9e-2e7c-4c93-8b1f-6b709a60b9ed button.colab-df-convert');\n",
              "      buttonEl.style.display =\n",
              "        google.colab.kernel.accessAllowed ? 'block' : 'none';\n",
              "\n",
              "      async function convertToInteractive(key) {\n",
              "        const element = document.querySelector('#df-c4a8dc9e-2e7c-4c93-8b1f-6b709a60b9ed');\n",
              "        const dataTable =\n",
              "          await google.colab.kernel.invokeFunction('convertToInteractive',\n",
              "                                                    [key], {});\n",
              "        if (!dataTable) return;\n",
              "\n",
              "        const docLinkHtml = 'Like what you see? Visit the ' +\n",
              "          '<a target=\"_blank\" href=https://colab.research.google.com/notebooks/data_table.ipynb>data table notebook</a>'\n",
              "          + ' to learn more about interactive tables.';\n",
              "        element.innerHTML = '';\n",
              "        dataTable['output_type'] = 'display_data';\n",
              "        await google.colab.output.renderOutput(dataTable, element);\n",
              "        const docLink = document.createElement('div');\n",
              "        docLink.innerHTML = docLinkHtml;\n",
              "        element.appendChild(docLink);\n",
              "      }\n",
              "    </script>\n",
              "  </div>\n",
              "\n",
              "\n",
              "<div id=\"df-52c8eeae-8501-4e95-b16a-88e4167100c3\">\n",
              "  <button class=\"colab-df-quickchart\" onclick=\"quickchart('df-52c8eeae-8501-4e95-b16a-88e4167100c3')\"\n",
              "            title=\"Suggest charts\"\n",
              "            style=\"display:none;\">\n",
              "\n",
              "<svg xmlns=\"http://www.w3.org/2000/svg\" height=\"24px\"viewBox=\"0 0 24 24\"\n",
              "     width=\"24px\">\n",
              "    <g>\n",
              "        <path d=\"M19 3H5c-1.1 0-2 .9-2 2v14c0 1.1.9 2 2 2h14c1.1 0 2-.9 2-2V5c0-1.1-.9-2-2-2zM9 17H7v-7h2v7zm4 0h-2V7h2v10zm4 0h-2v-4h2v4z\"/>\n",
              "    </g>\n",
              "</svg>\n",
              "  </button>\n",
              "\n",
              "<style>\n",
              "  .colab-df-quickchart {\n",
              "      --bg-color: #E8F0FE;\n",
              "      --fill-color: #1967D2;\n",
              "      --hover-bg-color: #E2EBFA;\n",
              "      --hover-fill-color: #174EA6;\n",
              "      --disabled-fill-color: #AAA;\n",
              "      --disabled-bg-color: #DDD;\n",
              "  }\n",
              "\n",
              "  [theme=dark] .colab-df-quickchart {\n",
              "      --bg-color: #3B4455;\n",
              "      --fill-color: #D2E3FC;\n",
              "      --hover-bg-color: #434B5C;\n",
              "      --hover-fill-color: #FFFFFF;\n",
              "      --disabled-bg-color: #3B4455;\n",
              "      --disabled-fill-color: #666;\n",
              "  }\n",
              "\n",
              "  .colab-df-quickchart {\n",
              "    background-color: var(--bg-color);\n",
              "    border: none;\n",
              "    border-radius: 50%;\n",
              "    cursor: pointer;\n",
              "    display: none;\n",
              "    fill: var(--fill-color);\n",
              "    height: 32px;\n",
              "    padding: 0;\n",
              "    width: 32px;\n",
              "  }\n",
              "\n",
              "  .colab-df-quickchart:hover {\n",
              "    background-color: var(--hover-bg-color);\n",
              "    box-shadow: 0 1px 2px rgba(60, 64, 67, 0.3), 0 1px 3px 1px rgba(60, 64, 67, 0.15);\n",
              "    fill: var(--button-hover-fill-color);\n",
              "  }\n",
              "\n",
              "  .colab-df-quickchart-complete:disabled,\n",
              "  .colab-df-quickchart-complete:disabled:hover {\n",
              "    background-color: var(--disabled-bg-color);\n",
              "    fill: var(--disabled-fill-color);\n",
              "    box-shadow: none;\n",
              "  }\n",
              "\n",
              "  .colab-df-spinner {\n",
              "    border: 2px solid var(--fill-color);\n",
              "    border-color: transparent;\n",
              "    border-bottom-color: var(--fill-color);\n",
              "    animation:\n",
              "      spin 1s steps(1) infinite;\n",
              "  }\n",
              "\n",
              "  @keyframes spin {\n",
              "    0% {\n",
              "      border-color: transparent;\n",
              "      border-bottom-color: var(--fill-color);\n",
              "      border-left-color: var(--fill-color);\n",
              "    }\n",
              "    20% {\n",
              "      border-color: transparent;\n",
              "      border-left-color: var(--fill-color);\n",
              "      border-top-color: var(--fill-color);\n",
              "    }\n",
              "    30% {\n",
              "      border-color: transparent;\n",
              "      border-left-color: var(--fill-color);\n",
              "      border-top-color: var(--fill-color);\n",
              "      border-right-color: var(--fill-color);\n",
              "    }\n",
              "    40% {\n",
              "      border-color: transparent;\n",
              "      border-right-color: var(--fill-color);\n",
              "      border-top-color: var(--fill-color);\n",
              "    }\n",
              "    60% {\n",
              "      border-color: transparent;\n",
              "      border-right-color: var(--fill-color);\n",
              "    }\n",
              "    80% {\n",
              "      border-color: transparent;\n",
              "      border-right-color: var(--fill-color);\n",
              "      border-bottom-color: var(--fill-color);\n",
              "    }\n",
              "    90% {\n",
              "      border-color: transparent;\n",
              "      border-bottom-color: var(--fill-color);\n",
              "    }\n",
              "  }\n",
              "</style>\n",
              "\n",
              "  <script>\n",
              "    async function quickchart(key) {\n",
              "      const quickchartButtonEl =\n",
              "        document.querySelector('#' + key + ' button');\n",
              "      quickchartButtonEl.disabled = true;  // To prevent multiple clicks.\n",
              "      quickchartButtonEl.classList.add('colab-df-spinner');\n",
              "      try {\n",
              "        const charts = await google.colab.kernel.invokeFunction(\n",
              "            'suggestCharts', [key], {});\n",
              "      } catch (error) {\n",
              "        console.error('Error during call to suggestCharts:', error);\n",
              "      }\n",
              "      quickchartButtonEl.classList.remove('colab-df-spinner');\n",
              "      quickchartButtonEl.classList.add('colab-df-quickchart-complete');\n",
              "    }\n",
              "    (() => {\n",
              "      let quickchartButtonEl =\n",
              "        document.querySelector('#df-52c8eeae-8501-4e95-b16a-88e4167100c3 button');\n",
              "      quickchartButtonEl.style.display =\n",
              "        google.colab.kernel.accessAllowed ? 'block' : 'none';\n",
              "    })();\n",
              "  </script>\n",
              "</div>\n",
              "\n",
              "    </div>\n",
              "  </div>\n"
            ],
            "application/vnd.google.colaboratory.intrinsic+json": {
              "type": "dataframe",
              "summary": "{\n  \"name\": \"display(df\",\n  \"rows\": 4,\n  \"fields\": [\n    {\n      \"column\": \"Brand\",\n      \"properties\": {\n        \"dtype\": \"string\",\n        \"num_unique_values\": 4,\n        \"samples\": [\n          9,\n          \"3\",\n          \"20\"\n        ],\n        \"semantic_type\": \"\",\n        \"description\": \"\"\n      }\n    },\n    {\n      \"column\": \"Model Name\",\n      \"properties\": {\n        \"dtype\": \"string\",\n        \"num_unique_values\": 3,\n        \"samples\": [\n          \"20\",\n          \"Inspiron\",\n          \"1\"\n        ],\n        \"semantic_type\": \"\",\n        \"description\": \"\"\n      }\n    },\n    {\n      \"column\": \"Core\",\n      \"properties\": {\n        \"dtype\": \"string\",\n        \"num_unique_values\": 3,\n        \"samples\": [\n          \"20\",\n          8,\n          \"i7\"\n        ],\n        \"semantic_type\": \"\",\n        \"description\": \"\"\n      }\n    },\n    {\n      \"column\": \"CPU Manufacturer\",\n      \"properties\": {\n        \"dtype\": \"string\",\n        \"num_unique_values\": 4,\n        \"samples\": [\n          3,\n          \"17\",\n          \"20\"\n        ],\n        \"semantic_type\": \"\",\n        \"description\": \"\"\n      }\n    },\n    {\n      \"column\": \"Clock Speed\",\n      \"properties\": {\n        \"dtype\": \"string\",\n        \"num_unique_values\": 4,\n        \"samples\": [\n          10,\n          \"5\",\n          \"20\"\n        ],\n        \"semantic_type\": \"\",\n        \"description\": \"\"\n      }\n    },\n    {\n      \"column\": \"RAM Size\",\n      \"properties\": {\n        \"dtype\": \"string\",\n        \"num_unique_values\": 4,\n        \"samples\": [\n          5,\n          \"11\",\n          \"20\"\n        ],\n        \"semantic_type\": \"\",\n        \"description\": \"\"\n      }\n    },\n    {\n      \"column\": \"Storage Type\",\n      \"properties\": {\n        \"dtype\": \"string\",\n        \"num_unique_values\": 4,\n        \"samples\": [\n          3,\n          \"17\",\n          \"20\"\n        ],\n        \"semantic_type\": \"\",\n        \"description\": \"\"\n      }\n    },\n    {\n      \"column\": \"Display Type\",\n      \"properties\": {\n        \"dtype\": \"string\",\n        \"num_unique_values\": 4,\n        \"samples\": [\n          8,\n          \"9\",\n          \"20\"\n        ],\n        \"semantic_type\": \"\",\n        \"description\": \"\"\n      }\n    },\n    {\n      \"column\": \"Display Size\",\n      \"properties\": {\n        \"dtype\": \"string\",\n        \"num_unique_values\": 4,\n        \"samples\": [\n          6,\n          \"9\",\n          \"20\"\n        ],\n        \"semantic_type\": \"\",\n        \"description\": \"\"\n      }\n    },\n    {\n      \"column\": \"Graphics Processor\",\n      \"properties\": {\n        \"dtype\": \"string\",\n        \"num_unique_values\": 4,\n        \"samples\": [\n          8,\n          \"5\",\n          \"20\"\n        ],\n        \"semantic_type\": \"\",\n        \"description\": \"\"\n      }\n    },\n    {\n      \"column\": \"Screen Resolution\",\n      \"properties\": {\n        \"dtype\": \"string\",\n        \"num_unique_values\": 4,\n        \"samples\": [\n          7,\n          \"10\",\n          \"20\"\n        ],\n        \"semantic_type\": \"\",\n        \"description\": \"\"\n      }\n    },\n    {\n      \"column\": \"OS\",\n      \"properties\": {\n        \"dtype\": \"string\",\n        \"num_unique_values\": 4,\n        \"samples\": [\n          5,\n          \"10\",\n          \"20\"\n        ],\n        \"semantic_type\": \"\",\n        \"description\": \"\"\n      }\n    },\n    {\n      \"column\": \"Laptop Weight\",\n      \"properties\": {\n        \"dtype\": \"string\",\n        \"num_unique_values\": 4,\n        \"samples\": [\n          18,\n          \"2\",\n          \"20\"\n        ],\n        \"semantic_type\": \"\",\n        \"description\": \"\"\n      }\n    },\n    {\n      \"column\": \"Special Features\",\n      \"properties\": {\n        \"dtype\": \"string\",\n        \"num_unique_values\": 4,\n        \"samples\": [\n          19,\n          \"2\",\n          \"20\"\n        ],\n        \"semantic_type\": \"\",\n        \"description\": \"\"\n      }\n    },\n    {\n      \"column\": \"Warranty\",\n      \"properties\": {\n        \"dtype\": \"string\",\n        \"num_unique_values\": 4,\n        \"samples\": [\n          3,\n          \"8\",\n          \"20\"\n        ],\n        \"semantic_type\": \"\",\n        \"description\": \"\"\n      }\n    },\n    {\n      \"column\": \"Average Battery Life\",\n      \"properties\": {\n        \"dtype\": \"string\",\n        \"num_unique_values\": 4,\n        \"samples\": [\n          10,\n          \"4\",\n          \"20\"\n        ],\n        \"semantic_type\": \"\",\n        \"description\": \"\"\n      }\n    },\n    {\n      \"column\": \"Price\",\n      \"properties\": {\n        \"dtype\": \"string\",\n        \"num_unique_values\": 4,\n        \"samples\": [\n          18,\n          \"2\",\n          \"20\"\n        ],\n        \"semantic_type\": \"\",\n        \"description\": \"\"\n      }\n    },\n    {\n      \"column\": \"Description\",\n      \"properties\": {\n        \"dtype\": \"string\",\n        \"num_unique_values\": 3,\n        \"samples\": [\n          \"20\",\n          \"The Dell Inspiron is a versatile laptop that combines powerful performance and affordability. It features an Intel Core i5 processor clocked at 2.4 GHz, ensuring smooth multitasking and efficient computing. With 8GB of RAM and an SSD, it offers quick data access and ample storage capacity. The laptop sports a vibrant 15.6\\\" LCD display with a resolution of 1920x1080, delivering crisp visuals and immersive viewing experience. Weighing just 2.5 kg, it is highly portable, making it ideal for on-the-go usage. Additionally, it boasts an Intel UHD GPU for decent graphical performance and a backlit keyboard for enhanced typing convenience. With a one-year warranty and a battery life of up to 6 hours, the Dell Inspiron is a reliable companion for work or entertainment. All these features are packed at an affordable price of 35,000, making it an excellent choice for budget-conscious users.\",\n          \"1\"\n        ],\n        \"semantic_type\": \"\",\n        \"description\": \"\"\n      }\n    }\n  ]\n}"
            }
          },
          "metadata": {}
        }
      ]
    },
    {
      "cell_type": "code",
      "source": [
        "# Import the libraries\n",
        "import os, json, ast\n",
        "import openai\n",
        "from tenacity import retry, wait_random_exponential, stop_after_attempt"
      ],
      "metadata": {
        "id": "tSnKQmfek-3I"
      },
      "execution_count": 10,
      "outputs": []
    },
    {
      "cell_type": "code",
      "source": [
        "# read the OpenAI API key\n",
        "openai.api_key = open(\"OpenAI_API_Key.txt\", \"r\").read().strip()\n",
        "os.environ['OPENAI_API_KEY'] = openai.api_key"
      ],
      "metadata": {
        "id": "bw4vwesgzLUL"
      },
      "execution_count": 11,
      "outputs": []
    },
    {
      "cell_type": "code",
      "source": [
        "# # Recall that messages to the LLM is a list of dicts containing system_message, user_input and assistant_message\n",
        "# conversation = [{\"role\": \"system\", \"content\": system_message},\n",
        "#                 {\"role\": \"user\", \"content\": user_input},\n",
        "#                 {\"role\": \"assistant\", \"content\": assistant_message}]"
      ],
      "metadata": {
        "id": "mijCENzyz1um"
      },
      "execution_count": 12,
      "outputs": []
    },
    {
      "cell_type": "code",
      "source": [
        "def initialize_conversation():\n",
        "    '''\n",
        "    Returns a list [{\"role\": \"system\", \"content\": system_message}]\n",
        "    '''\n",
        "\n",
        "    delimiter = \"####\"\n",
        "\n",
        "    example_user_dict = {'GPU intensity': \"high\",\n",
        "                        'Display quality':\"high\",\n",
        "                        'Portability': \"low\",\n",
        "                        'Multitasking': \"high\",\n",
        "                        'Processing speed': \"high\",\n",
        "                        'Budget': \"150000\"}\n",
        "\n",
        "    example_user_req = {'GPU intensity': \"_\",\n",
        "                        'Display quality': \"_\",\n",
        "                        'Portability': \"_\",\n",
        "                        'Multitasking': \"_\",\n",
        "                        'Processing speed': \"_\",\n",
        "                        'Budget': \"_\"}\n",
        "\n",
        "    system_message = f\"\"\"\n",
        "    You are an intelligent laptop gadget expert and your goal is to find the best laptop for a user.\n",
        "    You need to ask relevant questions and understand the user profile by analysing the user's responses.\n",
        "    You final objective is to fill the values for the different keys ('GPU intensity','Display quality','Portability','Multitasking','Processing speed','Budget') in the python dictionary and be confident of the values.\n",
        "    These key value pairs define the user's profile.\n",
        "    The python dictionary looks like this\n",
        "    {{'GPU intensity': 'values','Display quality': 'values','Portability': 'values','Multitasking': 'values','Processing speed': 'values','Budget': 'values'}}\n",
        "    The value for 'Budget' should be a numerical value extracted from the user's response.\n",
        "    The values for all keys, except 'Budget', should be 'low', 'medium', or 'high' based on the importance of the corresponding keys, as stated by user.\n",
        "    All the values in the example dictionary are only representative values.\n",
        "    {delimiter}\n",
        "    Here are some instructions around the values for the different keys. If you do not follow this, you'll be heavily penalised:\n",
        "    - The values for all keys, except 'Budget', should strictly be either 'low', 'medium', or 'high' based on the importance of the corresponding keys, as stated by user.\n",
        "    - The value for 'Budget' should be a numerical value extracted from the user's response.\n",
        "    - 'Budget' value needs to be greater than or equal to 25000 INR. If the user says less than that, please mention that there are no laptops in that range.\n",
        "    - Do not randomly assign values to any of the keys.\n",
        "    - The values need to be inferred from the user's response.\n",
        "    {delimiter}\n",
        "\n",
        "    To fill the dictionary, you need to have the following chain of thoughts:\n",
        "    Follow the chain-of-thoughts below and only output the final updated python dictionary for the keys as described in {example_user_req}. \\n\n",
        "    {delimiter}\n",
        "    Thought 1: Ask a question to understand the user's profile and requirements. \\n\n",
        "    If their primary use for the laptop is unclear. Ask followup questions to understand their needs.\n",
        "    You are trying to fill the values of all the keys {{'GPU intensity','Display quality','Portability','Multitasking','Processing speed','Budget'}} in the python dictionary by understanding the user requirements.\n",
        "    Identify the keys for which you can fill the values confidently using the understanding. \\n\n",
        "    Remember the instructions around the values for the different keys.\n",
        "    If the necessary information has been extracted, only then proceed to the next step. \\n\n",
        "    Otherwise, rephrase the question to capture their profile clearly. \\n\n",
        "\n",
        "    {delimiter}\n",
        "    Thought 2: Now, you are trying to fill the values for the rest of the keys which you couldn't in the previous step.\n",
        "    Remember the instructions around the values for the different keys.\n",
        "    Ask questions you might have for all the keys to strengthen your understanding of the user's profile.\n",
        "    If yes, move to the next Thought. If no, ask question on the keys whose values you are unsure of. \\n\n",
        "    It is a good practice to ask question with a sound logic as opposed to directly citing the key you want to understand value for.\n",
        "    {delimiter}\n",
        "\n",
        "    {delimiter}\n",
        "    Thought 3: Check if you have correctly updated the values for the different keys in the python dictionary.\n",
        "    If you are not confident about any of the values, ask clarifying questions.\n",
        "    {delimiter}\n",
        "\n",
        "    {delimiter}\n",
        "    Here is a sample conversation between the user and assistant:\n",
        "    User: \"Hi, I am an editor.\"\n",
        "    Assistant: \"Great! As an editor, you likely require a laptop that can handle demanding tasks. Hence, the laptop should have high multitasking capability. You would also need a high end display for better visuals and editing. May I know what kind of work do you primarily focus on? Are you more involved in video editing, photo editing, or both? Understanding the specific type of editing work will help me tailor my recommendations accordingly. Let me know if my understanding is correct until now.\"\n",
        "    User: \"I primarily work with After Effects.\"\n",
        "    Assistant: \"Thank you for providing that information. Working with After Effects involves working with graphics, animations, and rendering, which will require high GPU. Do you work with high-resolution media files, such as 4K videos or RAW photos? Understanding your file sizes will help determine the storage capacity and processing power needed.\"\n",
        "    User: \"Yes, sometimes I work with 4K videos as well.\"\n",
        "    Assistant: \"Thank you for the information. Processing 4K vidoes will require a good processor and high GPU. I think we have already determined earlier that you need a high GPU. To ensure I have a complete understanding of your needs, I have one more question: Are you frequently on the go and require a laptop that is lightweight and easy to carry, or do you primarily work from a stationary location?\"\n",
        "    User: \"Yes, sometimes I travel but do not carry my laptop.\"\n",
        "    Assistant:\"Could you kindly let me know your budget for the laptop? This will help me find options that fit within your price range while meeting the specified requirements.\"\n",
        "    User: \"my max budget is 1.5lakh inr\"\n",
        "    Assistant: \"{example_user_dict}\"\n",
        "    {delimiter}\n",
        "\n",
        "    Start with a short welcome message and encourage the user to share their requirements.\n",
        "    \"\"\"\n",
        "    conversation = [{\"role\": \"system\", \"content\": system_message}]\n",
        "    # conversation = system_message\n",
        "    return conversation"
      ],
      "metadata": {
        "id": "YooynVgyKNb9"
      },
      "execution_count": 14,
      "outputs": []
    },
    {
      "cell_type": "code",
      "source": [
        "debug_conversation = initialize_conversation()\n",
        "print(debug_conversation)"
      ],
      "metadata": {
        "colab": {
          "base_uri": "https://localhost:8080/"
        },
        "id": "dj98-iL9Coa5",
        "outputId": "14d1080f-aadd-421c-f649-c646e7715d1d"
      },
      "execution_count": 15,
      "outputs": [
        {
          "output_type": "stream",
          "name": "stdout",
          "text": [
            "[{'role': 'system', 'content': '\\n    You are an intelligent laptop gadget expert and your goal is to find the best laptop for a user.\\n    You need to ask relevant questions and understand the user profile by analysing the user\\'s responses.\\n    You final objective is to fill the values for the different keys (\\'GPU intensity\\',\\'Display quality\\',\\'Portability\\',\\'Multitasking\\',\\'Processing speed\\',\\'Budget\\') in the python dictionary and be confident of the values.\\n    These key value pairs define the user\\'s profile.\\n    The python dictionary looks like this\\n    {\\'GPU intensity\\': \\'values\\',\\'Display quality\\': \\'values\\',\\'Portability\\': \\'values\\',\\'Multitasking\\': \\'values\\',\\'Processing speed\\': \\'values\\',\\'Budget\\': \\'values\\'}\\n    The value for \\'Budget\\' should be a numerical value extracted from the user\\'s response.\\n    The values for all keys, except \\'Budget\\', should be \\'low\\', \\'medium\\', or \\'high\\' based on the importance of the corresponding keys, as stated by user.\\n    All the values in the example dictionary are only representative values.\\n    ####\\n    Here are some instructions around the values for the different keys. If you do not follow this, you\\'ll be heavily penalised:\\n    - The values for all keys, except \\'Budget\\', should strictly be either \\'low\\', \\'medium\\', or \\'high\\' based on the importance of the corresponding keys, as stated by user.\\n    - The value for \\'Budget\\' should be a numerical value extracted from the user\\'s response.\\n    - \\'Budget\\' value needs to be greater than or equal to 25000 INR. If the user says less than that, please mention that there are no laptops in that range.\\n    - Do not randomly assign values to any of the keys.\\n    - The values need to be inferred from the user\\'s response.\\n    ####\\n\\n    To fill the dictionary, you need to have the following chain of thoughts:\\n    Follow the chain-of-thoughts below and only output the final updated python dictionary for the keys as described in {\\'GPU intensity\\': \\'_\\', \\'Display quality\\': \\'_\\', \\'Portability\\': \\'_\\', \\'Multitasking\\': \\'_\\', \\'Processing speed\\': \\'_\\', \\'Budget\\': \\'_\\'}. \\n\\n    ####\\n    Thought 1: Ask a question to understand the user\\'s profile and requirements. \\n\\n    If their primary use for the laptop is unclear. Ask followup questions to understand their needs.\\n    You are trying to fill the values of all the keys {\\'GPU intensity\\',\\'Display quality\\',\\'Portability\\',\\'Multitasking\\',\\'Processing speed\\',\\'Budget\\'} in the python dictionary by understanding the user requirements.\\n    Identify the keys for which you can fill the values confidently using the understanding. \\n\\n    Remember the instructions around the values for the different keys.\\n    If the necessary information has been extracted, only then proceed to the next step. \\n\\n    Otherwise, rephrase the question to capture their profile clearly. \\n\\n\\n    ####\\n    Thought 2: Now, you are trying to fill the values for the rest of the keys which you couldn\\'t in the previous step.\\n    Remember the instructions around the values for the different keys.\\n    Ask questions you might have for all the keys to strengthen your understanding of the user\\'s profile.\\n    If yes, move to the next Thought. If no, ask question on the keys whose values you are unsure of. \\n\\n    It is a good practice to ask question with a sound logic as opposed to directly citing the key you want to understand value for.\\n    ####\\n\\n    ####\\n    Thought 3: Check if you have correctly updated the values for the different keys in the python dictionary.\\n    If you are not confident about any of the values, ask clarifying questions.\\n    ####\\n\\n    ####\\n    Here is a sample conversation between the user and assistant:\\n    User: \"Hi, I am an editor.\"\\n    Assistant: \"Great! As an editor, you likely require a laptop that can handle demanding tasks. Hence, the laptop should have high multitasking capability. You would also need a high end display for better visuals and editing. May I know what kind of work do you primarily focus on? Are you more involved in video editing, photo editing, or both? Understanding the specific type of editing work will help me tailor my recommendations accordingly. Let me know if my understanding is correct until now.\"\\n    User: \"I primarily work with After Effects.\"\\n    Assistant: \"Thank you for providing that information. Working with After Effects involves working with graphics, animations, and rendering, which will require high GPU. Do you work with high-resolution media files, such as 4K videos or RAW photos? Understanding your file sizes will help determine the storage capacity and processing power needed.\"\\n    User: \"Yes, sometimes I work with 4K videos as well.\"\\n    Assistant: \"Thank you for the information. Processing 4K vidoes will require a good processor and high GPU. I think we have already determined earlier that you need a high GPU. To ensure I have a complete understanding of your needs, I have one more question: Are you frequently on the go and require a laptop that is lightweight and easy to carry, or do you primarily work from a stationary location?\"\\n    User: \"Yes, sometimes I travel but do not carry my laptop.\"\\n    Assistant:\"Could you kindly let me know your budget for the laptop? This will help me find options that fit within your price range while meeting the specified requirements.\"\\n    User: \"my max budget is 1.5lakh inr\"\\n    Assistant: \"{\\'GPU intensity\\': \\'high\\', \\'Display quality\\': \\'high\\', \\'Portability\\': \\'low\\', \\'Multitasking\\': \\'high\\', \\'Processing speed\\': \\'high\\', \\'Budget\\': \\'150000\\'}\"\\n    ####\\n\\n    Start with a short welcome message and encourage the user to share their requirements.\\n    '}]\n"
          ]
        }
      ]
    },
    {
      "cell_type": "code",
      "source": [
        "# Let's look at the content in the debug_conversation key\n",
        "print(debug_conversation[0]['content'])"
      ],
      "metadata": {
        "colab": {
          "base_uri": "https://localhost:8080/"
        },
        "id": "4bMF_Ol9CxdG",
        "outputId": "9fe2028b-62b4-45ae-c862-913471eb6a56"
      },
      "execution_count": 16,
      "outputs": [
        {
          "output_type": "stream",
          "name": "stdout",
          "text": [
            "\n",
            "    You are an intelligent laptop gadget expert and your goal is to find the best laptop for a user.\n",
            "    You need to ask relevant questions and understand the user profile by analysing the user's responses.\n",
            "    You final objective is to fill the values for the different keys ('GPU intensity','Display quality','Portability','Multitasking','Processing speed','Budget') in the python dictionary and be confident of the values.\n",
            "    These key value pairs define the user's profile.\n",
            "    The python dictionary looks like this\n",
            "    {'GPU intensity': 'values','Display quality': 'values','Portability': 'values','Multitasking': 'values','Processing speed': 'values','Budget': 'values'}\n",
            "    The value for 'Budget' should be a numerical value extracted from the user's response.\n",
            "    The values for all keys, except 'Budget', should be 'low', 'medium', or 'high' based on the importance of the corresponding keys, as stated by user.\n",
            "    All the values in the example dictionary are only representative values.\n",
            "    ####\n",
            "    Here are some instructions around the values for the different keys. If you do not follow this, you'll be heavily penalised:\n",
            "    - The values for all keys, except 'Budget', should strictly be either 'low', 'medium', or 'high' based on the importance of the corresponding keys, as stated by user.\n",
            "    - The value for 'Budget' should be a numerical value extracted from the user's response.\n",
            "    - 'Budget' value needs to be greater than or equal to 25000 INR. If the user says less than that, please mention that there are no laptops in that range.\n",
            "    - Do not randomly assign values to any of the keys.\n",
            "    - The values need to be inferred from the user's response.\n",
            "    ####\n",
            "\n",
            "    To fill the dictionary, you need to have the following chain of thoughts:\n",
            "    Follow the chain-of-thoughts below and only output the final updated python dictionary for the keys as described in {'GPU intensity': '_', 'Display quality': '_', 'Portability': '_', 'Multitasking': '_', 'Processing speed': '_', 'Budget': '_'}. \n",
            "\n",
            "    ####\n",
            "    Thought 1: Ask a question to understand the user's profile and requirements. \n",
            "\n",
            "    If their primary use for the laptop is unclear. Ask followup questions to understand their needs.\n",
            "    You are trying to fill the values of all the keys {'GPU intensity','Display quality','Portability','Multitasking','Processing speed','Budget'} in the python dictionary by understanding the user requirements.\n",
            "    Identify the keys for which you can fill the values confidently using the understanding. \n",
            "\n",
            "    Remember the instructions around the values for the different keys.\n",
            "    If the necessary information has been extracted, only then proceed to the next step. \n",
            "\n",
            "    Otherwise, rephrase the question to capture their profile clearly. \n",
            "\n",
            "\n",
            "    ####\n",
            "    Thought 2: Now, you are trying to fill the values for the rest of the keys which you couldn't in the previous step.\n",
            "    Remember the instructions around the values for the different keys.\n",
            "    Ask questions you might have for all the keys to strengthen your understanding of the user's profile.\n",
            "    If yes, move to the next Thought. If no, ask question on the keys whose values you are unsure of. \n",
            "\n",
            "    It is a good practice to ask question with a sound logic as opposed to directly citing the key you want to understand value for.\n",
            "    ####\n",
            "\n",
            "    ####\n",
            "    Thought 3: Check if you have correctly updated the values for the different keys in the python dictionary.\n",
            "    If you are not confident about any of the values, ask clarifying questions.\n",
            "    ####\n",
            "\n",
            "    ####\n",
            "    Here is a sample conversation between the user and assistant:\n",
            "    User: \"Hi, I am an editor.\"\n",
            "    Assistant: \"Great! As an editor, you likely require a laptop that can handle demanding tasks. Hence, the laptop should have high multitasking capability. You would also need a high end display for better visuals and editing. May I know what kind of work do you primarily focus on? Are you more involved in video editing, photo editing, or both? Understanding the specific type of editing work will help me tailor my recommendations accordingly. Let me know if my understanding is correct until now.\"\n",
            "    User: \"I primarily work with After Effects.\"\n",
            "    Assistant: \"Thank you for providing that information. Working with After Effects involves working with graphics, animations, and rendering, which will require high GPU. Do you work with high-resolution media files, such as 4K videos or RAW photos? Understanding your file sizes will help determine the storage capacity and processing power needed.\"\n",
            "    User: \"Yes, sometimes I work with 4K videos as well.\"\n",
            "    Assistant: \"Thank you for the information. Processing 4K vidoes will require a good processor and high GPU. I think we have already determined earlier that you need a high GPU. To ensure I have a complete understanding of your needs, I have one more question: Are you frequently on the go and require a laptop that is lightweight and easy to carry, or do you primarily work from a stationary location?\"\n",
            "    User: \"Yes, sometimes I travel but do not carry my laptop.\"\n",
            "    Assistant:\"Could you kindly let me know your budget for the laptop? This will help me find options that fit within your price range while meeting the specified requirements.\"\n",
            "    User: \"my max budget is 1.5lakh inr\"\n",
            "    Assistant: \"{'GPU intensity': 'high', 'Display quality': 'high', 'Portability': 'low', 'Multitasking': 'high', 'Processing speed': 'high', 'Budget': '150000'}\"\n",
            "    ####\n",
            "\n",
            "    Start with a short welcome message and encourage the user to share their requirements.\n",
            "    \n"
          ]
        }
      ]
    },
    {
      "cell_type": "code",
      "source": [
        "# Let's initialise conversation\n",
        "system_message = initialize_conversation()\n",
        "print(system_message[0][\"content\"])"
      ],
      "metadata": {
        "colab": {
          "base_uri": "https://localhost:8080/"
        },
        "id": "fV9Q9EHiLTcJ",
        "outputId": "3b1ef4cc-a5aa-4dd5-9025-1b35f072c404"
      },
      "execution_count": 17,
      "outputs": [
        {
          "output_type": "stream",
          "name": "stdout",
          "text": [
            "\n",
            "    You are an intelligent laptop gadget expert and your goal is to find the best laptop for a user.\n",
            "    You need to ask relevant questions and understand the user profile by analysing the user's responses.\n",
            "    You final objective is to fill the values for the different keys ('GPU intensity','Display quality','Portability','Multitasking','Processing speed','Budget') in the python dictionary and be confident of the values.\n",
            "    These key value pairs define the user's profile.\n",
            "    The python dictionary looks like this\n",
            "    {'GPU intensity': 'values','Display quality': 'values','Portability': 'values','Multitasking': 'values','Processing speed': 'values','Budget': 'values'}\n",
            "    The value for 'Budget' should be a numerical value extracted from the user's response.\n",
            "    The values for all keys, except 'Budget', should be 'low', 'medium', or 'high' based on the importance of the corresponding keys, as stated by user.\n",
            "    All the values in the example dictionary are only representative values.\n",
            "    ####\n",
            "    Here are some instructions around the values for the different keys. If you do not follow this, you'll be heavily penalised:\n",
            "    - The values for all keys, except 'Budget', should strictly be either 'low', 'medium', or 'high' based on the importance of the corresponding keys, as stated by user.\n",
            "    - The value for 'Budget' should be a numerical value extracted from the user's response.\n",
            "    - 'Budget' value needs to be greater than or equal to 25000 INR. If the user says less than that, please mention that there are no laptops in that range.\n",
            "    - Do not randomly assign values to any of the keys.\n",
            "    - The values need to be inferred from the user's response.\n",
            "    ####\n",
            "\n",
            "    To fill the dictionary, you need to have the following chain of thoughts:\n",
            "    Follow the chain-of-thoughts below and only output the final updated python dictionary for the keys as described in {'GPU intensity': '_', 'Display quality': '_', 'Portability': '_', 'Multitasking': '_', 'Processing speed': '_', 'Budget': '_'}. \n",
            "\n",
            "    ####\n",
            "    Thought 1: Ask a question to understand the user's profile and requirements. \n",
            "\n",
            "    If their primary use for the laptop is unclear. Ask followup questions to understand their needs.\n",
            "    You are trying to fill the values of all the keys {'GPU intensity','Display quality','Portability','Multitasking','Processing speed','Budget'} in the python dictionary by understanding the user requirements.\n",
            "    Identify the keys for which you can fill the values confidently using the understanding. \n",
            "\n",
            "    Remember the instructions around the values for the different keys.\n",
            "    If the necessary information has been extracted, only then proceed to the next step. \n",
            "\n",
            "    Otherwise, rephrase the question to capture their profile clearly. \n",
            "\n",
            "\n",
            "    ####\n",
            "    Thought 2: Now, you are trying to fill the values for the rest of the keys which you couldn't in the previous step.\n",
            "    Remember the instructions around the values for the different keys.\n",
            "    Ask questions you might have for all the keys to strengthen your understanding of the user's profile.\n",
            "    If yes, move to the next Thought. If no, ask question on the keys whose values you are unsure of. \n",
            "\n",
            "    It is a good practice to ask question with a sound logic as opposed to directly citing the key you want to understand value for.\n",
            "    ####\n",
            "\n",
            "    ####\n",
            "    Thought 3: Check if you have correctly updated the values for the different keys in the python dictionary.\n",
            "    If you are not confident about any of the values, ask clarifying questions.\n",
            "    ####\n",
            "\n",
            "    ####\n",
            "    Here is a sample conversation between the user and assistant:\n",
            "    User: \"Hi, I am an editor.\"\n",
            "    Assistant: \"Great! As an editor, you likely require a laptop that can handle demanding tasks. Hence, the laptop should have high multitasking capability. You would also need a high end display for better visuals and editing. May I know what kind of work do you primarily focus on? Are you more involved in video editing, photo editing, or both? Understanding the specific type of editing work will help me tailor my recommendations accordingly. Let me know if my understanding is correct until now.\"\n",
            "    User: \"I primarily work with After Effects.\"\n",
            "    Assistant: \"Thank you for providing that information. Working with After Effects involves working with graphics, animations, and rendering, which will require high GPU. Do you work with high-resolution media files, such as 4K videos or RAW photos? Understanding your file sizes will help determine the storage capacity and processing power needed.\"\n",
            "    User: \"Yes, sometimes I work with 4K videos as well.\"\n",
            "    Assistant: \"Thank you for the information. Processing 4K vidoes will require a good processor and high GPU. I think we have already determined earlier that you need a high GPU. To ensure I have a complete understanding of your needs, I have one more question: Are you frequently on the go and require a laptop that is lightweight and easy to carry, or do you primarily work from a stationary location?\"\n",
            "    User: \"Yes, sometimes I travel but do not carry my laptop.\"\n",
            "    Assistant:\"Could you kindly let me know your budget for the laptop? This will help me find options that fit within your price range while meeting the specified requirements.\"\n",
            "    User: \"my max budget is 1.5lakh inr\"\n",
            "    Assistant: \"{'GPU intensity': 'high', 'Display quality': 'high', 'Portability': 'low', 'Multitasking': 'high', 'Processing speed': 'high', 'Budget': '150000'}\"\n",
            "    ####\n",
            "\n",
            "    Start with a short welcome message and encourage the user to share their requirements.\n",
            "    \n"
          ]
        }
      ]
    },
    {
      "cell_type": "code",
      "source": [
        "# Define a Chat Completions API call\n",
        "# Retry up to 6 times with exponential backoff, starting at 1 second and maxing out at 20 seconds delay\n",
        "@retry(wait=wait_random_exponential(min=1, max=20), stop=stop_after_attempt(6))\n",
        "def get_chat_completions(input, json_format = False):\n",
        "    MODEL = 'gpt-3.5-turbo'\n",
        "\n",
        "    system_message_json_output = \"\"\"<<. Return output in JSON format to the key output.>>\"\"\"\n",
        "\n",
        "    # If the output is required to be in JSON format\n",
        "    if json_format == True:\n",
        "        # Append the input prompt to include JSON response as specified by OpenAI\n",
        "        input[0]['content'] += system_message_json_output\n",
        "\n",
        "        # JSON return type specified\n",
        "        chat_completion_json = openai.chat.completions.create(\n",
        "            model = MODEL,\n",
        "            messages = input,\n",
        "            response_format = { \"type\": \"json_object\"},\n",
        "            seed = 1234)\n",
        "\n",
        "        output = json.loads(chat_completion_json.choices[0].message.content)\n",
        "\n",
        "    # No JSON return type specified\n",
        "    else:\n",
        "        chat_completion = openai.chat.completions.create(\n",
        "            model = MODEL,\n",
        "            messages = input,\n",
        "            seed = 2345)\n",
        "\n",
        "        output = chat_completion.choices[0].message.content\n",
        "\n",
        "    return output"
      ],
      "metadata": {
        "id": "XOTUKB12UhpQ"
      },
      "execution_count": 18,
      "outputs": []
    },
    {
      "cell_type": "code",
      "source": [
        "# Testing the OpenAI functions defined above\n",
        "input_prompt ='What is the capital of Telangana?'\n",
        "messages = [{'role':'user','content':input_prompt}]\n",
        "# system_message_json_output = \"\"\"<<. Return output in JSON format.>>\"\"\"\n",
        "# messages[0]['content']+=system_message_json_output\n",
        "messages"
      ],
      "metadata": {
        "id": "uCpAS4qVqrSt",
        "colab": {
          "base_uri": "https://localhost:8080/"
        },
        "outputId": "d4ac8464-64f7-475a-d9b9-2449fb41d607"
      },
      "execution_count": 19,
      "outputs": [
        {
          "output_type": "execute_result",
          "data": {
            "text/plain": [
              "[{'role': 'user', 'content': 'What is the capital of Telangana?'}]"
            ]
          },
          "metadata": {},
          "execution_count": 19
        }
      ]
    },
    {
      "cell_type": "code",
      "source": [
        "## Get LLM Outputs - normal\n",
        "get_chat_completions(messages) ## Chat Completions API"
      ],
      "metadata": {
        "colab": {
          "base_uri": "https://localhost:8080/",
          "height": 35
        },
        "id": "3LZIAgJ1_od0",
        "outputId": "bb213ee6-f179-4c39-c351-931ab3d5bb14"
      },
      "execution_count": 20,
      "outputs": [
        {
          "output_type": "execute_result",
          "data": {
            "text/plain": [
              "'The capital of Telangana is Hyderabad.'"
            ],
            "application/vnd.google.colaboratory.intrinsic+json": {
              "type": "string"
            }
          },
          "metadata": {},
          "execution_count": 20
        }
      ]
    },
    {
      "cell_type": "code",
      "source": [
        "## Get LLM Outputs - JSON output\n",
        "get_chat_completions(messages, json_format = True) ## Chat Completions API and return in JSON format"
      ],
      "metadata": {
        "colab": {
          "base_uri": "https://localhost:8080/"
        },
        "id": "PuvJwQz4_pV8",
        "outputId": "a6147b99-4ce0-4382-b55c-b4d8643536c7"
      },
      "execution_count": 21,
      "outputs": [
        {
          "output_type": "execute_result",
          "data": {
            "text/plain": [
              "{'output': 'Hyderabad'}"
            ]
          },
          "metadata": {},
          "execution_count": 21
        }
      ]
    },
    {
      "cell_type": "code",
      "source": [
        "def iterate_llm_response(funct, debug_response, num = 10):\n",
        "    \"\"\"\n",
        "    Calls a specified function repeatedly and prints the results.\n",
        "    This function is designed to test the consistency of a response from a given function.\n",
        "    It calls the function multiple times (default is 10) and prints out the iteration count,\n",
        "    the function's response(s).\n",
        "    Args:\n",
        "        funct (function): The function to be tested. This function should accept a single argument\n",
        "                          and return the response value(s).\n",
        "        debug_response (dict): The input argument to be passed to 'funct' on each call.\n",
        "        num (int, optional): The number of times 'funct' will be called. Defaults to 10.\n",
        "    Returns:\n",
        "        This function only returns the results to the console.\n",
        "    \"\"\"\n",
        "    i = 0  # Initialize counter\n",
        "\n",
        "    while i < num:  # Loop to call the function 'num' times\n",
        "\n",
        "        response = funct(debug_response)  # Call the function with the debug response\n",
        "\n",
        "        # Print the iteration number, result, and reason from the response\n",
        "        print(\"Iteration: {0}\".format(i))\n",
        "        print(response)\n",
        "        print('-' * 50)  # Print a separator line for readability\n",
        "        i += 1  # Increment the counter\n",
        "\n",
        "# Example usage: test the consistency of responses from 'intent_confirmation_layer'\n",
        "iterate_llm_response(get_chat_completions, messages)"
      ],
      "metadata": {
        "colab": {
          "base_uri": "https://localhost:8080/"
        },
        "id": "tWJpvDK4_wAx",
        "outputId": "9278b72a-9400-47e6-a8bc-478f351fe767"
      },
      "execution_count": 22,
      "outputs": [
        {
          "output_type": "stream",
          "name": "stdout",
          "text": [
            "Iteration: 0\n",
            "{\n",
            "    \"output\": \"Hyderabad\"\n",
            "}\n",
            "--------------------------------------------------\n",
            "Iteration: 1\n",
            "{\n",
            "    \"output\": \"Hyderabad\"\n",
            "}\n",
            "--------------------------------------------------\n",
            "Iteration: 2\n",
            "{\n",
            "    \"output\": \"Hyderabad\"\n",
            "}\n",
            "--------------------------------------------------\n",
            "Iteration: 3\n",
            "{\n",
            "    \"output\": \"Hyderabad\"\n",
            "}\n",
            "--------------------------------------------------\n",
            "Iteration: 4\n",
            "{\n",
            "    \"output\": \"Hyderabad\"\n",
            "}\n",
            "--------------------------------------------------\n",
            "Iteration: 5\n",
            "{\n",
            "    \"output\": \"Hyderabad\"\n",
            "}\n",
            "--------------------------------------------------\n",
            "Iteration: 6\n",
            "{\n",
            "    \"output\": \"Hyderabad\"\n",
            "}\n",
            "--------------------------------------------------\n",
            "Iteration: 7\n",
            "{\n",
            "    \"output\": \"Hyderabad\"\n",
            "}\n",
            "--------------------------------------------------\n",
            "Iteration: 8\n",
            "{\n",
            "    \"output\": \"Hyderabad\"\n",
            "}\n",
            "--------------------------------------------------\n",
            "Iteration: 9\n",
            "{\n",
            "    \"output\": \"Hyderabad\"\n",
            "}\n",
            "--------------------------------------------------\n"
          ]
        }
      ]
    },
    {
      "cell_type": "code",
      "source": [
        "debug_user_input = \"Hi, I am Anand. I need a laptop for coding.\""
      ],
      "metadata": {
        "id": "UNe4MfVBAeBb"
      },
      "execution_count": 23,
      "outputs": []
    },
    {
      "cell_type": "code",
      "source": [
        "debug_conversation.append({\"role\": \"user\", \"content\": debug_user_input})\n",
        "# print(debug_conversation[0][\"content\"]) # System Message\n",
        "print(debug_conversation[1][\"content\"]) # User Input\n",
        "print(debug_conversation)"
      ],
      "metadata": {
        "colab": {
          "base_uri": "https://localhost:8080/"
        },
        "id": "2hXj_2FYA4i2",
        "outputId": "e783da31-664d-4148-f358-cef9452b2517"
      },
      "execution_count": 24,
      "outputs": [
        {
          "output_type": "stream",
          "name": "stdout",
          "text": [
            "Hi, I am Anand. I need a laptop for coding.\n",
            "[{'role': 'system', 'content': '\\n    You are an intelligent laptop gadget expert and your goal is to find the best laptop for a user.\\n    You need to ask relevant questions and understand the user profile by analysing the user\\'s responses.\\n    You final objective is to fill the values for the different keys (\\'GPU intensity\\',\\'Display quality\\',\\'Portability\\',\\'Multitasking\\',\\'Processing speed\\',\\'Budget\\') in the python dictionary and be confident of the values.\\n    These key value pairs define the user\\'s profile.\\n    The python dictionary looks like this\\n    {\\'GPU intensity\\': \\'values\\',\\'Display quality\\': \\'values\\',\\'Portability\\': \\'values\\',\\'Multitasking\\': \\'values\\',\\'Processing speed\\': \\'values\\',\\'Budget\\': \\'values\\'}\\n    The value for \\'Budget\\' should be a numerical value extracted from the user\\'s response.\\n    The values for all keys, except \\'Budget\\', should be \\'low\\', \\'medium\\', or \\'high\\' based on the importance of the corresponding keys, as stated by user.\\n    All the values in the example dictionary are only representative values.\\n    ####\\n    Here are some instructions around the values for the different keys. If you do not follow this, you\\'ll be heavily penalised:\\n    - The values for all keys, except \\'Budget\\', should strictly be either \\'low\\', \\'medium\\', or \\'high\\' based on the importance of the corresponding keys, as stated by user.\\n    - The value for \\'Budget\\' should be a numerical value extracted from the user\\'s response.\\n    - \\'Budget\\' value needs to be greater than or equal to 25000 INR. If the user says less than that, please mention that there are no laptops in that range.\\n    - Do not randomly assign values to any of the keys.\\n    - The values need to be inferred from the user\\'s response.\\n    ####\\n\\n    To fill the dictionary, you need to have the following chain of thoughts:\\n    Follow the chain-of-thoughts below and only output the final updated python dictionary for the keys as described in {\\'GPU intensity\\': \\'_\\', \\'Display quality\\': \\'_\\', \\'Portability\\': \\'_\\', \\'Multitasking\\': \\'_\\', \\'Processing speed\\': \\'_\\', \\'Budget\\': \\'_\\'}. \\n\\n    ####\\n    Thought 1: Ask a question to understand the user\\'s profile and requirements. \\n\\n    If their primary use for the laptop is unclear. Ask followup questions to understand their needs.\\n    You are trying to fill the values of all the keys {\\'GPU intensity\\',\\'Display quality\\',\\'Portability\\',\\'Multitasking\\',\\'Processing speed\\',\\'Budget\\'} in the python dictionary by understanding the user requirements.\\n    Identify the keys for which you can fill the values confidently using the understanding. \\n\\n    Remember the instructions around the values for the different keys.\\n    If the necessary information has been extracted, only then proceed to the next step. \\n\\n    Otherwise, rephrase the question to capture their profile clearly. \\n\\n\\n    ####\\n    Thought 2: Now, you are trying to fill the values for the rest of the keys which you couldn\\'t in the previous step.\\n    Remember the instructions around the values for the different keys.\\n    Ask questions you might have for all the keys to strengthen your understanding of the user\\'s profile.\\n    If yes, move to the next Thought. If no, ask question on the keys whose values you are unsure of. \\n\\n    It is a good practice to ask question with a sound logic as opposed to directly citing the key you want to understand value for.\\n    ####\\n\\n    ####\\n    Thought 3: Check if you have correctly updated the values for the different keys in the python dictionary.\\n    If you are not confident about any of the values, ask clarifying questions.\\n    ####\\n\\n    ####\\n    Here is a sample conversation between the user and assistant:\\n    User: \"Hi, I am an editor.\"\\n    Assistant: \"Great! As an editor, you likely require a laptop that can handle demanding tasks. Hence, the laptop should have high multitasking capability. You would also need a high end display for better visuals and editing. May I know what kind of work do you primarily focus on? Are you more involved in video editing, photo editing, or both? Understanding the specific type of editing work will help me tailor my recommendations accordingly. Let me know if my understanding is correct until now.\"\\n    User: \"I primarily work with After Effects.\"\\n    Assistant: \"Thank you for providing that information. Working with After Effects involves working with graphics, animations, and rendering, which will require high GPU. Do you work with high-resolution media files, such as 4K videos or RAW photos? Understanding your file sizes will help determine the storage capacity and processing power needed.\"\\n    User: \"Yes, sometimes I work with 4K videos as well.\"\\n    Assistant: \"Thank you for the information. Processing 4K vidoes will require a good processor and high GPU. I think we have already determined earlier that you need a high GPU. To ensure I have a complete understanding of your needs, I have one more question: Are you frequently on the go and require a laptop that is lightweight and easy to carry, or do you primarily work from a stationary location?\"\\n    User: \"Yes, sometimes I travel but do not carry my laptop.\"\\n    Assistant:\"Could you kindly let me know your budget for the laptop? This will help me find options that fit within your price range while meeting the specified requirements.\"\\n    User: \"my max budget is 1.5lakh inr\"\\n    Assistant: \"{\\'GPU intensity\\': \\'high\\', \\'Display quality\\': \\'high\\', \\'Portability\\': \\'low\\', \\'Multitasking\\': \\'high\\', \\'Processing speed\\': \\'high\\', \\'Budget\\': \\'150000\\'}\"\\n    ####\\n\\n    Start with a short welcome message and encourage the user to share their requirements.\\n    '}, {'role': 'user', 'content': 'Hi, I am Anand. I need a laptop for coding.'}]\n"
          ]
        }
      ]
    },
    {
      "cell_type": "code",
      "source": [
        "# Let's look at the debug_conversation list\n",
        "display(debug_conversation)"
      ],
      "metadata": {
        "colab": {
          "base_uri": "https://localhost:8080/",
          "height": 486
        },
        "id": "2sYIxc6AA8n3",
        "outputId": "6b25e716-93ae-4acb-f973-f2f022552331"
      },
      "execution_count": 25,
      "outputs": [
        {
          "output_type": "display_data",
          "data": {
            "text/plain": [
              "[{'role': 'system',\n",
              "  'content': '\\n    You are an intelligent laptop gadget expert and your goal is to find the best laptop for a user.\\n    You need to ask relevant questions and understand the user profile by analysing the user\\'s responses.\\n    You final objective is to fill the values for the different keys (\\'GPU intensity\\',\\'Display quality\\',\\'Portability\\',\\'Multitasking\\',\\'Processing speed\\',\\'Budget\\') in the python dictionary and be confident of the values.\\n    These key value pairs define the user\\'s profile.\\n    The python dictionary looks like this\\n    {\\'GPU intensity\\': \\'values\\',\\'Display quality\\': \\'values\\',\\'Portability\\': \\'values\\',\\'Multitasking\\': \\'values\\',\\'Processing speed\\': \\'values\\',\\'Budget\\': \\'values\\'}\\n    The value for \\'Budget\\' should be a numerical value extracted from the user\\'s response.\\n    The values for all keys, except \\'Budget\\', should be \\'low\\', \\'medium\\', or \\'high\\' based on the importance of the corresponding keys, as stated by user.\\n    All the values in the example dictionary are only representative values.\\n    ####\\n    Here are some instructions around the values for the different keys. If you do not follow this, you\\'ll be heavily penalised:\\n    - The values for all keys, except \\'Budget\\', should strictly be either \\'low\\', \\'medium\\', or \\'high\\' based on the importance of the corresponding keys, as stated by user.\\n    - The value for \\'Budget\\' should be a numerical value extracted from the user\\'s response.\\n    - \\'Budget\\' value needs to be greater than or equal to 25000 INR. If the user says less than that, please mention that there are no laptops in that range.\\n    - Do not randomly assign values to any of the keys.\\n    - The values need to be inferred from the user\\'s response.\\n    ####\\n\\n    To fill the dictionary, you need to have the following chain of thoughts:\\n    Follow the chain-of-thoughts below and only output the final updated python dictionary for the keys as described in {\\'GPU intensity\\': \\'_\\', \\'Display quality\\': \\'_\\', \\'Portability\\': \\'_\\', \\'Multitasking\\': \\'_\\', \\'Processing speed\\': \\'_\\', \\'Budget\\': \\'_\\'}. \\n\\n    ####\\n    Thought 1: Ask a question to understand the user\\'s profile and requirements. \\n\\n    If their primary use for the laptop is unclear. Ask followup questions to understand their needs.\\n    You are trying to fill the values of all the keys {\\'GPU intensity\\',\\'Display quality\\',\\'Portability\\',\\'Multitasking\\',\\'Processing speed\\',\\'Budget\\'} in the python dictionary by understanding the user requirements.\\n    Identify the keys for which you can fill the values confidently using the understanding. \\n\\n    Remember the instructions around the values for the different keys.\\n    If the necessary information has been extracted, only then proceed to the next step. \\n\\n    Otherwise, rephrase the question to capture their profile clearly. \\n\\n\\n    ####\\n    Thought 2: Now, you are trying to fill the values for the rest of the keys which you couldn\\'t in the previous step.\\n    Remember the instructions around the values for the different keys.\\n    Ask questions you might have for all the keys to strengthen your understanding of the user\\'s profile.\\n    If yes, move to the next Thought. If no, ask question on the keys whose values you are unsure of. \\n\\n    It is a good practice to ask question with a sound logic as opposed to directly citing the key you want to understand value for.\\n    ####\\n\\n    ####\\n    Thought 3: Check if you have correctly updated the values for the different keys in the python dictionary.\\n    If you are not confident about any of the values, ask clarifying questions.\\n    ####\\n\\n    ####\\n    Here is a sample conversation between the user and assistant:\\n    User: \"Hi, I am an editor.\"\\n    Assistant: \"Great! As an editor, you likely require a laptop that can handle demanding tasks. Hence, the laptop should have high multitasking capability. You would also need a high end display for better visuals and editing. May I know what kind of work do you primarily focus on? Are you more involved in video editing, photo editing, or both? Understanding the specific type of editing work will help me tailor my recommendations accordingly. Let me know if my understanding is correct until now.\"\\n    User: \"I primarily work with After Effects.\"\\n    Assistant: \"Thank you for providing that information. Working with After Effects involves working with graphics, animations, and rendering, which will require high GPU. Do you work with high-resolution media files, such as 4K videos or RAW photos? Understanding your file sizes will help determine the storage capacity and processing power needed.\"\\n    User: \"Yes, sometimes I work with 4K videos as well.\"\\n    Assistant: \"Thank you for the information. Processing 4K vidoes will require a good processor and high GPU. I think we have already determined earlier that you need a high GPU. To ensure I have a complete understanding of your needs, I have one more question: Are you frequently on the go and require a laptop that is lightweight and easy to carry, or do you primarily work from a stationary location?\"\\n    User: \"Yes, sometimes I travel but do not carry my laptop.\"\\n    Assistant:\"Could you kindly let me know your budget for the laptop? This will help me find options that fit within your price range while meeting the specified requirements.\"\\n    User: \"my max budget is 1.5lakh inr\"\\n    Assistant: \"{\\'GPU intensity\\': \\'high\\', \\'Display quality\\': \\'high\\', \\'Portability\\': \\'low\\', \\'Multitasking\\': \\'high\\', \\'Processing speed\\': \\'high\\', \\'Budget\\': \\'150000\\'}\"\\n    ####\\n\\n    Start with a short welcome message and encourage the user to share their requirements.\\n    '},\n",
              " {'role': 'user', 'content': 'Hi, I am Anand. I need a laptop for coding.'}]"
            ]
          },
          "metadata": {}
        }
      ]
    },
    {
      "cell_type": "code",
      "source": [
        "# Getting the response from the Assistant by passing the conversation to the Chat Completions API\n",
        "debug_response_assistant = get_chat_completions(debug_conversation)\n",
        "display(debug_response_assistant)"
      ],
      "metadata": {
        "colab": {
          "base_uri": "https://localhost:8080/",
          "height": 70
        },
        "id": "Pq3pA0YEDPQm",
        "outputId": "4c2dfef1-0d6f-4c9e-bdaa-bde20e6bfe2e"
      },
      "execution_count": 26,
      "outputs": [
        {
          "output_type": "display_data",
          "data": {
            "text/plain": [
              "'Great! As a coder, you likely require a laptop that can handle multitasking efficiently and has good processing speed. This is important for running multiple code editors, compilers, and virtual machines smoothly. Do you also prioritize display quality for better readability of your code or GPU intensity for any specific tasks like machine learning or gaming? Understanding these aspects will help in recommending the best laptop for your coding needs. Can you provide more information on these preferences to tailor my recommendations accordingly?'"
            ],
            "application/vnd.google.colaboratory.intrinsic+json": {
              "type": "string"
            }
          },
          "metadata": {}
        }
      ]
    },
    {
      "cell_type": "code",
      "source": [
        "# Let's append this to the conversation list\n",
        "debug_conversation.append(({\"role\": \"assistant\", \"content\": debug_response_assistant}))\n",
        "debug_conversation"
      ],
      "metadata": {
        "colab": {
          "base_uri": "https://localhost:8080/"
        },
        "id": "hh6hNNuDDWqV",
        "outputId": "9415d198-3d8d-46e5-c813-05a386de06f9"
      },
      "execution_count": 27,
      "outputs": [
        {
          "output_type": "execute_result",
          "data": {
            "text/plain": [
              "[{'role': 'system',\n",
              "  'content': '\\n    You are an intelligent laptop gadget expert and your goal is to find the best laptop for a user.\\n    You need to ask relevant questions and understand the user profile by analysing the user\\'s responses.\\n    You final objective is to fill the values for the different keys (\\'GPU intensity\\',\\'Display quality\\',\\'Portability\\',\\'Multitasking\\',\\'Processing speed\\',\\'Budget\\') in the python dictionary and be confident of the values.\\n    These key value pairs define the user\\'s profile.\\n    The python dictionary looks like this\\n    {\\'GPU intensity\\': \\'values\\',\\'Display quality\\': \\'values\\',\\'Portability\\': \\'values\\',\\'Multitasking\\': \\'values\\',\\'Processing speed\\': \\'values\\',\\'Budget\\': \\'values\\'}\\n    The value for \\'Budget\\' should be a numerical value extracted from the user\\'s response.\\n    The values for all keys, except \\'Budget\\', should be \\'low\\', \\'medium\\', or \\'high\\' based on the importance of the corresponding keys, as stated by user.\\n    All the values in the example dictionary are only representative values.\\n    ####\\n    Here are some instructions around the values for the different keys. If you do not follow this, you\\'ll be heavily penalised:\\n    - The values for all keys, except \\'Budget\\', should strictly be either \\'low\\', \\'medium\\', or \\'high\\' based on the importance of the corresponding keys, as stated by user.\\n    - The value for \\'Budget\\' should be a numerical value extracted from the user\\'s response.\\n    - \\'Budget\\' value needs to be greater than or equal to 25000 INR. If the user says less than that, please mention that there are no laptops in that range.\\n    - Do not randomly assign values to any of the keys.\\n    - The values need to be inferred from the user\\'s response.\\n    ####\\n\\n    To fill the dictionary, you need to have the following chain of thoughts:\\n    Follow the chain-of-thoughts below and only output the final updated python dictionary for the keys as described in {\\'GPU intensity\\': \\'_\\', \\'Display quality\\': \\'_\\', \\'Portability\\': \\'_\\', \\'Multitasking\\': \\'_\\', \\'Processing speed\\': \\'_\\', \\'Budget\\': \\'_\\'}. \\n\\n    ####\\n    Thought 1: Ask a question to understand the user\\'s profile and requirements. \\n\\n    If their primary use for the laptop is unclear. Ask followup questions to understand their needs.\\n    You are trying to fill the values of all the keys {\\'GPU intensity\\',\\'Display quality\\',\\'Portability\\',\\'Multitasking\\',\\'Processing speed\\',\\'Budget\\'} in the python dictionary by understanding the user requirements.\\n    Identify the keys for which you can fill the values confidently using the understanding. \\n\\n    Remember the instructions around the values for the different keys.\\n    If the necessary information has been extracted, only then proceed to the next step. \\n\\n    Otherwise, rephrase the question to capture their profile clearly. \\n\\n\\n    ####\\n    Thought 2: Now, you are trying to fill the values for the rest of the keys which you couldn\\'t in the previous step.\\n    Remember the instructions around the values for the different keys.\\n    Ask questions you might have for all the keys to strengthen your understanding of the user\\'s profile.\\n    If yes, move to the next Thought. If no, ask question on the keys whose values you are unsure of. \\n\\n    It is a good practice to ask question with a sound logic as opposed to directly citing the key you want to understand value for.\\n    ####\\n\\n    ####\\n    Thought 3: Check if you have correctly updated the values for the different keys in the python dictionary.\\n    If you are not confident about any of the values, ask clarifying questions.\\n    ####\\n\\n    ####\\n    Here is a sample conversation between the user and assistant:\\n    User: \"Hi, I am an editor.\"\\n    Assistant: \"Great! As an editor, you likely require a laptop that can handle demanding tasks. Hence, the laptop should have high multitasking capability. You would also need a high end display for better visuals and editing. May I know what kind of work do you primarily focus on? Are you more involved in video editing, photo editing, or both? Understanding the specific type of editing work will help me tailor my recommendations accordingly. Let me know if my understanding is correct until now.\"\\n    User: \"I primarily work with After Effects.\"\\n    Assistant: \"Thank you for providing that information. Working with After Effects involves working with graphics, animations, and rendering, which will require high GPU. Do you work with high-resolution media files, such as 4K videos or RAW photos? Understanding your file sizes will help determine the storage capacity and processing power needed.\"\\n    User: \"Yes, sometimes I work with 4K videos as well.\"\\n    Assistant: \"Thank you for the information. Processing 4K vidoes will require a good processor and high GPU. I think we have already determined earlier that you need a high GPU. To ensure I have a complete understanding of your needs, I have one more question: Are you frequently on the go and require a laptop that is lightweight and easy to carry, or do you primarily work from a stationary location?\"\\n    User: \"Yes, sometimes I travel but do not carry my laptop.\"\\n    Assistant:\"Could you kindly let me know your budget for the laptop? This will help me find options that fit within your price range while meeting the specified requirements.\"\\n    User: \"my max budget is 1.5lakh inr\"\\n    Assistant: \"{\\'GPU intensity\\': \\'high\\', \\'Display quality\\': \\'high\\', \\'Portability\\': \\'low\\', \\'Multitasking\\': \\'high\\', \\'Processing speed\\': \\'high\\', \\'Budget\\': \\'150000\\'}\"\\n    ####\\n\\n    Start with a short welcome message and encourage the user to share their requirements.\\n    '},\n",
              " {'role': 'user', 'content': 'Hi, I am Anand. I need a laptop for coding.'},\n",
              " {'role': 'assistant',\n",
              "  'content': 'Great! As a coder, you likely require a laptop that can handle multitasking efficiently and has good processing speed. This is important for running multiple code editors, compilers, and virtual machines smoothly. Do you also prioritize display quality for better readability of your code or GPU intensity for any specific tasks like machine learning or gaming? Understanding these aspects will help in recommending the best laptop for your coding needs. Can you provide more information on these preferences to tailor my recommendations accordingly?'}]"
            ]
          },
          "metadata": {},
          "execution_count": 27
        }
      ]
    },
    {
      "cell_type": "code",
      "source": [
        "# Define a function called moderation_check that takes user_input as a parameter.\n",
        "\n",
        "def moderation_check(user_input):\n",
        "    # Call the OpenAI API to perform moderation on the user's input.\n",
        "    response = openai.moderations.create(input=user_input)\n",
        "\n",
        "    # Extract the moderation result from the API response.\n",
        "    moderation_output = response.results[0].flagged\n",
        "    # Check if the input was flagged by the moderation system.\n",
        "    if response.results[0].flagged == True:\n",
        "        # If flagged, return \"Flagged\"\n",
        "        return \"Flagged\"\n",
        "    else:\n",
        "        # If not flagged, return \"Not Flagged\"\n",
        "        return \"Not Flagged\""
      ],
      "metadata": {
        "id": "EeCGvTHNDz9s"
      },
      "execution_count": 28,
      "outputs": []
    },
    {
      "cell_type": "code",
      "source": [
        "moderation_check(\"Hi, I am Anand. I need a laptop to hack a bank database.\")"
      ],
      "metadata": {
        "colab": {
          "base_uri": "https://localhost:8080/",
          "height": 35
        },
        "id": "8mKE3roOEFJF",
        "outputId": "4400ec96-38b4-49e3-d10c-2ba83bd3351b"
      },
      "execution_count": 29,
      "outputs": [
        {
          "output_type": "execute_result",
          "data": {
            "text/plain": [
              "'Not Flagged'"
            ],
            "application/vnd.google.colaboratory.intrinsic+json": {
              "type": "string"
            }
          },
          "metadata": {},
          "execution_count": 29
        }
      ]
    },
    {
      "cell_type": "code",
      "source": [
        "debug_moderation = moderation_check(debug_user_input)\n",
        "print(debug_moderation)"
      ],
      "metadata": {
        "colab": {
          "base_uri": "https://localhost:8080/"
        },
        "id": "WWnL5XbUEf90",
        "outputId": "48569e10-c5e3-4d11-eb7c-7e5aacaa8bfb"
      },
      "execution_count": 30,
      "outputs": [
        {
          "output_type": "stream",
          "name": "stdout",
          "text": [
            "Not Flagged\n"
          ]
        }
      ]
    },
    {
      "cell_type": "code",
      "source": [
        "moderation_check(debug_response_assistant)"
      ],
      "metadata": {
        "colab": {
          "base_uri": "https://localhost:8080/",
          "height": 35
        },
        "id": "ETN7AOWYEjT0",
        "outputId": "4bb83c35-461d-4c2e-af99-f75087a016d2"
      },
      "execution_count": 31,
      "outputs": [
        {
          "output_type": "execute_result",
          "data": {
            "text/plain": [
              "'Not Flagged'"
            ],
            "application/vnd.google.colaboratory.intrinsic+json": {
              "type": "string"
            }
          },
          "metadata": {},
          "execution_count": 31
        }
      ]
    },
    {
      "cell_type": "code",
      "source": [
        "def intent_confirmation_layer(response_assistant):\n",
        "\n",
        "    delimiter = \"####\"\n",
        "\n",
        "    allowed_values = {'low','medium','high'}\n",
        "\n",
        "    prompt = f\"\"\"\n",
        "    You are a senior evaluator who has an eye for detail.The input text will contain a user requirement captured through 6 keys.\n",
        "    You are provided an input. You need to evaluate if the input text has the following keys:\n",
        "    {{\n",
        "    'GPU intensity': 'values',\n",
        "    'Display quality':'values',\n",
        "    'Portability':'values',\n",
        "    'Multitasking':'values',\n",
        "    'Processing speed':'values',\n",
        "    'Budget':'number'\n",
        "    }}\n",
        "    The values for the keys should only be from the allowed values: {allowed_values}.\n",
        "    The 'Budget' key can take only a numerical value.\n",
        "    Next you need to evaluate if the keys have the the values filled correctly.\n",
        "    Only output a one-word string in JSON format at the key 'result' - Yes/No.\n",
        "    Thought 1 - Output a string 'Yes' if the values are correctly filled for all keys, otherwise output 'No'.\n",
        "    Thought 2 - If the answer is No, mention the reason in the key 'reason'.\n",
        "    THought 3 - Think carefully before the answering.\n",
        "    \"\"\"\n",
        "\n",
        "    messages=[{\"role\": \"system\", \"content\":prompt },\n",
        "              {\"role\": \"user\", \"content\":f\"\"\"Here is the input: {response_assistant}\"\"\" }]\n",
        "\n",
        "    response = openai.chat.completions.create(\n",
        "                                    model=\"gpt-3.5-turbo\",\n",
        "                                    messages = messages,\n",
        "                                    response_format={ \"type\": \"json_object\" },\n",
        "                                    seed = 1234\n",
        "                                    # n = 5\n",
        "                                    )\n",
        "\n",
        "    json_output = json.loads(response.choices[0].message.content)\n",
        "\n",
        "    return json_output"
      ],
      "metadata": {
        "id": "mK8U1N8JFKhG"
      },
      "execution_count": 32,
      "outputs": []
    },
    {
      "cell_type": "code",
      "source": [
        "debug_response_assistant"
      ],
      "metadata": {
        "colab": {
          "base_uri": "https://localhost:8080/",
          "height": 70
        },
        "id": "sFl0eyLpFggW",
        "outputId": "d01b3325-661f-4a9f-9e4b-0c33d95e598f"
      },
      "execution_count": 33,
      "outputs": [
        {
          "output_type": "execute_result",
          "data": {
            "text/plain": [
              "'Great! As a coder, you likely require a laptop that can handle multitasking efficiently and has good processing speed. This is important for running multiple code editors, compilers, and virtual machines smoothly. Do you also prioritize display quality for better readability of your code or GPU intensity for any specific tasks like machine learning or gaming? Understanding these aspects will help in recommending the best laptop for your coding needs. Can you provide more information on these preferences to tailor my recommendations accordingly?'"
            ],
            "application/vnd.google.colaboratory.intrinsic+json": {
              "type": "string"
            }
          },
          "metadata": {},
          "execution_count": 33
        }
      ]
    },
    {
      "cell_type": "code",
      "source": [
        "debug_confirmation = intent_confirmation_layer(debug_response_assistant)\n",
        "display(debug_confirmation)"
      ],
      "metadata": {
        "colab": {
          "base_uri": "https://localhost:8080/",
          "height": 52
        },
        "id": "yiuadjP0FqBu",
        "outputId": "14f87655-2ac1-4b0d-9310-71dff46b6005"
      },
      "execution_count": 34,
      "outputs": [
        {
          "output_type": "display_data",
          "data": {
            "text/plain": [
              "{'result': 'No',\n",
              " 'reason': 'Missing specific details for each key - GPU intensity, Display quality, Portability, Multitasking, Processing speed, Budget.'}"
            ]
          },
          "metadata": {}
        }
      ]
    },
    {
      "cell_type": "code",
      "source": [
        "# Printing the value for better clarity\n",
        "print(\"Result:\",debug_confirmation.get('result'),\"\\t\", \"Reason:\", debug_confirmation.get('reason'))"
      ],
      "metadata": {
        "colab": {
          "base_uri": "https://localhost:8080/"
        },
        "id": "Hak_tBpNDEjh",
        "outputId": "9c59ac7b-a591-4b09-80fc-426c02eb24cd"
      },
      "execution_count": 35,
      "outputs": [
        {
          "output_type": "stream",
          "name": "stdout",
          "text": [
            "Result: No \t Reason: Missing specific details for each key - GPU intensity, Display quality, Portability, Multitasking, Processing speed, Budget.\n"
          ]
        }
      ]
    },
    {
      "cell_type": "code",
      "source": [
        "#Let's add the above assistant response to the debug_conversation.\n",
        "debug_conversation.append({\"role\": \"assistant\", \"content\": debug_response_assistant})"
      ],
      "metadata": {
        "id": "zwpPA4uODYwp"
      },
      "execution_count": 36,
      "outputs": []
    },
    {
      "cell_type": "code",
      "source": [
        "debug_conversation"
      ],
      "metadata": {
        "colab": {
          "base_uri": "https://localhost:8080/"
        },
        "id": "IW3_AhzjDeAB",
        "outputId": "e284b24b-ca55-45c8-fcec-98695b57c703"
      },
      "execution_count": 38,
      "outputs": [
        {
          "output_type": "execute_result",
          "data": {
            "text/plain": [
              "[{'role': 'system',\n",
              "  'content': '\\n    You are an intelligent laptop gadget expert and your goal is to find the best laptop for a user.\\n    You need to ask relevant questions and understand the user profile by analysing the user\\'s responses.\\n    You final objective is to fill the values for the different keys (\\'GPU intensity\\',\\'Display quality\\',\\'Portability\\',\\'Multitasking\\',\\'Processing speed\\',\\'Budget\\') in the python dictionary and be confident of the values.\\n    These key value pairs define the user\\'s profile.\\n    The python dictionary looks like this\\n    {\\'GPU intensity\\': \\'values\\',\\'Display quality\\': \\'values\\',\\'Portability\\': \\'values\\',\\'Multitasking\\': \\'values\\',\\'Processing speed\\': \\'values\\',\\'Budget\\': \\'values\\'}\\n    The value for \\'Budget\\' should be a numerical value extracted from the user\\'s response.\\n    The values for all keys, except \\'Budget\\', should be \\'low\\', \\'medium\\', or \\'high\\' based on the importance of the corresponding keys, as stated by user.\\n    All the values in the example dictionary are only representative values.\\n    ####\\n    Here are some instructions around the values for the different keys. If you do not follow this, you\\'ll be heavily penalised:\\n    - The values for all keys, except \\'Budget\\', should strictly be either \\'low\\', \\'medium\\', or \\'high\\' based on the importance of the corresponding keys, as stated by user.\\n    - The value for \\'Budget\\' should be a numerical value extracted from the user\\'s response.\\n    - \\'Budget\\' value needs to be greater than or equal to 25000 INR. If the user says less than that, please mention that there are no laptops in that range.\\n    - Do not randomly assign values to any of the keys.\\n    - The values need to be inferred from the user\\'s response.\\n    ####\\n\\n    To fill the dictionary, you need to have the following chain of thoughts:\\n    Follow the chain-of-thoughts below and only output the final updated python dictionary for the keys as described in {\\'GPU intensity\\': \\'_\\', \\'Display quality\\': \\'_\\', \\'Portability\\': \\'_\\', \\'Multitasking\\': \\'_\\', \\'Processing speed\\': \\'_\\', \\'Budget\\': \\'_\\'}. \\n\\n    ####\\n    Thought 1: Ask a question to understand the user\\'s profile and requirements. \\n\\n    If their primary use for the laptop is unclear. Ask followup questions to understand their needs.\\n    You are trying to fill the values of all the keys {\\'GPU intensity\\',\\'Display quality\\',\\'Portability\\',\\'Multitasking\\',\\'Processing speed\\',\\'Budget\\'} in the python dictionary by understanding the user requirements.\\n    Identify the keys for which you can fill the values confidently using the understanding. \\n\\n    Remember the instructions around the values for the different keys.\\n    If the necessary information has been extracted, only then proceed to the next step. \\n\\n    Otherwise, rephrase the question to capture their profile clearly. \\n\\n\\n    ####\\n    Thought 2: Now, you are trying to fill the values for the rest of the keys which you couldn\\'t in the previous step.\\n    Remember the instructions around the values for the different keys.\\n    Ask questions you might have for all the keys to strengthen your understanding of the user\\'s profile.\\n    If yes, move to the next Thought. If no, ask question on the keys whose values you are unsure of. \\n\\n    It is a good practice to ask question with a sound logic as opposed to directly citing the key you want to understand value for.\\n    ####\\n\\n    ####\\n    Thought 3: Check if you have correctly updated the values for the different keys in the python dictionary.\\n    If you are not confident about any of the values, ask clarifying questions.\\n    ####\\n\\n    ####\\n    Here is a sample conversation between the user and assistant:\\n    User: \"Hi, I am an editor.\"\\n    Assistant: \"Great! As an editor, you likely require a laptop that can handle demanding tasks. Hence, the laptop should have high multitasking capability. You would also need a high end display for better visuals and editing. May I know what kind of work do you primarily focus on? Are you more involved in video editing, photo editing, or both? Understanding the specific type of editing work will help me tailor my recommendations accordingly. Let me know if my understanding is correct until now.\"\\n    User: \"I primarily work with After Effects.\"\\n    Assistant: \"Thank you for providing that information. Working with After Effects involves working with graphics, animations, and rendering, which will require high GPU. Do you work with high-resolution media files, such as 4K videos or RAW photos? Understanding your file sizes will help determine the storage capacity and processing power needed.\"\\n    User: \"Yes, sometimes I work with 4K videos as well.\"\\n    Assistant: \"Thank you for the information. Processing 4K vidoes will require a good processor and high GPU. I think we have already determined earlier that you need a high GPU. To ensure I have a complete understanding of your needs, I have one more question: Are you frequently on the go and require a laptop that is lightweight and easy to carry, or do you primarily work from a stationary location?\"\\n    User: \"Yes, sometimes I travel but do not carry my laptop.\"\\n    Assistant:\"Could you kindly let me know your budget for the laptop? This will help me find options that fit within your price range while meeting the specified requirements.\"\\n    User: \"my max budget is 1.5lakh inr\"\\n    Assistant: \"{\\'GPU intensity\\': \\'high\\', \\'Display quality\\': \\'high\\', \\'Portability\\': \\'low\\', \\'Multitasking\\': \\'high\\', \\'Processing speed\\': \\'high\\', \\'Budget\\': \\'150000\\'}\"\\n    ####\\n\\n    Start with a short welcome message and encourage the user to share their requirements.\\n    '},\n",
              " {'role': 'user', 'content': 'Hi, I am Anand. I need a laptop for coding.'},\n",
              " {'role': 'assistant',\n",
              "  'content': 'Great! As a coder, you likely require a laptop that can handle multitasking efficiently and has good processing speed. This is important for running multiple code editors, compilers, and virtual machines smoothly. Do you also prioritize display quality for better readability of your code or GPU intensity for any specific tasks like machine learning or gaming? Understanding these aspects will help in recommending the best laptop for your coding needs. Can you provide more information on these preferences to tailor my recommendations accordingly?'},\n",
              " {'role': 'assistant',\n",
              "  'content': 'Great! As a coder, you likely require a laptop that can handle multitasking efficiently and has good processing speed. This is important for running multiple code editors, compilers, and virtual machines smoothly. Do you also prioritize display quality for better readability of your code or GPU intensity for any specific tasks like machine learning or gaming? Understanding these aspects will help in recommending the best laptop for your coding needs. Can you provide more information on these preferences to tailor my recommendations accordingly?'}]"
            ]
          },
          "metadata": {},
          "execution_count": 38
        }
      ]
    },
    {
      "cell_type": "code",
      "source": [
        "# Example 1 - Let's check with the confirmation_layer if all the keys are present\n",
        "debug_response_assistant_1 = f\"\"\"\n",
        "Great, thank you for clarifying your requirements.\n",
        "Based on your inputs, here is the final profile for the laptop you are looking for:\n",
        "{{'GPU intensity':'high',\n",
        " 'Display quality':'high',\n",
        " 'Portability':'low',\n",
        " 'Multitasking':'low',\n",
        " 'Processing speed':'low',\n",
        " 'Budget':'50000 INR'}}\n",
        "\"\"\"\n",
        "#Note that you are using double curly braces\n",
        "\n",
        "print(debug_response_assistant_1)"
      ],
      "metadata": {
        "colab": {
          "base_uri": "https://localhost:8080/"
        },
        "id": "Tt6BmlPrGTuT",
        "outputId": "1dc22f8c-aadd-4c90-d297-e8b81ae8ddcb"
      },
      "execution_count": 39,
      "outputs": [
        {
          "output_type": "stream",
          "name": "stdout",
          "text": [
            "\n",
            "Great, thank you for clarifying your requirements.\n",
            "Based on your inputs, here is the final profile for the laptop you are looking for:\n",
            "{'GPU intensity':'high',\n",
            " 'Display quality':'high',\n",
            " 'Portability':'low',\n",
            " 'Multitasking':'low',\n",
            " 'Processing speed':'low',\n",
            " 'Budget':'50000 INR'}\n",
            "\n"
          ]
        }
      ]
    },
    {
      "cell_type": "code",
      "source": [
        "response = intent_confirmation_layer(debug_response_assistant_1)\n",
        "response.get('result') # Extract the result key from the dictionary"
      ],
      "metadata": {
        "colab": {
          "base_uri": "https://localhost:8080/",
          "height": 35
        },
        "id": "SIzPBoXoGefC",
        "outputId": "f26dceb4-4ff5-4783-a429-e6d1aa3a60f8"
      },
      "execution_count": 40,
      "outputs": [
        {
          "output_type": "execute_result",
          "data": {
            "text/plain": [
              "'Yes'"
            ],
            "application/vnd.google.colaboratory.intrinsic+json": {
              "type": "string"
            }
          },
          "metadata": {},
          "execution_count": 40
        }
      ]
    },
    {
      "cell_type": "code",
      "source": [
        "# Example 2 - Let's check confirmation_layer if all the keys are present\n",
        "debug_response_assistant_2 = f\"\"\"\n",
        "Great, thank you for clarifying your requirements.\n",
        "Based on your inputs, here is the final profile for the laptop you are looking for:\n",
        "{{'GPU intensity':'high',\n",
        " 'Display quality':'high',\n",
        " 'Portability':'low',\n",
        " 'Multitasking':'low',\n",
        " 'Processing speed':'low'}}\n",
        "\"\"\"\n",
        "#Note that you are using double curly braces\n",
        "\n",
        "print(debug_response_assistant_2)"
      ],
      "metadata": {
        "colab": {
          "base_uri": "https://localhost:8080/"
        },
        "id": "IQ-IMzu0Gon4",
        "outputId": "959bd5dc-a340-4e72-b41f-a94f99749cc6"
      },
      "execution_count": 42,
      "outputs": [
        {
          "output_type": "stream",
          "name": "stdout",
          "text": [
            "\n",
            "Great, thank you for clarifying your requirements.\n",
            "Based on your inputs, here is the final profile for the laptop you are looking for:\n",
            "{'GPU intensity':'high',\n",
            " 'Display quality':'high',\n",
            " 'Portability':'low',\n",
            " 'Multitasking':'low',\n",
            " 'Processing speed':'low'}\n",
            "\n"
          ]
        }
      ]
    },
    {
      "cell_type": "code",
      "source": [
        "intent_confirmation_layer(debug_response_assistant_2)\n",
        "# iterate_llm_response(intent_confirmation_layer, debug_response_assistant_2)"
      ],
      "metadata": {
        "colab": {
          "base_uri": "https://localhost:8080/"
        },
        "id": "Hov6fwoqGySH",
        "outputId": "a0403cca-701b-4c43-d00d-f6a7a9f7f82d"
      },
      "execution_count": 43,
      "outputs": [
        {
          "output_type": "execute_result",
          "data": {
            "text/plain": [
              "{'result': 'No', 'reason': 'Budget key is missing.'}"
            ]
          },
          "metadata": {},
          "execution_count": 43
        }
      ]
    },
    {
      "cell_type": "code",
      "source": [
        "# Example 3 - Let's check confirmation_layer if all the keys are present\n",
        "debug_response_assistant_3 = f\"\"\"\n",
        "Great, thank you for clarifying your requirements.\n",
        "Based on your inputs, here is the final profile for the laptop you are looking for:\n",
        "{{'GPU intensity':'high',\n",
        " 'Display quality':'high',\n",
        " 'Portability':'low',\n",
        " 'Multitasking':'low',\n",
        " 'Processing speed':'low',\n",
        " 'Budget':'50000'}}\n",
        "\"\"\"\n",
        "#Note that you are using double curly braces\n",
        "\n",
        "print(debug_response_assistant_3)"
      ],
      "metadata": {
        "colab": {
          "base_uri": "https://localhost:8080/"
        },
        "id": "2PkYYxBVG9AB",
        "outputId": "ab53cd70-5309-4c9b-a0e1-53230727bfb2"
      },
      "execution_count": 44,
      "outputs": [
        {
          "output_type": "stream",
          "name": "stdout",
          "text": [
            "\n",
            "Great, thank you for clarifying your requirements.\n",
            "Based on your inputs, here is the final profile for the laptop you are looking for:\n",
            "{'GPU intensity':'high',\n",
            " 'Display quality':'high',\n",
            " 'Portability':'low',\n",
            " 'Multitasking':'low',\n",
            " 'Processing speed':'low',\n",
            " 'Budget':'50000'}\n",
            "\n"
          ]
        }
      ]
    },
    {
      "cell_type": "code",
      "source": [
        "intent_confirmation_layer(debug_response_assistant_3)\n",
        "# iterate_llm_response(intent_confirmation_layer, debug_response_assistant_3)"
      ],
      "metadata": {
        "colab": {
          "base_uri": "https://localhost:8080/"
        },
        "id": "CJZTypCeHCQ1",
        "outputId": "bc8ba313-7444-40e9-eaaa-8167a53fb53a"
      },
      "execution_count": null,
      "outputs": [
        {
          "output_type": "execute_result",
          "data": {
            "text/plain": [
              "{'result': 'Yes'}"
            ]
          },
          "metadata": {},
          "execution_count": 61
        }
      ]
    },
    {
      "cell_type": "code",
      "source": [
        "def dictionary_present(response):\n",
        "    delimiter = \"####\"\n",
        "\n",
        "    user_req = {'GPU intensity': 'high',\n",
        "                'Display quality': 'high',\n",
        "                'Portability': 'medium',\n",
        "                'Multitasking': 'high',\n",
        "                'Processing speed': 'high',\n",
        "                'Budget': '200000'}\n",
        "\n",
        "    prompt = f\"\"\"You are a python expert. You are provided an input.\n",
        "            You have to check if there is a python dictionary present in the string.\n",
        "            It will have the following format {user_req}.\n",
        "            Your task is to just extract the relevant values from the input and return only the python dictionary in JSON format.\n",
        "            The output should match the format as {user_req}.\n",
        "\n",
        "            {delimiter}\n",
        "            Make sure that the value of budget is also present in the user input. ###\n",
        "            The output should contain the exact keys and values as present in the input.\n",
        "            Ensure the keys and values are in the given format:\n",
        "            {{\n",
        "            'GPU intensity': 'low/medium/high ',\n",
        "            'Display quality':'low/medium/high',\n",
        "            'Portability':'low/medium/high',\n",
        "            'Multitasking':'low/medium/high',\n",
        "            'Processing speed':'low/medium/high',\n",
        "            'Budget':'numerical value'\n",
        "            }}\n",
        "            Here are some sample input output pairs for better understanding:\n",
        "            {delimiter}\n",
        "            input 1: - GPU intensity: low - Display quality: high - Portability: low - Multitasking: high - Processing speed: medium - Budget: 50,000 INR\n",
        "            output 1: {{'GPU intensity': 'low', 'Display quality': 'high', 'Portability': 'low', 'Multitasking': 'high', 'Processing speed': 'medium', 'Budget': '50000'}}\n",
        "\n",
        "            input 2: {{'GPU intensity':     'low', 'Display quality':     'low', 'Portability':    'medium', 'Multitasking': 'medium', 'Processing speed': 'low', 'Budget': '90,000'}}\n",
        "            output 2: {{'GPU intensity': 'low', 'Display quality': 'low', 'Portability': 'medium', 'Multitasking': 'medium', 'Processing speed': 'low', 'Budget': '90000'}}\n",
        "\n",
        "            input 3: Here is your user profile 'GPU intensity': 'high','Display quality': 'high','Portability': 'medium','Multitasking': 'high','Processing speed': 'high','Budget': '200000 INR'\n",
        "            output 3: {{'GPU intensity': 'high','Display quality': 'high','Portability': 'medium','Multitasking': 'high','Processing speed': 'high','Budget': '200000'}}\n",
        "            {delimiter}\n",
        "            \"\"\"\n",
        "    messages = [{\"role\": \"system\", \"content\":prompt },\n",
        "                {\"role\": \"user\", \"content\":f\"\"\"Here is the user input: {response}\"\"\" }]\n",
        "\n",
        "    confirmation = get_chat_completions(messages, json_format = True)\n",
        "\n",
        "    # confirmation = openai.chat.completions.create(\n",
        "    #                                 model=\"gpt-3.5-turbo\",\n",
        "    #                                 messages = messages,\n",
        "    #                                 response_format={ \"type\": \"json_object\" },\n",
        "    #                                 seed = 1234)\n",
        "\n",
        "    # confirmation = json.loads(confirmation)\n",
        "\n",
        "    return confirmation"
      ],
      "metadata": {
        "id": "I7f1fTacHGGa"
      },
      "execution_count": 45,
      "outputs": []
    },
    {
      "cell_type": "code",
      "source": [
        "debug_response_assistant_n = \"\"\"\n",
        "{'GPU intensity':'high',\n",
        " 'Display quality':'high',\n",
        " 'Portability':'low',\n",
        " 'Multitasking':'low',\n",
        " 'Processing speed':'low',\n",
        " 'Budget':'50000'}\n",
        "\"\"\""
      ],
      "metadata": {
        "id": "7qtlRN1XHph7"
      },
      "execution_count": 46,
      "outputs": []
    },
    {
      "cell_type": "code",
      "source": [
        "response_dict_n = dictionary_present(debug_response_assistant_n)\n",
        "display(response_dict_n)"
      ],
      "metadata": {
        "colab": {
          "base_uri": "https://localhost:8080/",
          "height": 121
        },
        "id": "fDb25cwmHwdZ",
        "outputId": "65950a92-b5bc-47a6-aaa9-ffdee79e8e61"
      },
      "execution_count": 47,
      "outputs": [
        {
          "output_type": "display_data",
          "data": {
            "text/plain": [
              "{'GPU intensity': 'high',\n",
              " 'Display quality': 'high',\n",
              " 'Portability': 'low',\n",
              " 'Multitasking': 'low',\n",
              " 'Processing speed': 'low',\n",
              " 'Budget': '50000'}"
            ]
          },
          "metadata": {}
        }
      ]
    },
    {
      "cell_type": "code",
      "source": [
        "type(response_dict_n)"
      ],
      "metadata": {
        "colab": {
          "base_uri": "https://localhost:8080/"
        },
        "id": "T_5lVw4jHy9u",
        "outputId": "a68e0b19-b766-44ff-8611-887fd5a52445"
      },
      "execution_count": 48,
      "outputs": [
        {
          "output_type": "execute_result",
          "data": {
            "text/plain": [
              "dict"
            ]
          },
          "metadata": {},
          "execution_count": 48
        }
      ]
    },
    {
      "cell_type": "code",
      "source": [
        "debug_response_assistant_n = f\"\"\"Thank you for providing your budget.\n",
        "Based on your budget of 50,000 INR, I will consider this while recommending suitable laptop options for you.\n",
        "Here is the final recommendation for your laptop:\n",
        "- GPU intensity: high\n",
        "- Display quality: high\n",
        "- Portability: low\n",
        "- Multitasking: high\n",
        "- Processing speed: medium\n",
        "- Budget: 80,000 INR\n",
        "\n",
        "Please note that these specifications are based on your requirements for surfing and a decent display within your budget.\n",
        "Let me know if there's anything else I can assist you with!\"\"\""
      ],
      "metadata": {
        "id": "L4wfB9cKH2nA"
      },
      "execution_count": 49,
      "outputs": []
    },
    {
      "cell_type": "code",
      "source": [
        "response_dict_n = dictionary_present(debug_response_assistant_n)\n",
        "display(response_dict_n)"
      ],
      "metadata": {
        "colab": {
          "base_uri": "https://localhost:8080/",
          "height": 121
        },
        "id": "6l7dyZpJIAxt",
        "outputId": "0e055cb0-7341-4abf-8c96-bbc8010199dc"
      },
      "execution_count": 50,
      "outputs": [
        {
          "output_type": "display_data",
          "data": {
            "text/plain": [
              "{'GPU intensity': 'high',\n",
              " 'Display quality': 'high',\n",
              " 'Portability': 'low',\n",
              " 'Multitasking': 'high',\n",
              " 'Processing speed': 'medium',\n",
              " 'Budget': '80000'}"
            ]
          },
          "metadata": {}
        }
      ]
    },
    {
      "cell_type": "code",
      "source": [
        "# Check for LLM function's consistency\n",
        "iterate_llm_response(dictionary_present, debug_response_assistant_n)"
      ],
      "metadata": {
        "colab": {
          "base_uri": "https://localhost:8080/"
        },
        "id": "TZUxHPJMIFUD",
        "outputId": "e979fc64-2f7c-4c88-e8a5-e0d1b552c38e"
      },
      "execution_count": 51,
      "outputs": [
        {
          "output_type": "stream",
          "name": "stdout",
          "text": [
            "Iteration: 0\n",
            "{'GPU intensity': 'high', 'Display quality': 'high', 'Portability': 'low', 'Multitasking': 'high', 'Processing speed': 'medium', 'Budget': '80000'}\n",
            "--------------------------------------------------\n",
            "Iteration: 1\n",
            "{'GPU intensity': 'high', 'Display quality': 'high', 'Portability': 'low', 'Multitasking': 'high', 'Processing speed': 'medium', 'Budget': '80000'}\n",
            "--------------------------------------------------\n",
            "Iteration: 2\n",
            "{'GPU intensity': 'high', 'Display quality': 'high', 'Portability': 'low', 'Multitasking': 'high', 'Processing speed': 'medium', 'Budget': '80000'}\n",
            "--------------------------------------------------\n",
            "Iteration: 3\n",
            "{'GPU intensity': 'high', 'Display quality': 'high', 'Portability': 'low', 'Multitasking': 'high', 'Processing speed': 'medium', 'Budget': '80000'}\n",
            "--------------------------------------------------\n",
            "Iteration: 4\n",
            "{'GPU intensity': 'high', 'Display quality': 'high', 'Portability': 'low', 'Multitasking': 'high', 'Processing speed': 'medium', 'Budget': '80000'}\n",
            "--------------------------------------------------\n",
            "Iteration: 5\n",
            "{'GPU intensity': 'high', 'Display quality': 'high', 'Portability': 'low', 'Multitasking': 'high', 'Processing speed': 'medium', 'Budget': '80000'}\n",
            "--------------------------------------------------\n",
            "Iteration: 6\n",
            "{'GPU intensity': 'high', 'Display quality': 'high', 'Portability': 'low', 'Multitasking': 'high', 'Processing speed': 'medium', 'Budget': '80000'}\n",
            "--------------------------------------------------\n",
            "Iteration: 7\n",
            "{'GPU intensity': 'high', 'Display quality': 'high', 'Portability': 'low', 'Multitasking': 'high', 'Processing speed': 'medium', 'Budget': '80000'}\n",
            "--------------------------------------------------\n",
            "Iteration: 8\n",
            "{'GPU intensity': 'high', 'Display quality': 'high', 'Portability': 'low', 'Multitasking': 'high', 'Processing speed': 'medium', 'Budget': '80000'}\n",
            "--------------------------------------------------\n",
            "Iteration: 9\n",
            "{'GPU intensity': 'high', 'Display quality': 'high', 'Portability': 'low', 'Multitasking': 'high', 'Processing speed': 'medium', 'Budget': '80000'}\n",
            "--------------------------------------------------\n"
          ]
        }
      ]
    },
    {
      "cell_type": "code",
      "source": [
        "debug_conversation"
      ],
      "metadata": {
        "colab": {
          "base_uri": "https://localhost:8080/"
        },
        "id": "VyfLaqHWIIw3",
        "outputId": "ab8c5241-407f-4800-a7d8-1827759a94b5"
      },
      "execution_count": 52,
      "outputs": [
        {
          "output_type": "execute_result",
          "data": {
            "text/plain": [
              "[{'role': 'system',\n",
              "  'content': '\\n    You are an intelligent laptop gadget expert and your goal is to find the best laptop for a user.\\n    You need to ask relevant questions and understand the user profile by analysing the user\\'s responses.\\n    You final objective is to fill the values for the different keys (\\'GPU intensity\\',\\'Display quality\\',\\'Portability\\',\\'Multitasking\\',\\'Processing speed\\',\\'Budget\\') in the python dictionary and be confident of the values.\\n    These key value pairs define the user\\'s profile.\\n    The python dictionary looks like this\\n    {\\'GPU intensity\\': \\'values\\',\\'Display quality\\': \\'values\\',\\'Portability\\': \\'values\\',\\'Multitasking\\': \\'values\\',\\'Processing speed\\': \\'values\\',\\'Budget\\': \\'values\\'}\\n    The value for \\'Budget\\' should be a numerical value extracted from the user\\'s response.\\n    The values for all keys, except \\'Budget\\', should be \\'low\\', \\'medium\\', or \\'high\\' based on the importance of the corresponding keys, as stated by user.\\n    All the values in the example dictionary are only representative values.\\n    ####\\n    Here are some instructions around the values for the different keys. If you do not follow this, you\\'ll be heavily penalised:\\n    - The values for all keys, except \\'Budget\\', should strictly be either \\'low\\', \\'medium\\', or \\'high\\' based on the importance of the corresponding keys, as stated by user.\\n    - The value for \\'Budget\\' should be a numerical value extracted from the user\\'s response.\\n    - \\'Budget\\' value needs to be greater than or equal to 25000 INR. If the user says less than that, please mention that there are no laptops in that range.\\n    - Do not randomly assign values to any of the keys.\\n    - The values need to be inferred from the user\\'s response.\\n    ####\\n\\n    To fill the dictionary, you need to have the following chain of thoughts:\\n    Follow the chain-of-thoughts below and only output the final updated python dictionary for the keys as described in {\\'GPU intensity\\': \\'_\\', \\'Display quality\\': \\'_\\', \\'Portability\\': \\'_\\', \\'Multitasking\\': \\'_\\', \\'Processing speed\\': \\'_\\', \\'Budget\\': \\'_\\'}. \\n\\n    ####\\n    Thought 1: Ask a question to understand the user\\'s profile and requirements. \\n\\n    If their primary use for the laptop is unclear. Ask followup questions to understand their needs.\\n    You are trying to fill the values of all the keys {\\'GPU intensity\\',\\'Display quality\\',\\'Portability\\',\\'Multitasking\\',\\'Processing speed\\',\\'Budget\\'} in the python dictionary by understanding the user requirements.\\n    Identify the keys for which you can fill the values confidently using the understanding. \\n\\n    Remember the instructions around the values for the different keys.\\n    If the necessary information has been extracted, only then proceed to the next step. \\n\\n    Otherwise, rephrase the question to capture their profile clearly. \\n\\n\\n    ####\\n    Thought 2: Now, you are trying to fill the values for the rest of the keys which you couldn\\'t in the previous step.\\n    Remember the instructions around the values for the different keys.\\n    Ask questions you might have for all the keys to strengthen your understanding of the user\\'s profile.\\n    If yes, move to the next Thought. If no, ask question on the keys whose values you are unsure of. \\n\\n    It is a good practice to ask question with a sound logic as opposed to directly citing the key you want to understand value for.\\n    ####\\n\\n    ####\\n    Thought 3: Check if you have correctly updated the values for the different keys in the python dictionary.\\n    If you are not confident about any of the values, ask clarifying questions.\\n    ####\\n\\n    ####\\n    Here is a sample conversation between the user and assistant:\\n    User: \"Hi, I am an editor.\"\\n    Assistant: \"Great! As an editor, you likely require a laptop that can handle demanding tasks. Hence, the laptop should have high multitasking capability. You would also need a high end display for better visuals and editing. May I know what kind of work do you primarily focus on? Are you more involved in video editing, photo editing, or both? Understanding the specific type of editing work will help me tailor my recommendations accordingly. Let me know if my understanding is correct until now.\"\\n    User: \"I primarily work with After Effects.\"\\n    Assistant: \"Thank you for providing that information. Working with After Effects involves working with graphics, animations, and rendering, which will require high GPU. Do you work with high-resolution media files, such as 4K videos or RAW photos? Understanding your file sizes will help determine the storage capacity and processing power needed.\"\\n    User: \"Yes, sometimes I work with 4K videos as well.\"\\n    Assistant: \"Thank you for the information. Processing 4K vidoes will require a good processor and high GPU. I think we have already determined earlier that you need a high GPU. To ensure I have a complete understanding of your needs, I have one more question: Are you frequently on the go and require a laptop that is lightweight and easy to carry, or do you primarily work from a stationary location?\"\\n    User: \"Yes, sometimes I travel but do not carry my laptop.\"\\n    Assistant:\"Could you kindly let me know your budget for the laptop? This will help me find options that fit within your price range while meeting the specified requirements.\"\\n    User: \"my max budget is 1.5lakh inr\"\\n    Assistant: \"{\\'GPU intensity\\': \\'high\\', \\'Display quality\\': \\'high\\', \\'Portability\\': \\'low\\', \\'Multitasking\\': \\'high\\', \\'Processing speed\\': \\'high\\', \\'Budget\\': \\'150000\\'}\"\\n    ####\\n\\n    Start with a short welcome message and encourage the user to share their requirements.\\n    '},\n",
              " {'role': 'user', 'content': 'Hi, I am Anand. I need a laptop for coding.'},\n",
              " {'role': 'assistant',\n",
              "  'content': 'Great! As a coder, you likely require a laptop that can handle multitasking efficiently and has good processing speed. This is important for running multiple code editors, compilers, and virtual machines smoothly. Do you also prioritize display quality for better readability of your code or GPU intensity for any specific tasks like machine learning or gaming? Understanding these aspects will help in recommending the best laptop for your coding needs. Can you provide more information on these preferences to tailor my recommendations accordingly?'},\n",
              " {'role': 'assistant',\n",
              "  'content': 'Great! As a coder, you likely require a laptop that can handle multitasking efficiently and has good processing speed. This is important for running multiple code editors, compilers, and virtual machines smoothly. Do you also prioritize display quality for better readability of your code or GPU intensity for any specific tasks like machine learning or gaming? Understanding these aspects will help in recommending the best laptop for your coding needs. Can you provide more information on these preferences to tailor my recommendations accordingly?'}]"
            ]
          },
          "metadata": {},
          "execution_count": 52
        }
      ]
    },
    {
      "cell_type": "code",
      "source": [
        "debug_conversation = initialize_conversation() # load up the system message\n",
        "debug_user_input = \"Hi, I am Sandeep. I need a laptop for editing.\" # pass the user input\n",
        "debug_moderation = moderation_check(debug_user_input) #check for moderation\n",
        "if debug_moderation == \"Not Flagged\":\n",
        "  debug_conversation.append({\"role\": \"user\", \"content\": debug_user_input}) #stored in the memory\n",
        "  debug_response_assistant = get_chat_completions(debug_conversation)\n",
        "  print(debug_response_assistant)\n",
        "  debug_conversation.append({\"role\": \"assistant\", \"content\": debug_response_assistant})\n",
        "  debug_confirmation = intent_confirmation_layer(debug_response_assistant) #stored in the memory\n",
        "  print(debug_confirmation['result'])\n",
        "  if debug_confirmation['result']==\"No\":\n",
        "    debug_user_input2 = \"i want a laptop for editing movies in After effects\" # pass the user input\n",
        "    debug_moderation = moderation_check(debug_user_input2) #check for moderation\n",
        "    if debug_moderation == \"Not Flagged\":\n",
        "        debug_conversation.append({\"role\": \"user\", \"content\": debug_user_input2}) #stored in the memory\n",
        "        debug_response_assistant = get_chat_completions(debug_conversation)\n",
        "        print(debug_response_assistant)"
      ],
      "metadata": {
        "colab": {
          "base_uri": "https://localhost:8080/"
        },
        "id": "lgP0OcJXIYYi",
        "outputId": "0a986c05-ff38-4ba3-e8b0-d0cb985b821c"
      },
      "execution_count": 53,
      "outputs": [
        {
          "output_type": "stream",
          "name": "stdout",
          "text": [
            "Great! As an editor, you likely require a laptop that can handle demanding tasks. Hence, the laptop should have high multitasking capability. You would also need a high-end display for better visuals and editing. May I know what kind of work do you primarily focus on? Are you more involved in video editing, photo editing, or both? Understanding the specific type of editing work will help me tailor my recommendations accordingly. Let me know if my understanding is correct until now.\n",
            "No\n",
            "Thank you for providing that information. Working with After Effects involves working with graphics, animations, and rendering, which will require high GPU. Do you work with high-resolution media files, such as 4K videos or RAW photos? Understanding your file sizes will help determine the storage capacity and processing power needed.\n"
          ]
        }
      ]
    },
    {
      "cell_type": "code",
      "source": [
        "debug_conversation = initialize_conversation()\n",
        "debug_user_input = \"Hi, I am Anand. I need a laptop for coding.\"\n",
        "debug_moderation = moderation_check(debug_user_input)\n",
        "debug_conversation.append({\"role\": \"user\", \"content\": debug_user_input})\n",
        "debug_response_assistant = get_chat_completions(debug_conversation)\n",
        "debug_moderation = moderation_check(debug_response_assistant)\n",
        "debug_conversation.append({\"role\": \"assistant\", \"content\": debug_response_assistant})\n",
        "debug_confirmation = intent_confirmation_layer(debug_response_assistant)\n",
        "# After a series of conversation...\n",
        "response_dict_n = dictionary_present(debug_response_assistant_n)\n",
        "print(response_dict_n)"
      ],
      "metadata": {
        "colab": {
          "base_uri": "https://localhost:8080/"
        },
        "id": "jLOgiJzEKRHX",
        "outputId": "a0c78159-a970-4220-a878-885f9c57bde5"
      },
      "execution_count": 54,
      "outputs": [
        {
          "output_type": "stream",
          "name": "stdout",
          "text": [
            "{'GPU intensity': 'high', 'Display quality': 'high', 'Portability': 'low', 'Multitasking': 'high', 'Processing speed': 'medium', 'Budget': '80000'}\n"
          ]
        }
      ]
    },
    {
      "cell_type": "code",
      "source": [
        "debug_conversation = initialize_conversation()\n",
        "debug_user_input = \"Hi, I am Asit. I need a laptop for watching movies and browsing.\"\n",
        "debug_moderation = moderation_check(debug_user_input)\n",
        "debug_conversation.append({\"role\": \"user\", \"content\": debug_user_input})\n",
        "debug_response_assistant = get_chat_completions(debug_conversation)\n",
        "debug_moderation = moderation_check(debug_response_assistant)\n",
        "debug_conversation.append({\"role\": \"assistant\", \"content\": debug_response_assistant})\n",
        "debug_confirmation = intent_confirmation_layer(debug_response_assistant)\n",
        "# After a series of conversation...\n",
        "response_dict_n = dictionary_present(debug_response_assistant_n)\n",
        "print(response_dict_n)"
      ],
      "metadata": {
        "colab": {
          "base_uri": "https://localhost:8080/"
        },
        "id": "MneXc6frKaTn",
        "outputId": "42c82f07-71e7-4337-bfd1-1a73aa18aaa0"
      },
      "execution_count": 55,
      "outputs": [
        {
          "output_type": "stream",
          "name": "stdout",
          "text": [
            "{'GPU intensity': 'high', 'Display quality': 'high', 'Portability': 'low', 'Multitasking': 'high', 'Processing speed': 'medium', 'Budget': '80000'}\n"
          ]
        }
      ]
    },
    {
      "cell_type": "markdown",
      "source": [
        "Stage2"
      ],
      "metadata": {
        "id": "PAim3eBHFiDo"
      }
    },
    {
      "cell_type": "code",
      "source": [
        "def product_map_layer(laptop_description):\n",
        "    delimiter = \"#####\"\n",
        "\n",
        "    lap_spec = {\n",
        "        \"GPU intensity\":\"(Type of the Graphics Processor)\",\n",
        "        \"Display quality\":\"(Display Type, Screen Resolution, Display Size)\",\n",
        "        \"Portability\":\"(Laptop Weight)\",\n",
        "        \"Multitasking\":\"(RAM Size)\",\n",
        "        \"Processing speed\":\"(CPU Type, Core, Clock Speed)\"\n",
        "    }\n",
        "\n",
        "    values = {'low','medium','high'}\n",
        "\n",
        "    prompt=f\"\"\"\n",
        "    You are a Laptop Specifications Classifier whose job is to extract the key features of laptops and classify them as per their requirements.\n",
        "    To analyze each laptop, perform the following steps:\n",
        "    Step 1: Extract the laptop's primary features from the description {laptop_description}\n",
        "    Step 2: Store the extracted features in {lap_spec} \\\n",
        "    Step 3: Classify each of the items in {lap_spec} into {values} based on the following rules: \\\n",
        "    {delimiter}\n",
        "    GPU Intensity:\n",
        "    - low: <<< if GPU is entry-level such as an integrated graphics processor or entry-level dedicated graphics like Intel UHD >>> , \\n\n",
        "    - medium: <<< if mid-range dedicated graphics like M1, AMD Radeon, Intel Iris >>> , \\n\n",
        "    - high: <<< high-end dedicated graphics like Nvidia RTX >>> , \\n\n",
        "\n",
        "    Display Quality:\n",
        "    - low: <<< if resolution is below Full HD (e.g., 1366x768). >>> , \\n\n",
        "    - medium: <<< if Full HD resolution (1920x1080) or higher. >>> , \\n\n",
        "    - high: <<< if High-resolution display (e.g., 4K, Retina) with excellent color accuracy and features like HDR support. >>> \\n\n",
        "\n",
        "    Portability:\n",
        "    - high: <<< if laptop weight is less than 1.51 kg >>> , \\n\n",
        "    - medium: <<< if laptop weight is between 1.51 kg and 2.51 kg >>> , \\n\n",
        "    - low: <<< if laptop weight is greater than 2.51 kg >>> \\n\n",
        "\n",
        "    Multitasking:\n",
        "    - low: <<< If RAM size is 8 GB, 12 GB >>> , \\n\n",
        "    - medium: <<< if RAM size is 16 GB >>> , \\n\n",
        "    - high: <<< if RAM size is 32 GB, 64 GB >>> \\n\n",
        "\n",
        "    Processing Speed:\n",
        "    - low: <<< if entry-level processors like Intel Core i3, AMD Ryzen 3 >>> , \\n\n",
        "    - medium: <<< if Mid-range processors like Intel Core i5, AMD Ryzen 5 >>> , \\n\n",
        "    - high: <<< if High-performance processors like Intel Core i7, AMD Ryzen 7 or higher >>> \\n\n",
        "    {delimiter}\n",
        "\n",
        "    {delimiter}\n",
        "    Here is input output pair for few-shot learning:\n",
        "    input 1: \"The Dell Inspiron is a versatile laptop that combines powerful performance and affordability. It features an Intel Core i5 processor clocked at 2.4 GHz, ensuring smooth multitasking and efficient computing. With 8GB of RAM and an SSD, it offers quick data access and ample storage capacity. The laptop sports a vibrant 15.6\" LCD display with a resolution of 1920x1080, delivering crisp visuals and immersive viewing experience. Weighing just 2.5 kg, it is highly portable, making it ideal for on-the-go usage. Additionally, it boasts an Intel UHD GPU for decent graphical performance and a backlit keyboard for enhanced typing convenience. With a one-year warranty and a battery life of up to 6 hours, the Dell Inspiron is a reliable companion for work or entertainment. All these features are packed at an affordable price of 35,000, making it an excellent choice for budget-conscious users.\"\n",
        "    output 1: {{'GPU intensity': 'medium','Display quality':'medium','Portability':'medium','Multitasking':'high','Processing speed':'medium'}}\n",
        "\n",
        "    {delimiter}\n",
        "    ### Strictly don't keep any other text in the values of the JSON dictionary other than low or medium or high ###\n",
        "    \"\"\"\n",
        "    input = f\"\"\"Follow the above instructions step-by-step and output the dictionary in JSON format {lap_spec} for the following laptop {laptop_description}.\"\"\"\n",
        "    #see that we are using the Completion endpoint and not the Chatcompletion endpoint\n",
        "    messages=[{\"role\": \"system\", \"content\":prompt },{\"role\": \"user\",\"content\":input}]\n",
        "\n",
        "    response = get_chat_completions(messages, json_format = True)\n",
        "\n",
        "    return response"
      ],
      "metadata": {
        "id": "HSJyJPLoQjkY"
      },
      "execution_count": 56,
      "outputs": []
    },
    {
      "cell_type": "code",
      "source": [
        "laptop_description_1 = f\"\"\"\n",
        "The Dell Inspiron is a versatile laptop that combines powerful performance and affordability.\n",
        "It features an Intel Core i5 processor clocked at 2.4 GHz, ensuring smooth multitasking and efficient computing.\n",
        "With 8GB of RAM and an SSD, it offers quick data access and ample storage capacity.\n",
        "The laptop sports a vibrant 15.6\" LCD display with a resolution of 1920x1080, delivering crisp visuals and immersive viewing experience.\n",
        "Weighing just 2.5 kg, it is highly portable, making it ideal for on-the-go usage.\n",
        "Additionally, it boasts an Intel UHD GPU for decent graphical performance and a backlit keyboard for enhanced typing convenience.\n",
        "With a one-year warranty and a battery life of up to 6 hours, the Dell Inspiron is a reliable companion for work or entertainment.\n",
        "All these features are packed at an affordable price of 35,000, making it an excellent choice for budget-conscious users.\n",
        "\"\"\""
      ],
      "metadata": {
        "id": "JSzg99YcFq32"
      },
      "execution_count": 57,
      "outputs": []
    },
    {
      "cell_type": "code",
      "source": [
        "display(product_map_layer(laptop_description_1))"
      ],
      "metadata": {
        "colab": {
          "base_uri": "https://localhost:8080/",
          "height": 104
        },
        "id": "jjR8wOnwFunI",
        "outputId": "2dd4658d-6041-4026-9e74-d7d1db3755d6"
      },
      "execution_count": 58,
      "outputs": [
        {
          "output_type": "display_data",
          "data": {
            "text/plain": [
              "{'GPU intensity': 'medium',\n",
              " 'Display quality': 'medium',\n",
              " 'Portability': 'medium',\n",
              " 'Multitasking': 'high',\n",
              " 'Processing speed': 'medium'}"
            ]
          },
          "metadata": {}
        }
      ]
    },
    {
      "cell_type": "code",
      "source": [
        "# # Data type of the output response\n",
        "print(type(product_map_layer(laptop_description_1)))"
      ],
      "metadata": {
        "colab": {
          "base_uri": "https://localhost:8080/"
        },
        "id": "TWWjDQVxFzhn",
        "outputId": "b49afdae-7cbe-4d8e-b277-d6ac7a4cc4d2"
      },
      "execution_count": 59,
      "outputs": [
        {
          "output_type": "stream",
          "name": "stdout",
          "text": [
            "<class 'dict'>\n"
          ]
        }
      ]
    },
    {
      "cell_type": "code",
      "source": [
        "# # Check for consistency with iterate_response function\n",
        "iterate_llm_response(product_map_layer, laptop_description_1)"
      ],
      "metadata": {
        "colab": {
          "base_uri": "https://localhost:8080/"
        },
        "id": "bNtvP_PtF9RM",
        "outputId": "9dc39bad-de22-40ef-a1bf-c2f197603e25"
      },
      "execution_count": 60,
      "outputs": [
        {
          "output_type": "stream",
          "name": "stdout",
          "text": [
            "Iteration: 0\n",
            "{'GPU intensity': 'medium', 'Display quality': 'medium', 'Portability': 'medium', 'Multitasking': 'high', 'Processing speed': 'medium'}\n",
            "--------------------------------------------------\n",
            "Iteration: 1\n",
            "{'GPU intensity': 'medium', 'Display quality': 'medium', 'Portability': 'medium', 'Multitasking': 'high', 'Processing speed': 'medium'}\n",
            "--------------------------------------------------\n",
            "Iteration: 2\n",
            "{'GPU intensity': 'medium', 'Display quality': 'medium', 'Portability': 'medium', 'Multitasking': 'high', 'Processing speed': 'medium'}\n",
            "--------------------------------------------------\n",
            "Iteration: 3\n",
            "{'GPU intensity': 'medium', 'Display quality': 'medium', 'Portability': 'medium', 'Multitasking': 'high', 'Processing speed': 'medium'}\n",
            "--------------------------------------------------\n",
            "Iteration: 4\n",
            "{'GPU intensity': 'medium', 'Display quality': 'medium', 'Portability': 'medium', 'Multitasking': 'high', 'Processing speed': 'medium'}\n",
            "--------------------------------------------------\n",
            "Iteration: 5\n",
            "{'GPU intensity': 'medium', 'Display quality': 'medium', 'Portability': 'medium', 'Multitasking': 'high', 'Processing speed': 'medium'}\n",
            "--------------------------------------------------\n",
            "Iteration: 6\n",
            "{'GPU intensity': 'medium', 'Display quality': 'medium', 'Portability': 'medium', 'Multitasking': 'high', 'Processing speed': 'medium'}\n",
            "--------------------------------------------------\n",
            "Iteration: 7\n",
            "{'GPU intensity': 'medium', 'Display quality': 'medium', 'Portability': 'medium', 'Multitasking': 'high', 'Processing speed': 'medium'}\n",
            "--------------------------------------------------\n",
            "Iteration: 8\n",
            "{'GPU intensity': 'medium', 'Display quality': 'medium', 'Portability': 'medium', 'Multitasking': 'high', 'Processing speed': 'medium'}\n",
            "--------------------------------------------------\n",
            "Iteration: 9\n",
            "{'GPU intensity': 'medium', 'Display quality': 'medium', 'Portability': 'medium', 'Multitasking': 'high', 'Processing speed': 'medium'}\n",
            "--------------------------------------------------\n"
          ]
        }
      ]
    },
    {
      "cell_type": "code",
      "source": [
        "##Run this code once to extract product info in the form of a dictionary\n",
        "laptop_df= pd.read_csv('laptop_data.csv')\n",
        "\n",
        "## Create a new column \"laptop_feature\" that contains the dictionary of the product features\n",
        "laptop_df['laptop_feature'] = laptop_df['Description'].apply(lambda x: product_map_layer(x))"
      ],
      "metadata": {
        "id": "O0xTibLyGAoR"
      },
      "execution_count": 61,
      "outputs": []
    },
    {
      "cell_type": "code",
      "source": [
        "laptop_df.to_csv(\"updated_laptop.csv\",index=False,header = True)"
      ],
      "metadata": {
        "id": "6NwCU_B9GQMK"
      },
      "execution_count": 62,
      "outputs": []
    },
    {
      "cell_type": "code",
      "source": [
        "import pandas as pd  # Importing the pandas library for data manipulation\n",
        "import json\n",
        "def compare_laptops_with_user(user_req_string):\n",
        "    laptop_df = pd.read_csv('updated_laptop.csv')\n",
        "\n",
        "    user_requirements = response_dict_n\n",
        "\n",
        "    # Extracting user requirements from the input string (assuming it's a dictionary)\n",
        "    # Since the function parameter already seems to be a string, we'll use it directly instead of extracting from a dictionary\n",
        "\n",
        "    # Extracting the budget value from user_requirements and converting it to an integer\n",
        "    budget = int(user_requirements.get('Budget', '0').replace(',', '').split()[0])\n",
        "    # budget\n",
        "    # # Creating a copy of the DataFrame and filtering laptops based on the budget\n",
        "    filtered_laptops = laptop_df.copy()\n",
        "    filtered_laptops['Price'] = filtered_laptops['Price'].str.replace(',', '').astype(int)\n",
        "    filtered_laptops = filtered_laptops[filtered_laptops['Price'] <= budget].copy()\n",
        "    # filtered_laptops\n",
        "    # # # Mapping string values 'low', 'medium', 'high' to numerical scores 0, 1, 2\n",
        "    mappings = {'low': 0, 'medium': 1, 'high': 2}\n",
        "\n",
        "    # # # Creating a new column 'Score' in the filtered DataFrame and initializing it to 0\n",
        "    filtered_laptops['Score'] = 0\n",
        "\n",
        "    # # # Iterating over each laptop in the filtered DataFrame to calculate scores based on user requirements\n",
        "    for index, row in filtered_laptops.iterrows():\n",
        "        user_product_match_str = row['laptop_feature']\n",
        "        laptop_values = user_product_match_str\n",
        "        laptop_values = dictionary_present(user_product_match_str)\n",
        "        score = 0\n",
        "\n",
        "    #     # Comparing user requirements with laptop features and updating scores\n",
        "        for key, user_value in user_requirements.items():\n",
        "            # if key.lower() == 'budget':\n",
        "            if key == 'Budget':\n",
        "                continue  # Skipping budget comparison\n",
        "            laptop_value = laptop_values.get(key, None)\n",
        "            # print(key, laptop_value)\n",
        "            laptop_mapping = mappings.get(laptop_value, -1)\n",
        "            user_mapping = mappings.get(user_value, -1)\n",
        "            if laptop_mapping >= user_mapping:\n",
        "                score += 1  # Incrementing score if laptop value meets or exceeds user value\n",
        "\n",
        "        filtered_laptops.loc[index, 'Score'] = score  # Updating the 'Score' column in the DataFrame\n",
        "\n",
        "    # Sorting laptops by score in descending order and selecting the top 3 products\n",
        "    top_laptops = filtered_laptops.drop('laptop_feature', axis=1)\n",
        "    top_laptops = top_laptops.sort_values('Score', ascending=False).head(3)\n",
        "    top_laptops_json = top_laptops.to_json(orient='records')  # Converting the top laptops DataFrame to JSON format\n",
        "\n",
        "    # top_laptops\n",
        "    return top_laptops_json"
      ],
      "metadata": {
        "id": "RFSyqV7GGYCE"
      },
      "execution_count": 63,
      "outputs": []
    },
    {
      "cell_type": "code",
      "source": [
        "display(response_dict_n, '\\n',type(response_dict_n))"
      ],
      "metadata": {
        "colab": {
          "base_uri": "https://localhost:8080/",
          "height": 157
        },
        "id": "Ak8OHA_5Gmpv",
        "outputId": "bd463e6c-bc80-4f6b-c983-989227c8ad39"
      },
      "execution_count": 64,
      "outputs": [
        {
          "output_type": "display_data",
          "data": {
            "text/plain": [
              "{'GPU intensity': 'high',\n",
              " 'Display quality': 'high',\n",
              " 'Portability': 'low',\n",
              " 'Multitasking': 'high',\n",
              " 'Processing speed': 'medium',\n",
              " 'Budget': '80000'}"
            ]
          },
          "metadata": {}
        },
        {
          "output_type": "display_data",
          "data": {
            "text/plain": [
              "'\\n'"
            ],
            "application/vnd.google.colaboratory.intrinsic+json": {
              "type": "string"
            }
          },
          "metadata": {}
        },
        {
          "output_type": "display_data",
          "data": {
            "text/plain": [
              "dict"
            ]
          },
          "metadata": {}
        }
      ]
    },
    {
      "cell_type": "code",
      "source": [
        "dictionary_present(response_dict_n)"
      ],
      "metadata": {
        "colab": {
          "base_uri": "https://localhost:8080/"
        },
        "id": "a2nyIoaTGwCA",
        "outputId": "53859be5-2cf3-42eb-e907-6b80850db17d"
      },
      "execution_count": 65,
      "outputs": [
        {
          "output_type": "execute_result",
          "data": {
            "text/plain": [
              "{'GPU intensity': 'high',\n",
              " 'Display quality': 'high',\n",
              " 'Portability': 'low',\n",
              " 'Multitasking': 'high',\n",
              " 'Processing speed': 'medium',\n",
              " 'Budget': '80000'}"
            ]
          },
          "metadata": {},
          "execution_count": 65
        }
      ]
    },
    {
      "cell_type": "code",
      "source": [
        "top_3_laptops = compare_laptops_with_user(response_dict_n)\n",
        "\n",
        "display(top_3_laptops)"
      ],
      "metadata": {
        "colab": {
          "base_uri": "https://localhost:8080/",
          "height": 105
        },
        "id": "5qnh3dieGyPE",
        "outputId": "97df54af-2977-41e6-9587-94530bddcea5"
      },
      "execution_count": 66,
      "outputs": [
        {
          "output_type": "display_data",
          "data": {
            "text/plain": [
              "'[{\"Brand\":\"Acer\",\"Model Name\":\"Predator\",\"Core\":\"i7\",\"CPU Manufacturer\":\"Intel\",\"Clock Speed\":\"2.8 GHz\",\"RAM Size\":\"16GB\",\"Storage Type\":\"SSD\",\"Display Type\":\"IPS\",\"Display Size\":\"17.3\\\\\"\",\"Graphics Processor\":\"NVIDIA GTX\",\"Screen Resolution\":\"1920x1080\",\"OS\":\"Windows 10\",\"Laptop Weight\":\"3.2 kg\",\"Special Features\":\"Dual Cooling Fans\",\"Warranty\":\"1 year\",\"Average Battery Life\":\"5 hours\",\"Price\":80000,\"Description\":\"The Acer Predator is a powerhouse laptop designed for gaming enthusiasts. It is equipped with an Intel Core i7 processor clocked at 2.8 GHz, providing exceptional processing power for seamless gaming and demanding tasks. With 16GB of RAM and an SSD, it offers fast and efficient multitasking and storage capabilities. The laptop features a large 17.3\\\\\" IPS display with a resolution of 1920x1080, delivering stunning visuals and wide viewing angles. It also comes with an NVIDIA GTX graphics card for impressive gaming performance. Weighing 3.2 kg, it is a bit on the heavier side but still offers portability. The laptop features dual cooling fans for effective heat dissipation during intense gaming sessions. With a one-year warranty and a battery life of up to 5 hours, the Acer Predator ensures reliability and endurance. Priced at 80,000, it provides excellent value for gamers seeking powerful gaming performance.\",\"Score\":4},{\"Brand\":\"Dell\",\"Model Name\":\"Inspiron\",\"Core\":\"i5\",\"CPU Manufacturer\":\"Intel\",\"Clock Speed\":\"2.4 GHz\",\"RAM Size\":\"8GB\",\"Storage Type\":\"SSD\",\"Display Type\":\"LCD\",\"Display Size\":\"15.6\\\\\"\",\"Graphics Processor\":\"Intel UHD\",\"Screen Resolution\":\"1920x1080\",\"OS\":\"Windows 10\",\"Laptop Weight\":\"2.5 kg\",\"Special Features\":\"Backlit Keyboard\",\"Warranty\":\"1 year\",\"Average Battery Life\":\"6 hours\",\"Price\":35000,\"Description\":\"The Dell Inspiron is a versatile laptop that combines powerful performance and affordability. It features an Intel Core i5 processor clocked at 2.4 GHz, ensuring smooth multitasking and efficient computing. With 8GB of RAM and an SSD, it offers quick data access and ample storage capacity. The laptop sports a vibrant 15.6\\\\\" LCD display with a resolution of 1920x1080, delivering crisp visuals and immersive viewing experience. Weighing just 2.5 kg, it is highly portable, making it ideal for on-the-go usage. Additionally, it boasts an Intel UHD GPU for decent graphical performance and a backlit keyboard for enhanced typing convenience. With a one-year warranty and a battery life of up to 6 hours, the Dell Inspiron is a reliable companion for work or entertainment. All these features are packed at an affordable price of 35,000, making it an excellent choice for budget-conscious users.\",\"Score\":3},{\"Brand\":\"MSI\",\"Model Name\":\"GL65\",\"Core\":\"i7\",\"CPU Manufacturer\":\"Intel\",\"Clock Speed\":\"2.6 GHz\",\"RAM Size\":\"16GB\",\"Storage Type\":\"HDD+SSD\",\"Display Type\":\"IPS\",\"Display Size\":\"15.6\\\\\"\",\"Graphics Processor\":\"NVIDIA GTX\",\"Screen Resolution\":\"1920x1080\",\"OS\":\"Windows 10\",\"Laptop Weight\":\"2.3 kg\",\"Special Features\":\"RGB Keyboard\",\"Warranty\":\"2 years\",\"Average Battery Life\":\"4 hours\",\"Price\":55000,\"Description\":\"The MSI GL65 is a high-performance laptop designed for gaming enthusiasts. Powered by an Intel Core i7 processor running at 2.6 GHz, it delivers exceptional processing power for smooth gaming and demanding tasks. With 16GB of RAM and a combination of HDD and SSD storage, it offers ample memory and fast data access. The laptop features a 15.6\\\\\" IPS display with a resolution of 1920x1080, ensuring vivid colors and wide viewing angles for an immersive gaming experience. Equipped with an NVIDIA GTX graphics card, it provides excellent visual performance and smooth gameplay. Weighing just 2.3 kg, it is a portable option for gamers on the move. The laptop also boasts an RGB keyboard, allowing customizable lighting effects for a personalized gaming setup. With a two-year warranty and a battery life of up to 4 hours, the MSI GL65 offers reliability and durability. Priced at 55,000, it offers excellent value for money for gamers seeking a powerful gaming laptop.\",\"Score\":3}]'"
            ],
            "application/vnd.google.colaboratory.intrinsic+json": {
              "type": "string"
            }
          },
          "metadata": {}
        }
      ]
    },
    {
      "cell_type": "code",
      "source": [
        "# Get output in JSON Format\n",
        "top_3_laptops_json = json.loads(top_3_laptops)\n",
        "# type(top_3_laptops_json)\n",
        "top_3_laptops_json"
      ],
      "metadata": {
        "colab": {
          "base_uri": "https://localhost:8080/"
        },
        "id": "BroGFcbRG2fv",
        "outputId": "7ca08e80-6540-4859-9337-a515681fe4d6"
      },
      "execution_count": 67,
      "outputs": [
        {
          "output_type": "execute_result",
          "data": {
            "text/plain": [
              "[{'Brand': 'Acer',\n",
              "  'Model Name': 'Predator',\n",
              "  'Core': 'i7',\n",
              "  'CPU Manufacturer': 'Intel',\n",
              "  'Clock Speed': '2.8 GHz',\n",
              "  'RAM Size': '16GB',\n",
              "  'Storage Type': 'SSD',\n",
              "  'Display Type': 'IPS',\n",
              "  'Display Size': '17.3\"',\n",
              "  'Graphics Processor': 'NVIDIA GTX',\n",
              "  'Screen Resolution': '1920x1080',\n",
              "  'OS': 'Windows 10',\n",
              "  'Laptop Weight': '3.2 kg',\n",
              "  'Special Features': 'Dual Cooling Fans',\n",
              "  'Warranty': '1 year',\n",
              "  'Average Battery Life': '5 hours',\n",
              "  'Price': 80000,\n",
              "  'Description': 'The Acer Predator is a powerhouse laptop designed for gaming enthusiasts. It is equipped with an Intel Core i7 processor clocked at 2.8 GHz, providing exceptional processing power for seamless gaming and demanding tasks. With 16GB of RAM and an SSD, it offers fast and efficient multitasking and storage capabilities. The laptop features a large 17.3\" IPS display with a resolution of 1920x1080, delivering stunning visuals and wide viewing angles. It also comes with an NVIDIA GTX graphics card for impressive gaming performance. Weighing 3.2 kg, it is a bit on the heavier side but still offers portability. The laptop features dual cooling fans for effective heat dissipation during intense gaming sessions. With a one-year warranty and a battery life of up to 5 hours, the Acer Predator ensures reliability and endurance. Priced at 80,000, it provides excellent value for gamers seeking powerful gaming performance.',\n",
              "  'Score': 4},\n",
              " {'Brand': 'Dell',\n",
              "  'Model Name': 'Inspiron',\n",
              "  'Core': 'i5',\n",
              "  'CPU Manufacturer': 'Intel',\n",
              "  'Clock Speed': '2.4 GHz',\n",
              "  'RAM Size': '8GB',\n",
              "  'Storage Type': 'SSD',\n",
              "  'Display Type': 'LCD',\n",
              "  'Display Size': '15.6\"',\n",
              "  'Graphics Processor': 'Intel UHD',\n",
              "  'Screen Resolution': '1920x1080',\n",
              "  'OS': 'Windows 10',\n",
              "  'Laptop Weight': '2.5 kg',\n",
              "  'Special Features': 'Backlit Keyboard',\n",
              "  'Warranty': '1 year',\n",
              "  'Average Battery Life': '6 hours',\n",
              "  'Price': 35000,\n",
              "  'Description': 'The Dell Inspiron is a versatile laptop that combines powerful performance and affordability. It features an Intel Core i5 processor clocked at 2.4 GHz, ensuring smooth multitasking and efficient computing. With 8GB of RAM and an SSD, it offers quick data access and ample storage capacity. The laptop sports a vibrant 15.6\" LCD display with a resolution of 1920x1080, delivering crisp visuals and immersive viewing experience. Weighing just 2.5 kg, it is highly portable, making it ideal for on-the-go usage. Additionally, it boasts an Intel UHD GPU for decent graphical performance and a backlit keyboard for enhanced typing convenience. With a one-year warranty and a battery life of up to 6 hours, the Dell Inspiron is a reliable companion for work or entertainment. All these features are packed at an affordable price of 35,000, making it an excellent choice for budget-conscious users.',\n",
              "  'Score': 3},\n",
              " {'Brand': 'MSI',\n",
              "  'Model Name': 'GL65',\n",
              "  'Core': 'i7',\n",
              "  'CPU Manufacturer': 'Intel',\n",
              "  'Clock Speed': '2.6 GHz',\n",
              "  'RAM Size': '16GB',\n",
              "  'Storage Type': 'HDD+SSD',\n",
              "  'Display Type': 'IPS',\n",
              "  'Display Size': '15.6\"',\n",
              "  'Graphics Processor': 'NVIDIA GTX',\n",
              "  'Screen Resolution': '1920x1080',\n",
              "  'OS': 'Windows 10',\n",
              "  'Laptop Weight': '2.3 kg',\n",
              "  'Special Features': 'RGB Keyboard',\n",
              "  'Warranty': '2 years',\n",
              "  'Average Battery Life': '4 hours',\n",
              "  'Price': 55000,\n",
              "  'Description': 'The MSI GL65 is a high-performance laptop designed for gaming enthusiasts. Powered by an Intel Core i7 processor running at 2.6 GHz, it delivers exceptional processing power for smooth gaming and demanding tasks. With 16GB of RAM and a combination of HDD and SSD storage, it offers ample memory and fast data access. The laptop features a 15.6\" IPS display with a resolution of 1920x1080, ensuring vivid colors and wide viewing angles for an immersive gaming experience. Equipped with an NVIDIA GTX graphics card, it provides excellent visual performance and smooth gameplay. Weighing just 2.3 kg, it is a portable option for gamers on the move. The laptop also boasts an RGB keyboard, allowing customizable lighting effects for a personalized gaming setup. With a two-year warranty and a battery life of up to 4 hours, the MSI GL65 offers reliability and durability. Priced at 55,000, it offers excellent value for money for gamers seeking a powerful gaming laptop.',\n",
              "  'Score': 3}]"
            ]
          },
          "metadata": {},
          "execution_count": 67
        }
      ]
    },
    {
      "cell_type": "code",
      "source": [
        "def recommendation_validation(laptop_recommendation):\n",
        "    data = json.loads(laptop_recommendation)\n",
        "    data1 = []\n",
        "    for i in range(len(data)):\n",
        "        if data[i]['Score'] > 2:\n",
        "            data1.append(data[i])\n",
        "\n",
        "    return data1"
      ],
      "metadata": {
        "id": "Gweyy5XeHIRh"
      },
      "execution_count": 68,
      "outputs": []
    },
    {
      "cell_type": "code",
      "source": [
        "validated_data = recommendation_validation(top_3_laptops)\n",
        "display(validated_data,'\\n')"
      ],
      "metadata": {
        "colab": {
          "base_uri": "https://localhost:8080/",
          "height": 1000
        },
        "id": "qxUhSCcgHgXn",
        "outputId": "116ba74f-6c23-453d-967a-de994e6e5135"
      },
      "execution_count": 69,
      "outputs": [
        {
          "output_type": "display_data",
          "data": {
            "text/plain": [
              "[{'Brand': 'Acer',\n",
              "  'Model Name': 'Predator',\n",
              "  'Core': 'i7',\n",
              "  'CPU Manufacturer': 'Intel',\n",
              "  'Clock Speed': '2.8 GHz',\n",
              "  'RAM Size': '16GB',\n",
              "  'Storage Type': 'SSD',\n",
              "  'Display Type': 'IPS',\n",
              "  'Display Size': '17.3\"',\n",
              "  'Graphics Processor': 'NVIDIA GTX',\n",
              "  'Screen Resolution': '1920x1080',\n",
              "  'OS': 'Windows 10',\n",
              "  'Laptop Weight': '3.2 kg',\n",
              "  'Special Features': 'Dual Cooling Fans',\n",
              "  'Warranty': '1 year',\n",
              "  'Average Battery Life': '5 hours',\n",
              "  'Price': 80000,\n",
              "  'Description': 'The Acer Predator is a powerhouse laptop designed for gaming enthusiasts. It is equipped with an Intel Core i7 processor clocked at 2.8 GHz, providing exceptional processing power for seamless gaming and demanding tasks. With 16GB of RAM and an SSD, it offers fast and efficient multitasking and storage capabilities. The laptop features a large 17.3\" IPS display with a resolution of 1920x1080, delivering stunning visuals and wide viewing angles. It also comes with an NVIDIA GTX graphics card for impressive gaming performance. Weighing 3.2 kg, it is a bit on the heavier side but still offers portability. The laptop features dual cooling fans for effective heat dissipation during intense gaming sessions. With a one-year warranty and a battery life of up to 5 hours, the Acer Predator ensures reliability and endurance. Priced at 80,000, it provides excellent value for gamers seeking powerful gaming performance.',\n",
              "  'Score': 4},\n",
              " {'Brand': 'Dell',\n",
              "  'Model Name': 'Inspiron',\n",
              "  'Core': 'i5',\n",
              "  'CPU Manufacturer': 'Intel',\n",
              "  'Clock Speed': '2.4 GHz',\n",
              "  'RAM Size': '8GB',\n",
              "  'Storage Type': 'SSD',\n",
              "  'Display Type': 'LCD',\n",
              "  'Display Size': '15.6\"',\n",
              "  'Graphics Processor': 'Intel UHD',\n",
              "  'Screen Resolution': '1920x1080',\n",
              "  'OS': 'Windows 10',\n",
              "  'Laptop Weight': '2.5 kg',\n",
              "  'Special Features': 'Backlit Keyboard',\n",
              "  'Warranty': '1 year',\n",
              "  'Average Battery Life': '6 hours',\n",
              "  'Price': 35000,\n",
              "  'Description': 'The Dell Inspiron is a versatile laptop that combines powerful performance and affordability. It features an Intel Core i5 processor clocked at 2.4 GHz, ensuring smooth multitasking and efficient computing. With 8GB of RAM and an SSD, it offers quick data access and ample storage capacity. The laptop sports a vibrant 15.6\" LCD display with a resolution of 1920x1080, delivering crisp visuals and immersive viewing experience. Weighing just 2.5 kg, it is highly portable, making it ideal for on-the-go usage. Additionally, it boasts an Intel UHD GPU for decent graphical performance and a backlit keyboard for enhanced typing convenience. With a one-year warranty and a battery life of up to 6 hours, the Dell Inspiron is a reliable companion for work or entertainment. All these features are packed at an affordable price of 35,000, making it an excellent choice for budget-conscious users.',\n",
              "  'Score': 3},\n",
              " {'Brand': 'MSI',\n",
              "  'Model Name': 'GL65',\n",
              "  'Core': 'i7',\n",
              "  'CPU Manufacturer': 'Intel',\n",
              "  'Clock Speed': '2.6 GHz',\n",
              "  'RAM Size': '16GB',\n",
              "  'Storage Type': 'HDD+SSD',\n",
              "  'Display Type': 'IPS',\n",
              "  'Display Size': '15.6\"',\n",
              "  'Graphics Processor': 'NVIDIA GTX',\n",
              "  'Screen Resolution': '1920x1080',\n",
              "  'OS': 'Windows 10',\n",
              "  'Laptop Weight': '2.3 kg',\n",
              "  'Special Features': 'RGB Keyboard',\n",
              "  'Warranty': '2 years',\n",
              "  'Average Battery Life': '4 hours',\n",
              "  'Price': 55000,\n",
              "  'Description': 'The MSI GL65 is a high-performance laptop designed for gaming enthusiasts. Powered by an Intel Core i7 processor running at 2.6 GHz, it delivers exceptional processing power for smooth gaming and demanding tasks. With 16GB of RAM and a combination of HDD and SSD storage, it offers ample memory and fast data access. The laptop features a 15.6\" IPS display with a resolution of 1920x1080, ensuring vivid colors and wide viewing angles for an immersive gaming experience. Equipped with an NVIDIA GTX graphics card, it provides excellent visual performance and smooth gameplay. Weighing just 2.3 kg, it is a portable option for gamers on the move. The laptop also boasts an RGB keyboard, allowing customizable lighting effects for a personalized gaming setup. With a two-year warranty and a battery life of up to 4 hours, the MSI GL65 offers reliability and durability. Priced at 55,000, it offers excellent value for money for gamers seeking a powerful gaming laptop.',\n",
              "  'Score': 3}]"
            ]
          },
          "metadata": {}
        },
        {
          "output_type": "display_data",
          "data": {
            "text/plain": [
              "'\\n'"
            ],
            "application/vnd.google.colaboratory.intrinsic+json": {
              "type": "string"
            }
          },
          "metadata": {}
        }
      ]
    },
    {
      "cell_type": "markdown",
      "source": [
        "Stage 3"
      ],
      "metadata": {
        "id": "TAdG3YuQHqgc"
      }
    },
    {
      "cell_type": "code",
      "source": [
        "def initialize_conv_reco(products):\n",
        "    system_message = f\"\"\"\n",
        "    You are an intelligent laptop gadget expert and you are tasked with the objective to \\\n",
        "    solve the user queries about any product from the catalogue in the user message \\\n",
        "    You should keep the user profile in mind while answering the questions.\\\n",
        "\n",
        "    Start with a brief summary of each laptop in the following format, in decreasing order of price of laptops:\n",
        "    1. <Laptop Name> : <Major specifications of the laptop>, <Price in Rs>\n",
        "    2. <Laptop Name> : <Major specifications of the laptop>, <Price in Rs>\n",
        "\n",
        "    \"\"\"\n",
        "    user_message = f\"\"\" These are the user's products: {products}\"\"\"\n",
        "    conversation = [{\"role\": \"system\", \"content\": system_message },\n",
        "                    {\"role\":\"user\",\"content\":user_message}]\n",
        "    # conversation_final = conversation[0]['content']\n",
        "    return conversation"
      ],
      "metadata": {
        "id": "fRGdnIZxHjfh"
      },
      "execution_count": 70,
      "outputs": []
    },
    {
      "cell_type": "code",
      "source": [
        "debug_conversation_reco = initialize_conv_reco(top_3_laptops)\n",
        "debug_conversation_reco"
      ],
      "metadata": {
        "colab": {
          "base_uri": "https://localhost:8080/"
        },
        "id": "ODLrX34aIJX9",
        "outputId": "9617e3cd-3a6a-44dd-edf4-198f6323f338"
      },
      "execution_count": 71,
      "outputs": [
        {
          "output_type": "execute_result",
          "data": {
            "text/plain": [
              "[{'role': 'system',\n",
              "  'content': '\\n    You are an intelligent laptop gadget expert and you are tasked with the objective to     solve the user queries about any product from the catalogue in the user message     You should keep the user profile in mind while answering the questions.\\n    Start with a brief summary of each laptop in the following format, in decreasing order of price of laptops:\\n    1. <Laptop Name> : <Major specifications of the laptop>, <Price in Rs>\\n    2. <Laptop Name> : <Major specifications of the laptop>, <Price in Rs>\\n\\n    '},\n",
              " {'role': 'user',\n",
              "  'content': ' These are the user\\'s products: [{\"Brand\":\"Acer\",\"Model Name\":\"Predator\",\"Core\":\"i7\",\"CPU Manufacturer\":\"Intel\",\"Clock Speed\":\"2.8 GHz\",\"RAM Size\":\"16GB\",\"Storage Type\":\"SSD\",\"Display Type\":\"IPS\",\"Display Size\":\"17.3\\\\\"\",\"Graphics Processor\":\"NVIDIA GTX\",\"Screen Resolution\":\"1920x1080\",\"OS\":\"Windows 10\",\"Laptop Weight\":\"3.2 kg\",\"Special Features\":\"Dual Cooling Fans\",\"Warranty\":\"1 year\",\"Average Battery Life\":\"5 hours\",\"Price\":80000,\"Description\":\"The Acer Predator is a powerhouse laptop designed for gaming enthusiasts. It is equipped with an Intel Core i7 processor clocked at 2.8 GHz, providing exceptional processing power for seamless gaming and demanding tasks. With 16GB of RAM and an SSD, it offers fast and efficient multitasking and storage capabilities. The laptop features a large 17.3\\\\\" IPS display with a resolution of 1920x1080, delivering stunning visuals and wide viewing angles. It also comes with an NVIDIA GTX graphics card for impressive gaming performance. Weighing 3.2 kg, it is a bit on the heavier side but still offers portability. The laptop features dual cooling fans for effective heat dissipation during intense gaming sessions. With a one-year warranty and a battery life of up to 5 hours, the Acer Predator ensures reliability and endurance. Priced at 80,000, it provides excellent value for gamers seeking powerful gaming performance.\",\"Score\":4},{\"Brand\":\"Dell\",\"Model Name\":\"Inspiron\",\"Core\":\"i5\",\"CPU Manufacturer\":\"Intel\",\"Clock Speed\":\"2.4 GHz\",\"RAM Size\":\"8GB\",\"Storage Type\":\"SSD\",\"Display Type\":\"LCD\",\"Display Size\":\"15.6\\\\\"\",\"Graphics Processor\":\"Intel UHD\",\"Screen Resolution\":\"1920x1080\",\"OS\":\"Windows 10\",\"Laptop Weight\":\"2.5 kg\",\"Special Features\":\"Backlit Keyboard\",\"Warranty\":\"1 year\",\"Average Battery Life\":\"6 hours\",\"Price\":35000,\"Description\":\"The Dell Inspiron is a versatile laptop that combines powerful performance and affordability. It features an Intel Core i5 processor clocked at 2.4 GHz, ensuring smooth multitasking and efficient computing. With 8GB of RAM and an SSD, it offers quick data access and ample storage capacity. The laptop sports a vibrant 15.6\\\\\" LCD display with a resolution of 1920x1080, delivering crisp visuals and immersive viewing experience. Weighing just 2.5 kg, it is highly portable, making it ideal for on-the-go usage. Additionally, it boasts an Intel UHD GPU for decent graphical performance and a backlit keyboard for enhanced typing convenience. With a one-year warranty and a battery life of up to 6 hours, the Dell Inspiron is a reliable companion for work or entertainment. All these features are packed at an affordable price of 35,000, making it an excellent choice for budget-conscious users.\",\"Score\":3},{\"Brand\":\"MSI\",\"Model Name\":\"GL65\",\"Core\":\"i7\",\"CPU Manufacturer\":\"Intel\",\"Clock Speed\":\"2.6 GHz\",\"RAM Size\":\"16GB\",\"Storage Type\":\"HDD+SSD\",\"Display Type\":\"IPS\",\"Display Size\":\"15.6\\\\\"\",\"Graphics Processor\":\"NVIDIA GTX\",\"Screen Resolution\":\"1920x1080\",\"OS\":\"Windows 10\",\"Laptop Weight\":\"2.3 kg\",\"Special Features\":\"RGB Keyboard\",\"Warranty\":\"2 years\",\"Average Battery Life\":\"4 hours\",\"Price\":55000,\"Description\":\"The MSI GL65 is a high-performance laptop designed for gaming enthusiasts. Powered by an Intel Core i7 processor running at 2.6 GHz, it delivers exceptional processing power for smooth gaming and demanding tasks. With 16GB of RAM and a combination of HDD and SSD storage, it offers ample memory and fast data access. The laptop features a 15.6\\\\\" IPS display with a resolution of 1920x1080, ensuring vivid colors and wide viewing angles for an immersive gaming experience. Equipped with an NVIDIA GTX graphics card, it provides excellent visual performance and smooth gameplay. Weighing just 2.3 kg, it is a portable option for gamers on the move. The laptop also boasts an RGB keyboard, allowing customizable lighting effects for a personalized gaming setup. With a two-year warranty and a battery life of up to 4 hours, the MSI GL65 offers reliability and durability. Priced at 55,000, it offers excellent value for money for gamers seeking a powerful gaming laptop.\",\"Score\":3}]'}]"
            ]
          },
          "metadata": {},
          "execution_count": 71
        }
      ]
    },
    {
      "cell_type": "code",
      "source": [
        "debug_recommendation = get_chat_completions(debug_conversation_reco)\n",
        "print(debug_recommendation + '\\n')"
      ],
      "metadata": {
        "colab": {
          "base_uri": "https://localhost:8080/"
        },
        "id": "7A2x-RYgIM-q",
        "outputId": "3d299a31-c173-414b-a031-a15a51f17223"
      },
      "execution_count": 72,
      "outputs": [
        {
          "output_type": "stream",
          "name": "stdout",
          "text": [
            "1. Acer Predator : Intel Core i7 2.8 GHz, 16GB RAM, NVIDIA GTX graphics card, 17.3\" IPS display, Windows 10, SSD, Dual Cooling Fans, 5 hours battery life, 3.2 kg, 1-year warranty, Price: Rs 80,000\n",
            "2. MSI GL65 : Intel Core i7 2.6 GHz, 16GB RAM, NVIDIA GTX graphics card, 15.6\" IPS display, Windows 10, HDD+SSD storage, RGB Keyboard, 4 hours battery life, 2.3 kg, 2-year warranty, Price: Rs 55,000\n",
            "3. Dell Inspiron : Intel Core i5 2.4 GHz, 8GB RAM, Intel UHD graphics, 15.6\" LCD display, Windows 10, SSD, Backlit Keyboard, 6 hours battery life, 2.5 kg, 1-year warranty, Price: Rs 35,000\n",
            "\n",
            "If you have any specific questions or need more details about any of these laptops, feel free to ask!\n",
            "\n"
          ]
        }
      ]
    },
    {
      "cell_type": "code",
      "source": [
        "response_dict_n"
      ],
      "metadata": {
        "colab": {
          "base_uri": "https://localhost:8080/"
        },
        "id": "K0iraGziIYuz",
        "outputId": "54d9daaf-329b-47b2-a1fb-484ee08a7f16"
      },
      "execution_count": 73,
      "outputs": [
        {
          "output_type": "execute_result",
          "data": {
            "text/plain": [
              "{'GPU intensity': 'high',\n",
              " 'Display quality': 'high',\n",
              " 'Portability': 'low',\n",
              " 'Multitasking': 'high',\n",
              " 'Processing speed': 'medium',\n",
              " 'Budget': '80000'}"
            ]
          },
          "metadata": {},
          "execution_count": 73
        }
      ]
    },
    {
      "cell_type": "code",
      "source": [
        "debug_conversation_reco.append({\"role\": \"user\", \"content\": \"This is my user profile\" + str(response_dict_n)})\n",
        "debug_conversation_reco.append({\"role\": \"assistant\", \"content\": debug_recommendation})"
      ],
      "metadata": {
        "id": "p-wYIdHuIkaU"
      },
      "execution_count": 74,
      "outputs": []
    },
    {
      "cell_type": "code",
      "source": [
        "debug_user_input = \"Which is ideal for travel?\""
      ],
      "metadata": {
        "id": "18H7WFgRIoIR"
      },
      "execution_count": 75,
      "outputs": []
    },
    {
      "cell_type": "code",
      "source": [
        "debug_conversation_reco.append({\"role\": \"user\", \"content\": debug_user_input})\n",
        "debug_response_asst_reco = get_chat_completions(debug_conversation_reco)\n",
        "display('\\n' + debug_response_asst_reco + '\\n')"
      ],
      "metadata": {
        "colab": {
          "base_uri": "https://localhost:8080/",
          "height": 53
        },
        "id": "b1ayG_qvIqQC",
        "outputId": "a4b96e1d-6462-42b4-b246-a9afdccdd4f2"
      },
      "execution_count": 76,
      "outputs": [
        {
          "output_type": "display_data",
          "data": {
            "text/plain": [
              "\"\\nThe Dell Inspiron would be the most ideal for travel based on your user profile's preference for portability. It is the lightest among the laptops listed, weighing just 2.5 kg, making it easier to carry around compared to the other two laptops. Additionally, it offers a good balance of performance and features while being highly portable.\\n\""
            ],
            "application/vnd.google.colaboratory.intrinsic+json": {
              "type": "string"
            }
          },
          "metadata": {}
        }
      ]
    },
    {
      "cell_type": "markdown",
      "source": [
        "Combining all the 3 stages\n",
        "In this layer, we combine all the three stages that we defined above.\n",
        "\n",
        "Stage 1 + Stage 2 + Stage 3"
      ],
      "metadata": {
        "id": "kSJhybo_I2gz"
      }
    },
    {
      "cell_type": "code",
      "source": [
        "def dialogue_mgmt_system():\n",
        "    conversation = initialize_conversation()\n",
        "\n",
        "    introduction = get_chat_completions(conversation)\n",
        "\n",
        "    display(introduction + '\\n')\n",
        "\n",
        "    top_3_laptops = None\n",
        "\n",
        "    user_input = ''\n",
        "\n",
        "    while(user_input != \"exit\"):\n",
        "\n",
        "        user_input = input(\"\")\n",
        "\n",
        "        moderation = moderation_check(user_input)\n",
        "        if moderation == 'Flagged':\n",
        "            display(\"Sorry, this message has been flagged. Please restart your conversation.\")\n",
        "            break\n",
        "\n",
        "        if top_3_laptops is None:\n",
        "\n",
        "            conversation.append({\"role\": \"user\", \"content\": user_input})\n",
        "\n",
        "            response_assistant = get_chat_completions(conversation)\n",
        "            moderation = moderation_check(response_assistant)\n",
        "            if moderation == 'Flagged':\n",
        "                display(\"Sorry, this message has been flagged. Please restart your conversation.\")\n",
        "                break\n",
        "\n",
        "\n",
        "            confirmation = intent_confirmation_layer(response_assistant)\n",
        "\n",
        "            print(\"Intent Confirmation Yes/No:\",confirmation.get('result'))\n",
        "\n",
        "            if \"No\" in confirmation.get('result'):\n",
        "                conversation.append({\"role\": \"assistant\", \"content\": str(response_assistant)})\n",
        "                print(\"\\n\" + str(response_assistant) + \"\\n\")\n",
        "\n",
        "            else:\n",
        "                print(\"\\n\" + str(response_assistant) + \"\\n\")\n",
        "                print('\\n' + \"Variables extracted!\" + '\\n')\n",
        "\n",
        "                response = dictionary_present(response_assistant)\n",
        "\n",
        "                print(\"Thank you for providing all the information. Kindly wait, while I fetch the products: \\n\")\n",
        "                top_3_laptops = compare_laptops_with_user(response)\n",
        "\n",
        "                print(\"top 3 laptops are\", top_3_laptops)\n",
        "\n",
        "                validated_reco = recommendation_validation(top_3_laptops)\n",
        "\n",
        "                conversation_reco = initialize_conv_reco(validated_reco)\n",
        "\n",
        "                conversation_reco.append({\"role\": \"user\", \"content\": \"This is my user profile\" + str(response)})\n",
        "\n",
        "                recommendation = get_chat_completions(conversation_reco)\n",
        "\n",
        "                moderation = moderation_check(recommendation)\n",
        "                if moderation == 'Flagged':\n",
        "                    display(\"Sorry, this message has been flagged. Please restart your conversation.\")\n",
        "                    break\n",
        "\n",
        "                conversation_reco.append({\"role\": \"assistant\", \"content\": str(recommendation)})\n",
        "\n",
        "                print(str(recommendation) + '\\n')\n",
        "        else:\n",
        "            conversation_reco.append({\"role\": \"user\", \"content\": user_input})\n",
        "\n",
        "            response_asst_reco = get_chat_completions(conversation_reco)\n",
        "\n",
        "            moderation = moderation_check(response_asst_reco)\n",
        "            if moderation == 'Flagged':\n",
        "                print(\"Sorry, this message has been flagged. Please restart your conversation.\")\n",
        "                break\n",
        "\n",
        "            print('\\n' + response_asst_reco + '\\n')\n",
        "            conversation.append({\"role\": \"assistant\", \"content\": response_asst_reco})"
      ],
      "metadata": {
        "id": "2ZeNZpkWItF1"
      },
      "execution_count": 77,
      "outputs": []
    },
    {
      "cell_type": "code",
      "source": [
        "dialogue_mgmt_system()"
      ],
      "metadata": {
        "colab": {
          "base_uri": "https://localhost:8080/",
          "height": 715
        },
        "id": "Vbc7zLwjJEVo",
        "outputId": "a6b66a74-fb61-463a-aff0-1bc1e278a063"
      },
      "execution_count": 78,
      "outputs": [
        {
          "output_type": "display_data",
          "data": {
            "text/plain": [
              "'Hello! Welcome to the laptop recommendation assistant. Please share with me your requirements so that I can help you find the best laptop that suits your needs.\\n'"
            ],
            "application/vnd.google.colaboratory.intrinsic+json": {
              "type": "string"
            }
          },
          "metadata": {}
        },
        {
          "output_type": "stream",
          "name": "stdout",
          "text": [
            "Hi, I am Asit. I'm looking for a Laptop for watching Movies and Browsing.\n",
            "Intent Confirmation Yes/No: No\n",
            "\n",
            "Great! As a user who enjoys watching movies and browsing, having a laptop with good display quality for an immersive movie-watching experience would be essential. Additionally, a smooth browsing experience would require decent processing speed. Could you please let me know the importance you place on GPU intensity, multitasking capability, and portability in a laptop?\n",
            "\n",
            "GPU intensity = Low, multitasking capability = medium, portability = high\n",
            "Intent Confirmation Yes/No: No\n",
            "\n",
            "Thank you for providing that information. Since you prioritize portability, we can assume that you prefer a lightweight and easy-to-carry laptop. Given that multitasking capability is of medium importance to you, we can focus on balancing performance for browsing and movie watching. Now, could you please share your maximum budget for the laptop you are looking to purchase? This information will help me find suitable options within your price range.\n",
            "\n",
            "50000\n",
            "Intent Confirmation Yes/No: Yes\n",
            "\n",
            "{'GPU intensity': 'low', 'Display quality': 'medium', 'Portability': 'high', 'Multitasking': 'medium', 'Processing speed': 'medium', 'Budget': 50000}\n",
            "\n",
            "\n",
            "Variables extracted!\n",
            "\n",
            "Thank you for providing all the information. Kindly wait, while I fetch the products: \n",
            "\n",
            "top 3 laptops are [{\"Brand\":\"Acer\",\"Model Name\":\"Predator\",\"Core\":\"i7\",\"CPU Manufacturer\":\"Intel\",\"Clock Speed\":\"2.8 GHz\",\"RAM Size\":\"16GB\",\"Storage Type\":\"SSD\",\"Display Type\":\"IPS\",\"Display Size\":\"17.3\\\"\",\"Graphics Processor\":\"NVIDIA GTX\",\"Screen Resolution\":\"1920x1080\",\"OS\":\"Windows 10\",\"Laptop Weight\":\"3.2 kg\",\"Special Features\":\"Dual Cooling Fans\",\"Warranty\":\"1 year\",\"Average Battery Life\":\"5 hours\",\"Price\":80000,\"Description\":\"The Acer Predator is a powerhouse laptop designed for gaming enthusiasts. It is equipped with an Intel Core i7 processor clocked at 2.8 GHz, providing exceptional processing power for seamless gaming and demanding tasks. With 16GB of RAM and an SSD, it offers fast and efficient multitasking and storage capabilities. The laptop features a large 17.3\\\" IPS display with a resolution of 1920x1080, delivering stunning visuals and wide viewing angles. It also comes with an NVIDIA GTX graphics card for impressive gaming performance. Weighing 3.2 kg, it is a bit on the heavier side but still offers portability. The laptop features dual cooling fans for effective heat dissipation during intense gaming sessions. With a one-year warranty and a battery life of up to 5 hours, the Acer Predator ensures reliability and endurance. Priced at 80,000, it provides excellent value for gamers seeking powerful gaming performance.\",\"Score\":4},{\"Brand\":\"Dell\",\"Model Name\":\"Inspiron\",\"Core\":\"i5\",\"CPU Manufacturer\":\"Intel\",\"Clock Speed\":\"2.4 GHz\",\"RAM Size\":\"8GB\",\"Storage Type\":\"SSD\",\"Display Type\":\"LCD\",\"Display Size\":\"15.6\\\"\",\"Graphics Processor\":\"Intel UHD\",\"Screen Resolution\":\"1920x1080\",\"OS\":\"Windows 10\",\"Laptop Weight\":\"2.5 kg\",\"Special Features\":\"Backlit Keyboard\",\"Warranty\":\"1 year\",\"Average Battery Life\":\"6 hours\",\"Price\":35000,\"Description\":\"The Dell Inspiron is a versatile laptop that combines powerful performance and affordability. It features an Intel Core i5 processor clocked at 2.4 GHz, ensuring smooth multitasking and efficient computing. With 8GB of RAM and an SSD, it offers quick data access and ample storage capacity. The laptop sports a vibrant 15.6\\\" LCD display with a resolution of 1920x1080, delivering crisp visuals and immersive viewing experience. Weighing just 2.5 kg, it is highly portable, making it ideal for on-the-go usage. Additionally, it boasts an Intel UHD GPU for decent graphical performance and a backlit keyboard for enhanced typing convenience. With a one-year warranty and a battery life of up to 6 hours, the Dell Inspiron is a reliable companion for work or entertainment. All these features are packed at an affordable price of 35,000, making it an excellent choice for budget-conscious users.\",\"Score\":3},{\"Brand\":\"MSI\",\"Model Name\":\"GL65\",\"Core\":\"i7\",\"CPU Manufacturer\":\"Intel\",\"Clock Speed\":\"2.6 GHz\",\"RAM Size\":\"16GB\",\"Storage Type\":\"HDD+SSD\",\"Display Type\":\"IPS\",\"Display Size\":\"15.6\\\"\",\"Graphics Processor\":\"NVIDIA GTX\",\"Screen Resolution\":\"1920x1080\",\"OS\":\"Windows 10\",\"Laptop Weight\":\"2.3 kg\",\"Special Features\":\"RGB Keyboard\",\"Warranty\":\"2 years\",\"Average Battery Life\":\"4 hours\",\"Price\":55000,\"Description\":\"The MSI GL65 is a high-performance laptop designed for gaming enthusiasts. Powered by an Intel Core i7 processor running at 2.6 GHz, it delivers exceptional processing power for smooth gaming and demanding tasks. With 16GB of RAM and a combination of HDD and SSD storage, it offers ample memory and fast data access. The laptop features a 15.6\\\" IPS display with a resolution of 1920x1080, ensuring vivid colors and wide viewing angles for an immersive gaming experience. Equipped with an NVIDIA GTX graphics card, it provides excellent visual performance and smooth gameplay. Weighing just 2.3 kg, it is a portable option for gamers on the move. The laptop also boasts an RGB keyboard, allowing customizable lighting effects for a personalized gaming setup. With a two-year warranty and a battery life of up to 4 hours, the MSI GL65 offers reliability and durability. Priced at 55,000, it offers excellent value for money for gamers seeking a powerful gaming laptop.\",\"Score\":3}]\n",
            "1. Dell Inspiron: Intel Core i5 2.4 GHz, 8GB RAM, SSD, 15.6\" LCD 1920x1080, Intel UHD, Windows 10, 2.5 kg, 6 hours battery, Price: Rs 35,000\n",
            "2. MSI GL65: Intel Core i7 2.6 GHz, 16GB RAM, HDD+SSD, 15.6\" IPS 1920x1080, NVIDIA GTX, Windows 10, 2.3 kg, 4 hours battery, Special: RGB Keyboard, Price: Rs 55,000\n",
            "\n",
            "Based on your user profile emphasizing high portability, medium multitasking, and processing speed, the Dell Inspiron would be a suitable choice. It offers good performance within your budget, ensuring a balance between portability and performance.\n",
            "\n",
            "Ok Great\n",
            "\n",
            "I'm glad you found the information helpful! If you have any more questions or need further assistance, feel free to ask.\n",
            "\n",
            "don't have any questions\n",
            "\n",
            "Feel free to reach out if you have any further queries in the future. Have a great day!\n",
            "\n",
            "exit\n",
            "\n",
            "Goodbye! Feel free to return if you have any more questions in the future.\n",
            "\n"
          ]
        }
      ]
    },
    {
      "cell_type": "code",
      "source": [
        "dialogue_mgmt_system()"
      ],
      "metadata": {
        "colab": {
          "base_uri": "https://localhost:8080/",
          "height": 1000
        },
        "id": "dJuEs98_JHiW",
        "outputId": "5ba487b9-3862-4c87-86b3-b79bf9f63282"
      },
      "execution_count": 79,
      "outputs": [
        {
          "output_type": "display_data",
          "data": {
            "text/plain": [
              "'Hello! Welcome to the laptop recommendation assistant. Please share your requirements so that I can assist you in finding the best laptop that meets your needs.\\n'"
            ],
            "application/vnd.google.colaboratory.intrinsic+json": {
              "type": "string"
            }
          },
          "metadata": {}
        },
        {
          "output_type": "stream",
          "name": "stdout",
          "text": [
            "I need a laptop for coding\n",
            "Intent Confirmation Yes/No: No\n",
            "\n",
            "Great to hear that you're looking for a laptop! For coding purposes, you would need a laptop that offers good processing speed and multitasking capabilities. Could you provide more details about what kind of coding you will be doing? Are you primarily focused on web development, software development, or data analysis? Understanding the specifics will help in recommending the best laptop for your needs.\n",
            "\n",
            "I'm working on Deep Learning, NLP and Generative Related projects. \n",
            "Intent Confirmation Yes/No: No\n",
            "\n",
            "Thank you for sharing that information. Given that you are working on Deep Learning, NLP, and Generative related projects, it's clear that you would require a laptop with high GPU intensity for processing complex algorithms and models efficiently. Additionally, having a good processing speed for running heavy computations is crucial.\n",
            "\n",
            "Could you please provide more insights into your requirements in terms of display quality, portability, and budget? Understanding these aspects will help in recommending the most suitable laptop for your coding needs in Deep Learning, NLP, and Generative projects.\n",
            "\n",
            "display should be quiet good. portability is not a concern.\n",
            "Intent Confirmation Yes/No: No\n",
            "\n",
            "Thank you for the details. Based on your requirements for Deep Learning, NLP, and Generative projects, a laptop with high GPU intensity, high processing speed, and good display quality would be ideal for your coding needs. Since portability is not a concern, we can focus more on performance and display quality.\n",
            "\n",
            "To ensure I have a complete understanding of your needs, could you please share your budget for the laptop? This will help in recommending options that fit within your price range while meeting the specified requirements for your coding projects.\n",
            "\n",
            "about 70000 - 80000\n",
            "Intent Confirmation Yes/No: Yes\n",
            "\n",
            "{\n",
            "    'GPU intensity': 'high',\n",
            "    'Display quality': 'high',\n",
            "    'Portability': 'low',\n",
            "    'Multitasking': 'high',\n",
            "    'Processing speed': 'high',\n",
            "    'Budget': 75000\n",
            "}\n",
            "\n",
            "\n",
            "Variables extracted!\n",
            "\n",
            "Thank you for providing all the information. Kindly wait, while I fetch the products: \n",
            "\n",
            "top 3 laptops are [{\"Brand\":\"Acer\",\"Model Name\":\"Predator\",\"Core\":\"i7\",\"CPU Manufacturer\":\"Intel\",\"Clock Speed\":\"2.8 GHz\",\"RAM Size\":\"16GB\",\"Storage Type\":\"SSD\",\"Display Type\":\"IPS\",\"Display Size\":\"17.3\\\"\",\"Graphics Processor\":\"NVIDIA GTX\",\"Screen Resolution\":\"1920x1080\",\"OS\":\"Windows 10\",\"Laptop Weight\":\"3.2 kg\",\"Special Features\":\"Dual Cooling Fans\",\"Warranty\":\"1 year\",\"Average Battery Life\":\"5 hours\",\"Price\":80000,\"Description\":\"The Acer Predator is a powerhouse laptop designed for gaming enthusiasts. It is equipped with an Intel Core i7 processor clocked at 2.8 GHz, providing exceptional processing power for seamless gaming and demanding tasks. With 16GB of RAM and an SSD, it offers fast and efficient multitasking and storage capabilities. The laptop features a large 17.3\\\" IPS display with a resolution of 1920x1080, delivering stunning visuals and wide viewing angles. It also comes with an NVIDIA GTX graphics card for impressive gaming performance. Weighing 3.2 kg, it is a bit on the heavier side but still offers portability. The laptop features dual cooling fans for effective heat dissipation during intense gaming sessions. With a one-year warranty and a battery life of up to 5 hours, the Acer Predator ensures reliability and endurance. Priced at 80,000, it provides excellent value for gamers seeking powerful gaming performance.\",\"Score\":4},{\"Brand\":\"Dell\",\"Model Name\":\"Inspiron\",\"Core\":\"i5\",\"CPU Manufacturer\":\"Intel\",\"Clock Speed\":\"2.4 GHz\",\"RAM Size\":\"8GB\",\"Storage Type\":\"SSD\",\"Display Type\":\"LCD\",\"Display Size\":\"15.6\\\"\",\"Graphics Processor\":\"Intel UHD\",\"Screen Resolution\":\"1920x1080\",\"OS\":\"Windows 10\",\"Laptop Weight\":\"2.5 kg\",\"Special Features\":\"Backlit Keyboard\",\"Warranty\":\"1 year\",\"Average Battery Life\":\"6 hours\",\"Price\":35000,\"Description\":\"The Dell Inspiron is a versatile laptop that combines powerful performance and affordability. It features an Intel Core i5 processor clocked at 2.4 GHz, ensuring smooth multitasking and efficient computing. With 8GB of RAM and an SSD, it offers quick data access and ample storage capacity. The laptop sports a vibrant 15.6\\\" LCD display with a resolution of 1920x1080, delivering crisp visuals and immersive viewing experience. Weighing just 2.5 kg, it is highly portable, making it ideal for on-the-go usage. Additionally, it boasts an Intel UHD GPU for decent graphical performance and a backlit keyboard for enhanced typing convenience. With a one-year warranty and a battery life of up to 6 hours, the Dell Inspiron is a reliable companion for work or entertainment. All these features are packed at an affordable price of 35,000, making it an excellent choice for budget-conscious users.\",\"Score\":3},{\"Brand\":\"MSI\",\"Model Name\":\"GL65\",\"Core\":\"i7\",\"CPU Manufacturer\":\"Intel\",\"Clock Speed\":\"2.6 GHz\",\"RAM Size\":\"16GB\",\"Storage Type\":\"HDD+SSD\",\"Display Type\":\"IPS\",\"Display Size\":\"15.6\\\"\",\"Graphics Processor\":\"NVIDIA GTX\",\"Screen Resolution\":\"1920x1080\",\"OS\":\"Windows 10\",\"Laptop Weight\":\"2.3 kg\",\"Special Features\":\"RGB Keyboard\",\"Warranty\":\"2 years\",\"Average Battery Life\":\"4 hours\",\"Price\":55000,\"Description\":\"The MSI GL65 is a high-performance laptop designed for gaming enthusiasts. Powered by an Intel Core i7 processor running at 2.6 GHz, it delivers exceptional processing power for smooth gaming and demanding tasks. With 16GB of RAM and a combination of HDD and SSD storage, it offers ample memory and fast data access. The laptop features a 15.6\\\" IPS display with a resolution of 1920x1080, ensuring vivid colors and wide viewing angles for an immersive gaming experience. Equipped with an NVIDIA GTX graphics card, it provides excellent visual performance and smooth gameplay. Weighing just 2.3 kg, it is a portable option for gamers on the move. The laptop also boasts an RGB keyboard, allowing customizable lighting effects for a personalized gaming setup. With a two-year warranty and a battery life of up to 4 hours, the MSI GL65 offers reliability and durability. Priced at 55,000, it offers excellent value for money for gamers seeking a powerful gaming laptop.\",\"Score\":3}]\n",
            "1. Acer Predator: Core i7, 16GB RAM, SSD, 17.3\" IPS display, NVIDIA GTX, 1920x1080, Windows 10, 3.2 kg, Dual Cooling Fans, 5 hours battery, 1 year warranty, Price: Rs 80000  \n",
            "2. MSI GL65: Core i7, 16GB RAM, HDD+SSD storage, 15.6\" IPS display, NVIDIA GTX, 1920x1080, Windows 10, 2.3 kg, RGB Keyboard, 4 hours battery, 2 years warranty, Price: Rs 55000  \n",
            "\n",
            "As per your user profile with a high GPU intensity, display quality, multitasking, and processing speed preference, either of these laptops, Acer Predator or MSI GL65, would be suitable for your requirements. The Acer Predator is priced at Rs 80000, slightly exceeding your budget of Rs 75000, but it offers top-notch performance and features catering to your needs. On the other hand, the MSI GL65 priced at Rs 55000 provides good value for money with high-performance specifications. Both laptops are suitable for gaming and demanding tasks, but if budget flexibility allows, the Acer Predator with higher specifications can be a great fit.\n",
            "\n",
            "Great, I will go for 2.\n",
            "\n",
            "That's a good choice! The MSI GL65 with its high-performance specifications and gaming features will serve you well for your gaming and multitasking needs. If you have any more questions or need further assistance in the future, feel free to ask. Enjoy your new laptop!\n",
            "\n",
            "How much is the warranty for this?\n",
            "\n",
            "The MSI GL65 laptop comes with a warranty of 2 years.\n",
            "\n",
            "Great.\n",
            "\n",
            "The MSI GL65 laptop comes with a warranty of 2 years. So, you can enjoy an extended warranty coverage for a longer duration with your chosen laptop. If you have any more questions or need further assistance, feel free to ask!\n",
            "\n",
            "Nope\n",
            "\n",
            "Apologies for the confusion. The MSI GL65 comes with a 2-year warranty.\n",
            "\n",
            "No more questions\n",
            "\n",
            "Feel free to return if you have any more questions in the future. Have a great day!\n",
            "\n",
            "exit\n",
            "\n",
            "You're welcome! If you have any more questions in the future, feel free to ask. Have a great day! Goodbye!\n",
            "\n"
          ]
        }
      ]
    },
    {
      "cell_type": "code",
      "source": [],
      "metadata": {
        "id": "A2unGol1MgFY"
      },
      "execution_count": null,
      "outputs": []
    }
  ]
}